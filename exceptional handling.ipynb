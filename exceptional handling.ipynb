{
 "cells": [
  {
   "cell_type": "code",
   "execution_count": 3,
   "id": "dd6e6144",
   "metadata": {},
   "outputs": [
    {
     "ename": "ZeroDivisionError",
     "evalue": "division by zero",
     "output_type": "error",
     "traceback": [
      "\u001b[1;31m---------------------------------------------------------------------------\u001b[0m",
      "\u001b[1;31mZeroDivisionError\u001b[0m                         Traceback (most recent call last)",
      "Cell \u001b[1;32mIn[3], line 3\u001b[0m\n\u001b[0;32m      1\u001b[0m x\u001b[38;5;241m=\u001b[39m\u001b[38;5;241m10\u001b[39m\n\u001b[0;32m      2\u001b[0m y\u001b[38;5;241m=\u001b[39m\u001b[38;5;241m0\u001b[39m\n\u001b[1;32m----> 3\u001b[0m \u001b[38;5;28mprint\u001b[39m(\u001b[43mx\u001b[49m\u001b[38;5;241;43m/\u001b[39;49m\u001b[43my\u001b[49m)\n",
      "\u001b[1;31mZeroDivisionError\u001b[0m: division by zero"
     ]
    }
   ],
   "source": [
    "x=10\n",
    "y=0\n",
    "print(x/y)"
   ]
  },
  {
   "cell_type": "code",
   "execution_count": 4,
   "id": "47284bc6",
   "metadata": {},
   "outputs": [
    {
     "name": "stdout",
     "output_type": "stream",
     "text": [
      "cant divide number by zero\n"
     ]
    }
   ],
   "source": [
    "x=10\n",
    "y=0\n",
    "try:\n",
    "    print(x/y)\n",
    "except:\n",
    "    print(\"cant divide number by zero\")\n",
    "    \n",
    "    "
   ]
  },
  {
   "cell_type": "code",
   "execution_count": 4,
   "id": "9b5c2b85",
   "metadata": {},
   "outputs": [
    {
     "name": "stdout",
     "output_type": "stream",
     "text": [
      "itz\n"
     ]
    },
    {
     "ename": "ZeroDivisionError",
     "evalue": "division by zero",
     "output_type": "error",
     "traceback": [
      "\u001b[1;31m---------------------------------------------------------------------------\u001b[0m",
      "\u001b[1;31mZeroDivisionError\u001b[0m                         Traceback (most recent call last)",
      "Cell \u001b[1;32mIn[4], line 4\u001b[0m\n\u001b[0;32m      2\u001b[0m y\u001b[38;5;241m=\u001b[39m\u001b[38;5;241m0\u001b[39m\n\u001b[0;32m      3\u001b[0m \u001b[38;5;28;01mtry\u001b[39;00m:\n\u001b[1;32m----> 4\u001b[0m     \u001b[38;5;28mprint\u001b[39m(\u001b[43mx\u001b[49m\u001b[38;5;241;43m/\u001b[39;49m\u001b[43my\u001b[49m)\n\u001b[0;32m      5\u001b[0m \u001b[38;5;28;01mfinally\u001b[39;00m:\n\u001b[0;32m      6\u001b[0m     \u001b[38;5;28mprint\u001b[39m(\u001b[38;5;124m\"\u001b[39m\u001b[38;5;124mitz\u001b[39m\u001b[38;5;124m\"\u001b[39m)\n",
      "\u001b[1;31mZeroDivisionError\u001b[0m: division by zero"
     ]
    }
   ],
   "source": [
    "x=10\n",
    "y=0\n",
    "try:\n",
    "    print(x/y)\n",
    "finally:\n",
    "    print(\"itz\")\n",
    "    "
   ]
  },
  {
   "cell_type": "code",
   "execution_count": 10,
   "id": "0960387e",
   "metadata": {},
   "outputs": [
    {
     "name": "stdout",
     "output_type": "stream",
     "text": [
      "4\n",
      "0\n",
      "(<class 'ZeroDivisionError'>, ZeroDivisionError('division by zero'), <traceback object at 0x000001FA6CEE8800>)\n"
     ]
    }
   ],
   "source": [
    "import sys\n",
    "x=int(input())\n",
    "y=int(input())\n",
    "try:\n",
    "    print(x/y)\n",
    "except:\n",
    "    print(sys.exc_info())"
   ]
  },
  {
   "cell_type": "code",
   "execution_count": 11,
   "id": "4e991d14",
   "metadata": {},
   "outputs": [
    {
     "name": "stdout",
     "output_type": "stream",
     "text": [
      "5\n",
      "0\n",
      "<class 'ZeroDivisionError'>\n"
     ]
    }
   ],
   "source": [
    "import sys\n",
    "x=int(input())\n",
    "y=int(input())\n",
    "try:\n",
    "    print(x/y)\n",
    "except:\n",
    "    print(sys.exc_info()[0])"
   ]
  },
  {
   "cell_type": "markdown",
   "id": "f2bf3c17",
   "metadata": {},
   "source": [
    "# overflow error"
   ]
  },
  {
   "cell_type": "code",
   "execution_count": 13,
   "id": "e4b93896",
   "metadata": {},
   "outputs": [
    {
     "name": "stdout",
     "output_type": "stream",
     "text": [
      "2.6881171418161356e+43\n"
     ]
    }
   ],
   "source": [
    "import sys\n",
    "import math\n",
    "try:\n",
    "    print(math.exp(100))\n",
    "except:\n",
    "    print(sys.exc_info())"
   ]
  },
  {
   "cell_type": "code",
   "execution_count": 14,
   "id": "fc0cf552",
   "metadata": {},
   "outputs": [
    {
     "name": "stdout",
     "output_type": "stream",
     "text": [
      "1.4035922178528375e+217\n"
     ]
    }
   ],
   "source": [
    "import sys\n",
    "import math\n",
    "try:\n",
    "    print(math.exp(500))\n",
    "except:\n",
    "    print(sys.exc_info())"
   ]
  },
  {
   "cell_type": "code",
   "execution_count": 15,
   "id": "e7b4e58d",
   "metadata": {},
   "outputs": [
    {
     "name": "stdout",
     "output_type": "stream",
     "text": [
      "(<class 'OverflowError'>, OverflowError('math range error'), <traceback object at 0x000001FA6B375A80>)\n"
     ]
    }
   ],
   "source": [
    "import sys\n",
    "import math\n",
    "try:\n",
    "    print(math.exp(10000))\n",
    "except:\n",
    "    print(sys.exc_info())"
   ]
  },
  {
   "cell_type": "markdown",
   "id": "185c5d42",
   "metadata": {},
   "source": [
    "# using finally"
   ]
  },
  {
   "cell_type": "code",
   "execution_count": 16,
   "id": "238d85e5",
   "metadata": {},
   "outputs": [
    {
     "name": "stdout",
     "output_type": "stream",
     "text": [
      "2.6881171418161356e+43\n",
      "program is completed\n"
     ]
    }
   ],
   "source": [
    "import sys\n",
    "import math\n",
    "try:\n",
    "    print(math.exp(100))\n",
    "except:\n",
    "    print(sys.exc_info())\n",
    "finally:\n",
    "    print(\"program is completed\")"
   ]
  },
  {
   "cell_type": "code",
   "execution_count": 3,
   "id": "9ac87e2d",
   "metadata": {},
   "outputs": [
    {
     "ename": "SyntaxError",
     "evalue": "incomplete input (4284467237.py, line 4)",
     "output_type": "error",
     "traceback": [
      "\u001b[1;36m  Cell \u001b[1;32mIn[3], line 4\u001b[1;36m\u001b[0m\n\u001b[1;33m    \u001b[0m\n\u001b[1;37m    ^\u001b[0m\n\u001b[1;31mSyntaxError\u001b[0m\u001b[1;31m:\u001b[0m incomplete input\n"
     ]
    }
   ],
   "source": [
    "import math\n",
    "try:\n",
    "    print(math.exp(1000000))\n",
    "    "
   ]
  },
  {
   "cell_type": "code",
   "execution_count": 18,
   "id": "ad640534",
   "metadata": {},
   "outputs": [
    {
     "name": "stdout",
     "output_type": "stream",
     "text": [
      "(<class 'OverflowError'>, OverflowError('math range error'), <traceback object at 0x000001FA6B375A80>)\n",
      "program is completed\n"
     ]
    }
   ],
   "source": [
    "import sys\n",
    "import math\n",
    "try:\n",
    "    print(math.exp(10000))\n",
    "except:\n",
    "    print(sys.exc_info())\n",
    "finally:\n",
    "    print(\"program is completed\")    "
   ]
  },
  {
   "cell_type": "markdown",
   "id": "55232560",
   "metadata": {},
   "source": [
    "# using else"
   ]
  },
  {
   "cell_type": "code",
   "execution_count": 19,
   "id": "f6dd3889",
   "metadata": {},
   "outputs": [
    {
     "name": "stdout",
     "output_type": "stream",
     "text": [
      "22026.465794806718\n",
      "no exception occured\n",
      "program is completed\n"
     ]
    }
   ],
   "source": [
    "try:\n",
    "    print(math.exp(10))\n",
    "except:\n",
    "    print(sys.exc_info())\n",
    "else:\n",
    "    print(\"no exception occured\")\n",
    "finally:\n",
    "    \n",
    "    print(\"program is completed\")"
   ]
  },
  {
   "cell_type": "code",
   "execution_count": 20,
   "id": "c60f618b",
   "metadata": {},
   "outputs": [
    {
     "name": "stdout",
     "output_type": "stream",
     "text": [
      "(<class 'OverflowError'>, OverflowError('math range error'), <traceback object at 0x000001FA6B375A80>)\n",
      "program is completed\n"
     ]
    }
   ],
   "source": [
    "try:\n",
    "    print(math.exp(10000))\n",
    "except:\n",
    "    print(sys.exc_info())\n",
    "else:\n",
    "    print(\"no exception occured\")\n",
    "finally:\n",
    "    \n",
    "    print(\"program is completed\")"
   ]
  },
  {
   "cell_type": "code",
   "execution_count": 21,
   "id": "2d196150",
   "metadata": {},
   "outputs": [
    {
     "name": "stdout",
     "output_type": "stream",
     "text": [
      "program is completed\n"
     ]
    },
    {
     "ename": "OverflowError",
     "evalue": "math range error",
     "output_type": "error",
     "traceback": [
      "\u001b[1;31m---------------------------------------------------------------------------\u001b[0m",
      "\u001b[1;31mOverflowError\u001b[0m                             Traceback (most recent call last)",
      "Cell \u001b[1;32mIn[21], line 2\u001b[0m\n\u001b[0;32m      1\u001b[0m \u001b[38;5;28;01mtry\u001b[39;00m:\n\u001b[1;32m----> 2\u001b[0m     \u001b[38;5;28mprint\u001b[39m(\u001b[43mmath\u001b[49m\u001b[38;5;241;43m.\u001b[39;49m\u001b[43mexp\u001b[49m\u001b[43m(\u001b[49m\u001b[38;5;241;43m10000\u001b[39;49m\u001b[43m)\u001b[49m)\n\u001b[0;32m      3\u001b[0m \u001b[38;5;28;01mfinally\u001b[39;00m:\n\u001b[0;32m      4\u001b[0m     \u001b[38;5;28mprint\u001b[39m(\u001b[38;5;124m\"\u001b[39m\u001b[38;5;124mprogram is completed\u001b[39m\u001b[38;5;124m\"\u001b[39m)\n",
      "\u001b[1;31mOverflowError\u001b[0m: math range error"
     ]
    }
   ],
   "source": [
    "try:\n",
    "    print(math.exp(10000))\n",
    "finally:\n",
    "    print(\"program is completed\")\n",
    "    "
   ]
  },
  {
   "cell_type": "markdown",
   "id": "d2116663",
   "metadata": {},
   "source": [
    "# name error"
   ]
  },
  {
   "cell_type": "code",
   "execution_count": 22,
   "id": "e9567335",
   "metadata": {},
   "outputs": [
    {
     "name": "stdout",
     "output_type": "stream",
     "text": [
      "(<class 'NameError'>, NameError(\"name 'h' is not defined\"), <traceback object at 0x000001FA6AD32300>)\n",
      "program is completed\n"
     ]
    }
   ],
   "source": [
    "try:\n",
    "    print(h)\n",
    "except:\n",
    "    print(sys.exc_info())\n",
    "finally:\n",
    "    print(\"program is completed\")"
   ]
  },
  {
   "cell_type": "code",
   "execution_count": 23,
   "id": "0f492a12",
   "metadata": {},
   "outputs": [
    {
     "name": "stdout",
     "output_type": "stream",
     "text": [
      "mru\n",
      "program is completed\n"
     ]
    }
   ],
   "source": [
    "h=\"mru\"\n",
    "try:\n",
    "    print(h)\n",
    "except:\n",
    "    print(sys.exc_info())\n",
    "finally:\n",
    "    print(\"program is completed\")"
   ]
  },
  {
   "cell_type": "markdown",
   "id": "73e142ef",
   "metadata": {},
   "source": [
    "# type error"
   ]
  },
  {
   "cell_type": "code",
   "execution_count": 24,
   "id": "56fe5d38",
   "metadata": {},
   "outputs": [
    {
     "name": "stdout",
     "output_type": "stream",
     "text": [
      "(<class 'TypeError'>, TypeError(\"unsupported operand type(s) for /: 'int' and 'str'\"), <traceback object at 0x000001FA6CEC5700>)\n",
      "the program is completed\n"
     ]
    }
   ],
   "source": [
    "x=10\n",
    "y=\"hello\"\n",
    "try:\n",
    "    print(x/y)\n",
    "except:\n",
    "    print(sys.exc_info())\n",
    "else:\n",
    "    print(\"error is not occured\")\n",
    "finally:\n",
    "    print(\"the program is completed\")"
   ]
  },
  {
   "cell_type": "code",
   "execution_count": 6,
   "id": "1cbe7075",
   "metadata": {},
   "outputs": [
    {
     "ename": "NameError",
     "evalue": "name 'valueError' is not defined",
     "output_type": "error",
     "traceback": [
      "\u001b[1;31m---------------------------------------------------------------------------\u001b[0m",
      "\u001b[1;31mNameError\u001b[0m                                 Traceback (most recent call last)",
      "Cell \u001b[1;32mIn[6], line 5\u001b[0m\n\u001b[0;32m      3\u001b[0m         \u001b[38;5;28;01mraise\u001b[39;00m valueError(\u001b[38;5;124m\"\u001b[39m\u001b[38;5;124myou cant divide\u001b[39m\u001b[38;5;124m\"\u001b[39m)\n\u001b[0;32m      4\u001b[0m     \u001b[38;5;28;01mreturn\u001b[39;00m n1\u001b[38;5;241m/\u001b[39mn2\n\u001b[1;32m----> 5\u001b[0m result\u001b[38;5;241m=\u001b[39m\u001b[43mdivide\u001b[49m\u001b[43m(\u001b[49m\u001b[38;5;241;43m34\u001b[39;49m\u001b[43m,\u001b[49m\u001b[38;5;241;43m0\u001b[39;49m\u001b[43m)\u001b[49m\n\u001b[0;32m      6\u001b[0m \u001b[38;5;28mprint\u001b[39m(result)\n",
      "Cell \u001b[1;32mIn[6], line 3\u001b[0m, in \u001b[0;36mdivide\u001b[1;34m(n1, n2)\u001b[0m\n\u001b[0;32m      1\u001b[0m \u001b[38;5;28;01mdef\u001b[39;00m \u001b[38;5;21mdivide\u001b[39m(n1,n2):\n\u001b[0;32m      2\u001b[0m     \u001b[38;5;28;01mif\u001b[39;00m n2\u001b[38;5;241m==\u001b[39m\u001b[38;5;241m0\u001b[39m:\n\u001b[1;32m----> 3\u001b[0m         \u001b[38;5;28;01mraise\u001b[39;00m \u001b[43mvalueError\u001b[49m(\u001b[38;5;124m\"\u001b[39m\u001b[38;5;124myou cant divide\u001b[39m\u001b[38;5;124m\"\u001b[39m)\n\u001b[0;32m      4\u001b[0m     \u001b[38;5;28;01mreturn\u001b[39;00m n1\u001b[38;5;241m/\u001b[39mn2\n",
      "\u001b[1;31mNameError\u001b[0m: name 'valueError' is not defined"
     ]
    }
   ],
   "source": [
    "def divide(n1,n2):\n",
    "    if n2==0:\n",
    "        raise valueError(\"you cant divide\")\n",
    "    return n1/n2\n",
    "result=divide(34,0)\n",
    "print(result)"
   ]
  },
  {
   "cell_type": "code",
   "execution_count": null,
   "id": "1046045e",
   "metadata": {},
   "outputs": [],
   "source": []
  }
 ],
 "metadata": {
  "kernelspec": {
   "display_name": "Python 3 (ipykernel)",
   "language": "python",
   "name": "python3"
  },
  "language_info": {
   "codemirror_mode": {
    "name": "ipython",
    "version": 3
   },
   "file_extension": ".py",
   "mimetype": "text/x-python",
   "name": "python",
   "nbconvert_exporter": "python",
   "pygments_lexer": "ipython3",
   "version": "3.10.9"
  }
 },
 "nbformat": 4,
 "nbformat_minor": 5
}
