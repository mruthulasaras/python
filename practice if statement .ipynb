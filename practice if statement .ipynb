{
 "cells": [
  {
   "cell_type": "markdown",
   "id": "aa67543f",
   "metadata": {},
   "source": [
    "#                                    conditional statement"
   ]
  },
  {
   "cell_type": "markdown",
   "id": "48ccf120",
   "metadata": {},
   "source": [
    "# 1) odd or even"
   ]
  },
  {
   "cell_type": "code",
   "execution_count": 1,
   "id": "e4d130de",
   "metadata": {},
   "outputs": [
    {
     "name": "stdout",
     "output_type": "stream",
     "text": [
      "2\n",
      "the number is even\n"
     ]
    }
   ],
   "source": [
    "x=int(input())\n",
    "if x%2==0:\n",
    "    print(\"the number is even\")\n",
    "else:\n",
    "    print(\"the number is odd\")\n"
   ]
  },
  {
   "cell_type": "markdown",
   "id": "a0aed504",
   "metadata": {},
   "source": [
    "# 2) vowels and consonant"
   ]
  },
  {
   "cell_type": "code",
   "execution_count": 2,
   "id": "754b49fe",
   "metadata": {},
   "outputs": [
    {
     "name": "stdout",
     "output_type": "stream",
     "text": [
      "enter the character: a\n",
      "vowels\n"
     ]
    }
   ],
   "source": [
    "vowels=('a','e','i','o','u')\n",
    "v=str(input(\"enter the character: \")).lower()   # if we give the caps vowels it convert to lower and print because list is lower\n",
    "if v in vowels:\n",
    "    print(\"vowels\")\n",
    "else:\n",
    "    print(\"consonant\")"
   ]
  },
  {
   "cell_type": "markdown",
   "id": "cf0a30ff",
   "metadata": {},
   "source": [
    "# 3) voting age"
   ]
  },
  {
   "cell_type": "code",
   "execution_count": 3,
   "id": "58f74834",
   "metadata": {},
   "outputs": [
    {
     "name": "stdout",
     "output_type": "stream",
     "text": [
      "enter the age -21\n",
      "yup!you are eligible 21\n",
      "thankyou\n"
     ]
    }
   ],
   "source": [
    "age=int(input(\"enter the age -\"))\n",
    "if age>=18:\n",
    "    print(\"yup!you are eligible\",age)\n",
    "else:\n",
    "    print(\"sorry!you are not eligible\",age)\n",
    "print(\"thankyou\")    "
   ]
  },
  {
   "cell_type": "markdown",
   "id": "beadb46c",
   "metadata": {},
   "source": [
    "# 4)positive ,negative and zero"
   ]
  },
  {
   "cell_type": "code",
   "execution_count": 4,
   "id": "f65cc5ff",
   "metadata": {},
   "outputs": [
    {
     "name": "stdout",
     "output_type": "stream",
     "text": [
      "enter the number - -1\n",
      "negative\n"
     ]
    }
   ],
   "source": [
    "x=int(input(\"enter the number - \"))\n",
    "if x>0:\n",
    "    print(\"positive\")\n",
    "elif x<0:\n",
    "    print(\"negative\")\n",
    "else:\n",
    "    print(\"zero\")\n"
   ]
  },
  {
   "cell_type": "markdown",
   "id": "3eee0493",
   "metadata": {},
   "source": [
    "# 5)check triangle equilateral,isosceles or scalene"
   ]
  },
  {
   "cell_type": "code",
   "execution_count": 6,
   "id": "960d983c",
   "metadata": {},
   "outputs": [
    {
     "name": "stdout",
     "output_type": "stream",
     "text": [
      "enter the first side- 3\n",
      "enter the second side- 3\n",
      "enter the third side- 8\n",
      "isosceles triangle\n"
     ]
    }
   ],
   "source": [
    "a=int(input(\"enter the first side- \"))\n",
    "b=int(input(\"enter the second side- \"))\n",
    "c=int(input(\"enter the third side- \"))\n",
    "if a==b==c:\n",
    "    print(\"equilateral triangle\")\n",
    "elif a==b or b==c or c==a:\n",
    "    print(\"isosceles triangle\")\n",
    "else:\n",
    "    print(\"scalene\")"
   ]
  },
  {
   "cell_type": "markdown",
   "id": "f89f14cd",
   "metadata": {},
   "source": [
    "# 6)profit or loss"
   ]
  },
  {
   "cell_type": "code",
   "execution_count": 7,
   "id": "dc887423",
   "metadata": {},
   "outputs": [
    {
     "name": "stdout",
     "output_type": "stream",
     "text": [
      "enter the cost price -32\n",
      "enter the selling price -23\n",
      "loss\n"
     ]
    }
   ],
   "source": [
    "A=int(input(\"enter the cost price -\"))\n",
    "B=int(input(\"enter the selling price -\"))\n",
    "if A<B:\n",
    "    print(\"profit\")\n",
    "else:\n",
    "    print(\"loss\")"
   ]
  },
  {
   "cell_type": "markdown",
   "id": "21a81f37",
   "metadata": {},
   "source": [
    "# 7) print the greatest number"
   ]
  },
  {
   "cell_type": "code",
   "execution_count": 8,
   "id": "8c50210c",
   "metadata": {},
   "outputs": [
    {
     "name": "stdout",
     "output_type": "stream",
     "text": [
      "enter the number 100\n",
      "enter the number 200\n",
      "b is greater that is  200\n"
     ]
    }
   ],
   "source": [
    "a=int(input(\"enter the number \"))\n",
    "b=int(input(\"enter the number \"))\n",
    "if a>b:\n",
    "    print(\"a is greater that is \",a)\n",
    "else:\n",
    "    print(\"b is greater that is \",b)"
   ]
  },
  {
   "cell_type": "markdown",
   "id": "3d2af0f1",
   "metadata": {},
   "source": [
    "# 8) print the smallest number"
   ]
  },
  {
   "cell_type": "code",
   "execution_count": 9,
   "id": "b86bf2ce",
   "metadata": {},
   "outputs": [
    {
     "name": "stdout",
     "output_type": "stream",
     "text": [
      "enter the number 100\n",
      "enter the number 200\n",
      "a is smallest that is  100\n"
     ]
    }
   ],
   "source": [
    "a=int(input(\"enter the number \"))\n",
    "b=int(input(\"enter the number \"))\n",
    "if a<b:\n",
    "    print(\"a is smallest that is \",a)\n",
    "else:\n",
    "    print(\"b is smallest that is \",b)"
   ]
  },
  {
   "cell_type": "markdown",
   "id": "2183c22b",
   "metadata": {},
   "source": [
    "# 9)print the greatest number of three inputs"
   ]
  },
  {
   "cell_type": "code",
   "execution_count": 10,
   "id": "4f577089",
   "metadata": {},
   "outputs": [
    {
     "name": "stdout",
     "output_type": "stream",
     "text": [
      "enter the number 12\n",
      "enter the number 45\n",
      "enter the number 89\n",
      "c is greater\n"
     ]
    }
   ],
   "source": [
    "a=int(input(\"enter the number \"))\n",
    "b=int(input(\"enter the number \"))\n",
    "c=int(input(\"enter the number \"))\n",
    "if a>b and a>c:\n",
    "    print(\"a is greater\")\n",
    "elif b>a and b>c:\n",
    "    print(\"b is greater\")\n",
    "elif c>a and c>b:\n",
    "    print(\"c is greater\")\n",
    "else:\n",
    "    print(\"invalid condition\")\n",
    "    \n",
    "    "
   ]
  },
  {
   "cell_type": "markdown",
   "id": "a4cd2a29",
   "metadata": {},
   "source": [
    "# 10)print the smallest number of three inputs"
   ]
  },
  {
   "cell_type": "code",
   "execution_count": 11,
   "id": "7d5650cc",
   "metadata": {},
   "outputs": [
    {
     "name": "stdout",
     "output_type": "stream",
     "text": [
      "enter the number 34\n",
      "enter the number 78\n",
      "enter the number 90\n",
      "a is small\n"
     ]
    }
   ],
   "source": [
    "a=int(input(\"enter the number \"))\n",
    "b=int(input(\"enter the number \"))\n",
    "c=int(input(\"enter the number \"))\n",
    "if a<b and a<c:\n",
    "    print(\"a is small\")\n",
    "elif b<a and b<c:\n",
    "    print(\"b is small\")\n",
    "elif c<a and c<b:\n",
    "    print(\"c is small\")\n",
    "else:\n",
    "    print(\"invalid condition\")\n",
    "    "
   ]
  },
  {
   "cell_type": "markdown",
   "id": "e31d6c32",
   "metadata": {},
   "source": [
    "# 11) print the days of week"
   ]
  },
  {
   "cell_type": "code",
   "execution_count": 12,
   "id": "7d301dd7",
   "metadata": {},
   "outputs": [
    {
     "name": "stdout",
     "output_type": "stream",
     "text": [
      "2\n",
      "monday\n"
     ]
    }
   ],
   "source": [
    "x=int(input())\n",
    "if x==1:\n",
    "    print(\"sunday\")\n",
    "elif x==2:\n",
    "    print(\"monday\")\n",
    "elif x==3:\n",
    "    print(\"tuesday\")\n",
    "elif x==4:\n",
    "    print(\"wed\")\n",
    "elif x==5:\n",
    "    print(\"thu\")\n",
    "elif x==6:\n",
    "    print(\"fri\")\n",
    "elif x==7:\n",
    "    print(\"sat\")\n",
    "else:\n",
    "    print(\"invalid\")\n",
    "    "
   ]
  },
  {
   "cell_type": "markdown",
   "id": "29d01479",
   "metadata": {},
   "source": [
    "# 12) leap year or not"
   ]
  },
  {
   "cell_type": "code",
   "execution_count": 13,
   "id": "22fc73e8",
   "metadata": {},
   "outputs": [
    {
     "name": "stdout",
     "output_type": "stream",
     "text": [
      "enter the year :  2000\n",
      "leap year 2000\n"
     ]
    }
   ],
   "source": [
    "year=int(input(\"enter the year :  \"))\n",
    "if year%4==0:\n",
    "    print(\"leap year\",year)\n",
    "elif year%400==0 and year%100==0:\n",
    "    print(\"leap year1\",year)\n",
    "else:\n",
    "    print(\"not a leap year\")\n",
    "    \n",
    "    "
   ]
  },
  {
   "cell_type": "markdown",
   "id": "cd1db50e",
   "metadata": {},
   "source": [
    "# 13) print the months"
   ]
  },
  {
   "cell_type": "code",
   "execution_count": 14,
   "id": "16fea7b2",
   "metadata": {},
   "outputs": [
    {
     "name": "stdout",
     "output_type": "stream",
     "text": [
      "4\n",
      "apr\n"
     ]
    }
   ],
   "source": [
    "x=int(input())\n",
    "if x==1:\n",
    "    print(\"jan\")\n",
    "elif x==2:\n",
    "    print(\"feb\")\n",
    "elif x==3:\n",
    "    print(\"mar\")\n",
    "elif x==4:\n",
    "    print(\"apr\")\n",
    "elif x==5:\n",
    "    print(\"may\")\n",
    "elif x==6:\n",
    "    print(\"jun\")\n",
    "elif x==7:\n",
    "    print(\"july\")\n",
    "elif x==8:\n",
    "    print(\"aug\")\n",
    "elif x==9:\n",
    "    print(\"sep\")\n",
    "elif x==10:\n",
    "    print(\"oct\")\n",
    "elif x==11:\n",
    "    print(\"nov\")\n",
    "elif x==12:\n",
    "    print(\"dec\")\n",
    "else:\n",
    "    print(\"invalid\")\n"
   ]
  },
  {
   "cell_type": "markdown",
   "id": "537d4dee",
   "metadata": {},
   "source": [
    "# 14) print the net bonus amount"
   ]
  },
  {
   "cell_type": "code",
   "execution_count": 15,
   "id": "fb4fd234",
   "metadata": {},
   "outputs": [
    {
     "name": "stdout",
     "output_type": "stream",
     "text": [
      "eneter the  year of service: 3\n",
      "enter the salary: 20000\n",
      "invalid \n"
     ]
    }
   ],
   "source": [
    "service=int(input(\"enter the  year of service: \"))\n",
    "salary=int(input(\"enter the salary: \"))\n",
    "if service>5:\n",
    "    bonus=salary*5/100\n",
    "    print(\"wow itz your bonus is \",bonus)\n",
    "else:\n",
    "    print(\"invalid \")"
   ]
  },
  {
   "cell_type": "markdown",
   "id": "0143ba0b",
   "metadata": {},
   "source": [
    "# 15)rectangle check square or not"
   ]
  },
  {
   "cell_type": "code",
   "execution_count": 16,
   "id": "e5d7a415",
   "metadata": {},
   "outputs": [
    {
     "name": "stdout",
     "output_type": "stream",
     "text": [
      "length of the rectangle-20\n",
      "breadth of the rectangle-20\n",
      "it is the square\n"
     ]
    }
   ],
   "source": [
    "length=int(input(\"length of the rectangle-\"))\n",
    "breadth=int(input(\"breadth of the rectangle-\"))\n",
    "if length==breadth:\n",
    "    print(\"it is the square\")\n",
    "else:\n",
    "    print(\" it is not a square\")"
   ]
  },
  {
   "cell_type": "markdown",
   "id": "d16cf237",
   "metadata": {},
   "source": [
    "# 16) determine the oldest and youngest"
   ]
  },
  {
   "cell_type": "code",
   "execution_count": 17,
   "id": "79830e6c",
   "metadata": {},
   "outputs": [
    {
     "name": "stdout",
     "output_type": "stream",
     "text": [
      "enter the age-23\n",
      "enter the age-45\n",
      "enter the age-78\n",
      " person3 is older \n",
      " person1 is younger \n"
     ]
    }
   ],
   "source": [
    "person1=int(input(\"enter the age-\"))\n",
    "person2=int(input(\"enter the age-\"))\n",
    "person3=int(input(\"enter the age-\"))\n",
    "if person1>person2 and person1>person3:\n",
    "    print(\" person1 is older \")\n",
    "elif person2>person1 and person2>person3:\n",
    "    print(\" person2 is older \")\n",
    "else:\n",
    "    print(\" person3 is older \")\n",
    "if person1<person2 and person1<person3:\n",
    "    print(\" person1 is younger \")\n",
    "elif person2<person1 and person2<person3:\n",
    "    print(\" person2 is younger \")\n",
    "else: \n",
    "    print(\" person3 is younger \")    \n",
    "    \n",
    "    "
   ]
  },
  {
   "cell_type": "markdown",
   "id": "455dc159",
   "metadata": {},
   "source": [
    "# 17)grading system"
   ]
  },
  {
   "cell_type": "code",
   "execution_count": 18,
   "id": "b111fc79",
   "metadata": {},
   "outputs": [
    {
     "name": "stdout",
     "output_type": "stream",
     "text": [
      "enter the marks : 56\n",
      "grade c 56\n"
     ]
    }
   ],
   "source": [
    "marks=int(input(\"enter the marks : \"))\n",
    "if marks>80:\n",
    "    print(\"grade A\", marks)\n",
    "elif marks<=80 and marks>60:\n",
    "    print(\"grade B\", marks)\n",
    "elif marks<=60 and marks>50:\n",
    "    print(\"grade c\", marks)\n",
    "elif marks<=50 and marks>45:\n",
    "    print(\"grade D\", marks)\n",
    "elif marks<=45 and marks>25:\n",
    "    print(\"grade E\", marks)\n",
    "else:\n",
    "    print(\"grade F\", marks)\n",
    "    "
   ]
  },
  {
   "cell_type": "markdown",
   "id": "1e911b12",
   "metadata": {},
   "source": [
    "# 18) perform the following operations"
   ]
  },
  {
   "cell_type": "markdown",
   "id": "a68b763c",
   "metadata": {},
   "source": [
    "# addition"
   ]
  },
  {
   "cell_type": "code",
   "execution_count": 20,
   "id": "c995073d",
   "metadata": {},
   "outputs": [
    {
     "name": "stdout",
     "output_type": "stream",
     "text": [
      "enter the number 2\n",
      "enter the number 3\n",
      "sum is 5\n"
     ]
    }
   ],
   "source": [
    "a=int(input(\"enter the number \"))\n",
    "b=int(input(\"enter the number \"))\n",
    "if (a>=1 and a<=4) & (b>=1 and b<=4):\n",
    "    sum=a+b\n",
    "    print(\"sum is\",sum)\n",
    "else:\n",
    "    print(\"plz enter the correct number\")\n",
    "\n",
    "    "
   ]
  },
  {
   "cell_type": "markdown",
   "id": "744e4933",
   "metadata": {},
   "source": [
    "# subtraction"
   ]
  },
  {
   "cell_type": "code",
   "execution_count": 21,
   "id": "592680c8",
   "metadata": {},
   "outputs": [
    {
     "name": "stdout",
     "output_type": "stream",
     "text": [
      "enter the number 34\n",
      "enter the number 7\n",
      "plz enter the correct number\n"
     ]
    }
   ],
   "source": [
    "a=int(input(\"enter the number \"))\n",
    "b=int(input(\"enter the number \"))\n",
    "if (a>=1 and a<=4) & (b>=1 and b<=4):\n",
    "    sub=a-b\n",
    "    print(\"sub is\",sub)\n",
    "else:\n",
    "    print(\"plz enter the correct number\")\n"
   ]
  },
  {
   "cell_type": "markdown",
   "id": "5a955452",
   "metadata": {},
   "source": [
    "# multiplication"
   ]
  },
  {
   "cell_type": "code",
   "execution_count": 10,
   "id": "ce918778",
   "metadata": {},
   "outputs": [
    {
     "name": "stdout",
     "output_type": "stream",
     "text": [
      "enter the number 2\n",
      "enter the number 3\n",
      "mul is 6\n"
     ]
    }
   ],
   "source": [
    "a=int(input(\"enter the number \"))\n",
    "b=int(input(\"enter the number \"))\n",
    "if (a>=1 and a<=4) & (b>=1 and b<=4):\n",
    "    mul=a*b\n",
    "    print(\"mul is\",mul)\n",
    "else:\n",
    "    print(\"plz enter the correct number\")"
   ]
  },
  {
   "cell_type": "markdown",
   "id": "9e4f9c3c",
   "metadata": {},
   "source": [
    "# division"
   ]
  },
  {
   "cell_type": "code",
   "execution_count": 13,
   "id": "dbbdf0ae",
   "metadata": {},
   "outputs": [
    {
     "name": "stdout",
     "output_type": "stream",
     "text": [
      "enter the number 4\n",
      "enter the number 2\n",
      "div is 2.0\n"
     ]
    }
   ],
   "source": [
    "a=int(input(\"enter the number \"))\n",
    "b=int(input(\"enter the number \"))\n",
    "if (a>=1 and a<=4) & (b>=1 and b<=4):\n",
    "    div=a/b\n",
    "    print(\"div is\",div)\n",
    "else:\n",
    "    print(\"plz enter the correct number\")"
   ]
  },
  {
   "cell_type": "markdown",
   "id": "792805d0",
   "metadata": {},
   "source": [
    "# 19) calculate the roots of quadratic eqn"
   ]
  },
  {
   "cell_type": "code",
   "execution_count": 16,
   "id": "d1782330",
   "metadata": {},
   "outputs": [
    {
     "name": "stdout",
     "output_type": "stream",
     "text": [
      "enter the value 1\n",
      "enter the value -8\n",
      "enter the value 5\n",
      "44\n",
      "there is two real roots\n"
     ]
    }
   ],
   "source": [
    "a=int(input(\"enter the value \"))\n",
    "b=int(input(\"enter the value \"))\n",
    "c=int(input(\"enter the value \"))\n",
    "dis=(b**2)-(4*a*c)\n",
    "print(dis)\n",
    "if dis==0:\n",
    "    print(\"there is one real root\")\n",
    "elif dis>0:\n",
    "    print(\"there is two real roots\")\n",
    "else:\n",
    "    print(\"there are two complex roots\")\n",
    "    "
   ]
  },
  {
   "cell_type": "markdown",
   "id": "c01ebb9c",
   "metadata": {},
   "source": [
    "# 20) student not allowed sit in exam attendence is less than 75%"
   ]
  },
  {
   "cell_type": "code",
   "execution_count": 21,
   "id": "846cb08d",
   "metadata": {},
   "outputs": [
    {
     "name": "stdout",
     "output_type": "stream",
     "text": [
      "no of classes held-10\n",
      "no of class attend-8\n",
      "80.0\n",
      "allowed to sit in exam\n"
     ]
    }
   ],
   "source": [
    "a=int(input(\"no of classes held-\"))\n",
    "b=int(input(\"no of class attend-\"))\n",
    "c=b/a*100\n",
    "print(c)\n",
    "if c<75:\n",
    "    print('not allowed to sit in exam')\n",
    "else:\n",
    "    print('allowed to sit in exam')\n",
    "    \n",
    "    \n",
    "\n"
   ]
  },
  {
   "cell_type": "code",
   "execution_count": null,
   "id": "738e280a",
   "metadata": {},
   "outputs": [],
   "source": []
  },
  {
   "cell_type": "code",
   "execution_count": null,
   "id": "9b4069d0",
   "metadata": {},
   "outputs": [],
   "source": []
  }
 ],
 "metadata": {
  "kernelspec": {
   "display_name": "Python 3 (ipykernel)",
   "language": "python",
   "name": "python3"
  },
  "language_info": {
   "codemirror_mode": {
    "name": "ipython",
    "version": 3
   },
   "file_extension": ".py",
   "mimetype": "text/x-python",
   "name": "python",
   "nbconvert_exporter": "python",
   "pygments_lexer": "ipython3",
   "version": "3.10.9"
  }
 },
 "nbformat": 4,
 "nbformat_minor": 5
}
