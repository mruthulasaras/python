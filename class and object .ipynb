{
 "cells": [
  {
   "cell_type": "markdown",
   "id": "25d0bd71",
   "metadata": {},
   "source": [
    "# assignment of class and objects"
   ]
  },
  {
   "cell_type": "code",
   "execution_count": 23,
   "id": "c4339507",
   "metadata": {},
   "outputs": [],
   "source": [
    "class rectangle:\n",
    "    def area(self,length,width):\n",
    "        area_of_rect=length*width\n",
    "        print(area_of_rect)\n",
    "    def perimeter(self,l,b):\n",
    "        per=(2*l)+(2*b)\n",
    "        print(per)"
   ]
  },
  {
   "cell_type": "code",
   "execution_count": 24,
   "id": "af59c359",
   "metadata": {},
   "outputs": [
    {
     "name": "stdout",
     "output_type": "stream",
     "text": [
      "16\n",
      "4\n"
     ]
    }
   ],
   "source": [
    "a=rectangle()\n",
    "a.area(4,4)\n",
    "a.perimeter(1,1)"
   ]
  },
  {
   "cell_type": "code",
   "execution_count": 35,
   "id": "8bbb9066",
   "metadata": {},
   "outputs": [],
   "source": [
    "class circle:\n",
    "    \n",
    "    def area(self,radius):\n",
    "        cal=3.14*radius*radius\n",
    "        print(cal)\n",
    "    def perimeter(self,radius):\n",
    "        cal1=3.14*2*radius\n",
    "        print(cal1)\n"
   ]
  },
  {
   "cell_type": "code",
   "execution_count": 37,
   "id": "6813e03a",
   "metadata": {},
   "outputs": [
    {
     "name": "stdout",
     "output_type": "stream",
     "text": [
      "200.96\n",
      "50.24\n"
     ]
    }
   ],
   "source": [
    "o=circle()\n",
    "o.area(8)\n",
    "o.perimeter(8)"
   ]
  },
  {
   "cell_type": "code",
   "execution_count": 41,
   "id": "6b885d62",
   "metadata": {},
   "outputs": [],
   "source": [
    "class person():\n",
    "    def introduce(self,name,age,gender):\n",
    "        self.name=name\n",
    "        self.age=age\n",
    "        self.gender=gender\n",
    "    def display(self):\n",
    "        print(\"my name is-\",self.name)\n",
    "        print(\"age-\",self.age)\n",
    "        print(\"gender is-\",self.gender)\n",
    "\n"
   ]
  },
  {
   "cell_type": "code",
   "execution_count": 42,
   "id": "064f6d1e",
   "metadata": {},
   "outputs": [],
   "source": [
    "obj=person()"
   ]
  },
  {
   "cell_type": "code",
   "execution_count": 43,
   "id": "b751bf95",
   "metadata": {},
   "outputs": [
    {
     "name": "stdout",
     "output_type": "stream",
     "text": [
      "my name is- mru\n",
      "age- 23\n",
      "gender is- female\n"
     ]
    }
   ],
   "source": [
    "obj.introduce(\"mru\",23,'female')\n",
    "obj.display()"
   ]
  },
  {
   "cell_type": "code",
   "execution_count": 46,
   "id": "23b76b75",
   "metadata": {},
   "outputs": [],
   "source": [
    "class vehicle:\n",
    "    def start_engine(self,make,model,car):\n",
    "        self.m=make\n",
    "        self.mo=model\n",
    "        self.c=car\n",
    "        print(\"engine has started\",self.m,self.mo,self.c)\n",
    "        \n",
    "        \n",
    "    "
   ]
  },
  {
   "cell_type": "code",
   "execution_count": 47,
   "id": "f8a7ac69",
   "metadata": {},
   "outputs": [
    {
     "name": "stdout",
     "output_type": "stream",
     "text": [
      "engine has started tata sumo 1994\n"
     ]
    }
   ],
   "source": [
    "obj=vehicle()\n",
    "obj.start_engine(\"tata\",\"sumo\",1994)"
   ]
  },
  {
   "cell_type": "code",
   "execution_count": 5,
   "id": "68bf3596",
   "metadata": {},
   "outputs": [],
   "source": [
    "class bankaccount:\n",
    "    def __init__(self,balance,interest_rate):\n",
    "        self.b=b\n",
    "        self.i=i\n",
    "    def deposit(self,d):\n",
    "        self.d=d\n",
    "    def show(self):\n",
    "        self.d=self.d+self.b\n",
    "        print(self.d)\n",
    "        \n",
    "    def withdraw(self,w):\n",
    "        self.w=self.w-self.b\n",
    "        print(self.w)\n",
    "    def interest(self):\n",
    "        self.i=self.b*self.i\n",
    "        print(self.i)"
   ]
  },
  {
   "cell_type": "code",
   "execution_count": 22,
   "id": "cdd78901",
   "metadata": {},
   "outputs": [],
   "source": [
    "class bankaccount:\n",
    "    def __init__(self,balance,interest):\n",
    "        self.b=balance\n",
    "        self.i=interest\n",
    "        \n",
    "    def deposit(self,d):\n",
    "        self.d=d\n",
    "    def show(self):\n",
    "        self.d=self.d+self.b\n",
    "        print(self.d)\n",
    "        \n",
    "    def withdraw(self,w):\n",
    "        self.w=w\n",
    "    def show1(self):\n",
    "        self.w=self.b-self.w\n",
    "        print(self.w) \n",
    "        \n",
    "    def show2(self):\n",
    "        self.i=self.b*self.i\n",
    "        print(self.i)\n",
    "        \n",
    "        "
   ]
  },
  {
   "cell_type": "code",
   "execution_count": 23,
   "id": "84924fc9",
   "metadata": {},
   "outputs": [
    {
     "name": "stdout",
     "output_type": "stream",
     "text": [
      "1100\n",
      "500\n",
      "5000\n"
     ]
    }
   ],
   "source": [
    "obj=bankaccount(1000,5)\n",
    "obj.deposit(100)\n",
    "obj.show()\n",
    "obj.withdraw(500)\n",
    "obj.show1()\n",
    "obj.show2()\n"
   ]
  },
  {
   "cell_type": "code",
   "execution_count": null,
   "id": "4b6aafcf",
   "metadata": {},
   "outputs": [],
   "source": []
  },
  {
   "cell_type": "markdown",
   "id": "a74ea880",
   "metadata": {},
   "source": [
    "# practice during session"
   ]
  },
  {
   "cell_type": "code",
   "execution_count": 4,
   "id": "08006321",
   "metadata": {},
   "outputs": [],
   "source": [
    "class student:\n",
    "    def show():\n",
    "        print('1,divya,67')"
   ]
  },
  {
   "cell_type": "code",
   "execution_count": 5,
   "id": "80024bff",
   "metadata": {},
   "outputs": [
    {
     "name": "stdout",
     "output_type": "stream",
     "text": [
      "<class '__main__.student'>\n"
     ]
    }
   ],
   "source": [
    "s1=student()\n",
    "print(type(s1))"
   ]
  },
  {
   "cell_type": "code",
   "execution_count": 2,
   "id": "4bd0ed04",
   "metadata": {},
   "outputs": [
    {
     "name": "stdout",
     "output_type": "stream",
     "text": [
      "hi\n",
      "10\n"
     ]
    }
   ],
   "source": [
    "class person():\n",
    "    print(\"hi\")\n",
    "    a=10\n",
    "obj=person() \n",
    "print(obj.a)"
   ]
  },
  {
   "cell_type": "code",
   "execution_count": 4,
   "id": "5ad7516b",
   "metadata": {},
   "outputs": [
    {
     "name": "stdout",
     "output_type": "stream",
     "text": [
      "hi\n",
      "10\n",
      "10\n"
     ]
    }
   ],
   "source": [
    "class person():\n",
    "    print(\"hi\")\n",
    "    a=10\n",
    "obj=person()\n",
    "obj2=person()\n",
    "print(obj.a)\n",
    "print(obj2.a)"
   ]
  },
  {
   "cell_type": "code",
   "execution_count": 5,
   "id": "cd2cc6f3",
   "metadata": {},
   "outputs": [
    {
     "name": "stdout",
     "output_type": "stream",
     "text": [
      "hello\n"
     ]
    }
   ],
   "source": [
    "def msg():\n",
    "    print(\"hello\")\n",
    "msg()    "
   ]
  },
  {
   "cell_type": "code",
   "execution_count": 10,
   "id": "aff0ae50",
   "metadata": {},
   "outputs": [
    {
     "name": "stdout",
     "output_type": "stream",
     "text": [
      "hello\n"
     ]
    }
   ],
   "source": [
    "class text():\n",
    "    def msg():\n",
    "        \n",
    "        print(\"hello\")\n",
    "msg() "
   ]
  },
  {
   "cell_type": "code",
   "execution_count": 9,
   "id": "a4a08b32",
   "metadata": {},
   "outputs": [
    {
     "ename": "TypeError",
     "evalue": "text.msg() takes 0 positional arguments but 1 was given",
     "output_type": "error",
     "traceback": [
      "\u001b[1;31m---------------------------------------------------------------------------\u001b[0m",
      "\u001b[1;31mTypeError\u001b[0m                                 Traceback (most recent call last)",
      "Cell \u001b[1;32mIn[9], line 6\u001b[0m\n\u001b[0;32m      4\u001b[0m         \u001b[38;5;28mprint\u001b[39m(\u001b[38;5;124m\"\u001b[39m\u001b[38;5;124mhello\u001b[39m\u001b[38;5;124m\"\u001b[39m)\n\u001b[0;32m      5\u001b[0m obj\u001b[38;5;241m=\u001b[39mtext()\n\u001b[1;32m----> 6\u001b[0m \u001b[43mobj\u001b[49m\u001b[38;5;241;43m.\u001b[39;49m\u001b[43mmsg\u001b[49m\u001b[43m(\u001b[49m\u001b[43m)\u001b[49m\n",
      "\u001b[1;31mTypeError\u001b[0m: text.msg() takes 0 positional arguments but 1 was given"
     ]
    }
   ],
   "source": [
    "class text():\n",
    "    def msg():\n",
    "        \n",
    "        print(\"hello\")\n",
    "obj=text()\n",
    "obj.msg()"
   ]
  },
  {
   "cell_type": "code",
   "execution_count": 11,
   "id": "5cd2e3f1",
   "metadata": {},
   "outputs": [
    {
     "name": "stdout",
     "output_type": "stream",
     "text": [
      "hello\n"
     ]
    }
   ],
   "source": [
    "class text():\n",
    "    def msg(self):\n",
    "        \n",
    "        print(\"hello\")\n",
    "obj=text()\n",
    "obj.msg()"
   ]
  },
  {
   "cell_type": "code",
   "execution_count": 15,
   "id": "f92fe951",
   "metadata": {},
   "outputs": [
    {
     "name": "stdout",
     "output_type": "stream",
     "text": [
      "hello\n",
      "hello\n"
     ]
    }
   ],
   "source": [
    "#calling using class\n",
    "class text():\n",
    "    def msg(self):\n",
    "        \n",
    "        print(\"hello\")\n",
    "obj=text()\n",
    "obj1=text()\n",
    "\n",
    "text.msg(obj)\n",
    "text.msg(obj1)\n"
   ]
  },
  {
   "cell_type": "code",
   "execution_count": 16,
   "id": "6610acc3",
   "metadata": {},
   "outputs": [
    {
     "name": "stdout",
     "output_type": "stream",
     "text": [
      "8\n"
     ]
    }
   ],
   "source": [
    "def add(a,b):\n",
    "    c=a+b\n",
    "    print(c)\n",
    "add(2,6)    "
   ]
  },
  {
   "cell_type": "code",
   "execution_count": 17,
   "id": "2c15993d",
   "metadata": {},
   "outputs": [
    {
     "name": "stdout",
     "output_type": "stream",
     "text": [
      "10\n"
     ]
    }
   ],
   "source": [
    "#by using method(function)\n",
    "class addition():\n",
    "    \n",
    "    def add(self,a,b):\n",
    "        \n",
    "        c=a+b\n",
    "        print(c)\n",
    "obj=addition()\n",
    "obj.add(5,5)\n"
   ]
  },
  {
   "cell_type": "code",
   "execution_count": 18,
   "id": "29ba852f",
   "metadata": {},
   "outputs": [
    {
     "name": "stdout",
     "output_type": "stream",
     "text": [
      "5\n"
     ]
    }
   ],
   "source": [
    "class subtraction():\n",
    "    def sub(self,a,b):\n",
    "        c=a-b\n",
    "        print(c)\n",
    "obj=subtraction()  \n",
    "obj.sub(10,5)\n",
    "    "
   ]
  },
  {
   "cell_type": "code",
   "execution_count": 19,
   "id": "e7627f10",
   "metadata": {},
   "outputs": [
    {
     "name": "stdout",
     "output_type": "stream",
     "text": [
      "60\n"
     ]
    }
   ],
   "source": [
    "#by using global variable\n",
    "class addition():\n",
    "    d=30\n",
    "    def add(self,a,b):\n",
    "        c=a+b+self.d\n",
    "        print(c)\n",
    "obj=addition()\n",
    "obj.add(10,20)\n",
    "    \n",
    "        "
   ]
  },
  {
   "cell_type": "code",
   "execution_count": 20,
   "id": "99791d5f",
   "metadata": {},
   "outputs": [
    {
     "name": "stdout",
     "output_type": "stream",
     "text": [
      "60\n",
      "50\n"
     ]
    }
   ],
   "source": [
    "class addition():\n",
    "    d=30\n",
    "    def add(self,a,b):\n",
    "        c=a+b+self.d\n",
    "        print(c)\n",
    "obj=addition()\n",
    "obj2=addition()\n",
    "\n",
    "obj.add(10,20)\n",
    "obj2.add(10,10)"
   ]
  },
  {
   "cell_type": "code",
   "execution_count": 21,
   "id": "a118b4f6",
   "metadata": {},
   "outputs": [
    {
     "name": "stdout",
     "output_type": "stream",
     "text": [
      "my name is- mru\n",
      "my age is- 23\n",
      "gender- female\n"
     ]
    }
   ],
   "source": [
    "class person():\n",
    "    def get_details(self):\n",
    "        name=\"mru\"\n",
    "        age=23\n",
    "        gender=\"female\"\n",
    "        print(\"my name is-\",name)\n",
    "        print(\"my age is-\",age)\n",
    "        print(\"gender-\",gender)\n",
    "obj=person()\n",
    "obj.get_details()\n",
    "        \n",
    "        \n",
    "        "
   ]
  },
  {
   "cell_type": "code",
   "execution_count": 23,
   "id": "6866baa4",
   "metadata": {},
   "outputs": [
    {
     "name": "stdout",
     "output_type": "stream",
     "text": [
      "my name is- mru\n",
      "my age is- 23\n",
      "gender- female\n"
     ]
    }
   ],
   "source": [
    "class person():\n",
    "    def get_details(self):\n",
    "        self.name=\"mru\"\n",
    "        self.age=23\n",
    "        self.gender=\"female\"\n",
    "        \n",
    "    def print_details(self):\n",
    "        \n",
    "        print(\"my name is-\",self.name)\n",
    "        print(\"my age is-\",self.age)\n",
    "        print(\"gender-\",self.gender)\n",
    "obj=person()\n",
    "obj.get_details()\n",
    "obj.print_details()\n",
    "        \n",
    "        "
   ]
  },
  {
   "cell_type": "code",
   "execution_count": 31,
   "id": "3f50caa7",
   "metadata": {},
   "outputs": [
    {
     "name": "stdout",
     "output_type": "stream",
     "text": [
      "my name is- mry\n",
      "my age is- 23\n",
      "gender- female\n"
     ]
    }
   ],
   "source": [
    "class person():\n",
    "    def get_details(self,name,age,gender):\n",
    "        self.name=name\n",
    "        self.age=age\n",
    "        self.gender=gender\n",
    "        \n",
    "    def print_details(self):\n",
    "        \n",
    "        print(\"my name is-\",self.name)\n",
    "        print(\"my age is-\",self.age)\n",
    "        print(\"gender-\",self.gender)\n",
    "obj=person()\n",
    "obj.get_details(\"mry\",23,\"female\")\n",
    "obj.print_details()"
   ]
  },
  {
   "cell_type": "code",
   "execution_count": 2,
   "id": "a8011a44",
   "metadata": {},
   "outputs": [
    {
     "name": "stdout",
     "output_type": "stream",
     "text": [
      "mru 22 female\n"
     ]
    }
   ],
   "source": [
    "class person():\n",
    "    def introduce(self,name,age,gender):\n",
    "        self.name=name\n",
    "        self.age=age\n",
    "        self.gender=gender\n",
    "        print(self.name,self.age,self.gender)\n",
    "obj=person() \n",
    "\n",
    "obj.introduce(\"mru\",22,\"female\")\n"
   ]
  },
  {
   "cell_type": "code",
   "execution_count": 32,
   "id": "c4709cb5",
   "metadata": {},
   "outputs": [
    {
     "name": "stdout",
     "output_type": "stream",
     "text": [
      "my name is mru age 23 gender is female\n"
     ]
    }
   ],
   "source": [
    "#without using function\n",
    "class person:\n",
    "    name=\" \"\n",
    "    age=0\n",
    "    gender=\" \"\n",
    "obj=person()\n",
    "obj.name=\"mru\"\n",
    "obj.age=23\n",
    "obj.gender=\"female\"\n",
    "\n",
    "print(\"my name is\",obj.name, \"age\",obj.age,\"gender is\",obj.gender)"
   ]
  },
  {
   "cell_type": "code",
   "execution_count": 33,
   "id": "61e01e01",
   "metadata": {},
   "outputs": [
    {
     "name": "stdout",
     "output_type": "stream",
     "text": [
      "16\n"
     ]
    }
   ],
   "source": [
    "#area of rectange\n",
    "class calculation():\n",
    "    def area(self,l,b):\n",
    "        area_of_rectangle=l*b\n",
    "        print(area_of_rectangle)\n",
    "obj=calculation()\n",
    "obj.area(4,4)\n",
    "        \n",
    "     "
   ]
  },
  {
   "cell_type": "code",
   "execution_count": 34,
   "id": "ca72221b",
   "metadata": {},
   "outputs": [
    {
     "name": "stdout",
     "output_type": "stream",
     "text": [
      "24\n"
     ]
    }
   ],
   "source": [
    "#using class,variables,object\n",
    "class calculation():\n",
    "    l=0\n",
    "    b=0\n",
    "    def area(self,l,b):\n",
    "        print(l*b)\n",
    "obj=calculation()\n",
    "obj.area(3,8)\n"
   ]
  },
  {
   "cell_type": "markdown",
   "id": "367d14b5",
   "metadata": {},
   "source": [
    "# built in class attributes"
   ]
  },
  {
   "cell_type": "code",
   "execution_count": 4,
   "id": "ff517e4a",
   "metadata": {},
   "outputs": [
    {
     "name": "stdout",
     "output_type": "stream",
     "text": [
      "hello\n"
     ]
    }
   ],
   "source": [
    "class t():\n",
    "    def msg(self):\n",
    "        \n",
    "        print(\"hello\")\n",
    "o=t()\n",
    "o.msg()"
   ]
  },
  {
   "cell_type": "code",
   "execution_count": 5,
   "id": "21cb7d19",
   "metadata": {},
   "outputs": [
    {
     "data": {
      "text/plain": [
       "['__class__',\n",
       " '__delattr__',\n",
       " '__dict__',\n",
       " '__dir__',\n",
       " '__doc__',\n",
       " '__eq__',\n",
       " '__format__',\n",
       " '__ge__',\n",
       " '__getattribute__',\n",
       " '__gt__',\n",
       " '__hash__',\n",
       " '__init__',\n",
       " '__init_subclass__',\n",
       " '__le__',\n",
       " '__lt__',\n",
       " '__module__',\n",
       " '__ne__',\n",
       " '__new__',\n",
       " '__reduce__',\n",
       " '__reduce_ex__',\n",
       " '__repr__',\n",
       " '__setattr__',\n",
       " '__sizeof__',\n",
       " '__str__',\n",
       " '__subclasshook__',\n",
       " '__weakref__',\n",
       " 'msg']"
      ]
     },
     "execution_count": 5,
     "metadata": {},
     "output_type": "execute_result"
    }
   ],
   "source": [
    "dir(o)"
   ]
  },
  {
   "cell_type": "code",
   "execution_count": 7,
   "id": "9251219d",
   "metadata": {},
   "outputs": [
    {
     "name": "stdout",
     "output_type": "stream",
     "text": [
      "{}\n"
     ]
    }
   ],
   "source": [
    "print(o.__dict__)"
   ]
  },
  {
   "cell_type": "code",
   "execution_count": 8,
   "id": "bf511531",
   "metadata": {},
   "outputs": [
    {
     "name": "stdout",
     "output_type": "stream",
     "text": [
      "{'__module__': '__main__', 'msg': <function t.msg at 0x00000256FC641AB0>, '__dict__': <attribute '__dict__' of 't' objects>, '__weakref__': <attribute '__weakref__' of 't' objects>, '__doc__': None}\n"
     ]
    }
   ],
   "source": [
    "print(t.__dict__)"
   ]
  },
  {
   "cell_type": "code",
   "execution_count": 9,
   "id": "cb6da1a9",
   "metadata": {},
   "outputs": [
    {
     "name": "stdout",
     "output_type": "stream",
     "text": [
      "None\n"
     ]
    }
   ],
   "source": [
    "print(o.__doc__)"
   ]
  },
  {
   "cell_type": "code",
   "execution_count": 10,
   "id": "b261eee3",
   "metadata": {},
   "outputs": [
    {
     "name": "stdout",
     "output_type": "stream",
     "text": [
      "None\n"
     ]
    }
   ],
   "source": [
    "print(t.__doc__)"
   ]
  },
  {
   "cell_type": "code",
   "execution_count": 11,
   "id": "681347bf",
   "metadata": {},
   "outputs": [
    {
     "ename": "AttributeError",
     "evalue": "'t' object has no attribute '__name__'",
     "output_type": "error",
     "traceback": [
      "\u001b[1;31m---------------------------------------------------------------------------\u001b[0m",
      "\u001b[1;31mAttributeError\u001b[0m                            Traceback (most recent call last)",
      "Cell \u001b[1;32mIn[11], line 1\u001b[0m\n\u001b[1;32m----> 1\u001b[0m \u001b[38;5;28mprint\u001b[39m(\u001b[43mo\u001b[49m\u001b[38;5;241;43m.\u001b[39;49m\u001b[38;5;18;43m__name__\u001b[39;49m)\n",
      "\u001b[1;31mAttributeError\u001b[0m: 't' object has no attribute '__name__'"
     ]
    }
   ],
   "source": [
    "print(o.__name__)"
   ]
  },
  {
   "cell_type": "code",
   "execution_count": 12,
   "id": "1e2f4324",
   "metadata": {},
   "outputs": [
    {
     "name": "stdout",
     "output_type": "stream",
     "text": [
      "t\n"
     ]
    }
   ],
   "source": [
    "print(t.__name__)"
   ]
  },
  {
   "cell_type": "code",
   "execution_count": 13,
   "id": "03055763",
   "metadata": {},
   "outputs": [
    {
     "name": "stdout",
     "output_type": "stream",
     "text": [
      "__main__\n"
     ]
    }
   ],
   "source": [
    "print(o.__module__)"
   ]
  },
  {
   "cell_type": "code",
   "execution_count": 14,
   "id": "db067e42",
   "metadata": {},
   "outputs": [
    {
     "name": "stdout",
     "output_type": "stream",
     "text": [
      "__main__\n"
     ]
    }
   ],
   "source": [
    "print(t.__module__)"
   ]
  },
  {
   "cell_type": "code",
   "execution_count": 17,
   "id": "61c26e19",
   "metadata": {},
   "outputs": [
    {
     "ename": "AttributeError",
     "evalue": "'t' object has no attribute '__bases__'",
     "output_type": "error",
     "traceback": [
      "\u001b[1;31m---------------------------------------------------------------------------\u001b[0m",
      "\u001b[1;31mAttributeError\u001b[0m                            Traceback (most recent call last)",
      "Cell \u001b[1;32mIn[17], line 1\u001b[0m\n\u001b[1;32m----> 1\u001b[0m \u001b[38;5;28mprint\u001b[39m(\u001b[43mo\u001b[49m\u001b[38;5;241;43m.\u001b[39;49m\u001b[38;5;18;43m__bases__\u001b[39;49m)\n",
      "\u001b[1;31mAttributeError\u001b[0m: 't' object has no attribute '__bases__'"
     ]
    }
   ],
   "source": [
    "print(o.__bases__)"
   ]
  },
  {
   "cell_type": "code",
   "execution_count": 18,
   "id": "55126e32",
   "metadata": {},
   "outputs": [
    {
     "name": "stdout",
     "output_type": "stream",
     "text": [
      "(<class 'object'>,)\n"
     ]
    }
   ],
   "source": [
    "print(t.__bases__)"
   ]
  },
  {
   "cell_type": "code",
   "execution_count": 19,
   "id": "b758389f",
   "metadata": {},
   "outputs": [
    {
     "name": "stdout",
     "output_type": "stream",
     "text": [
      "hello\n"
     ]
    }
   ],
   "source": [
    "class t():\n",
    "    '''i am creating'''\n",
    "    def msg(self):\n",
    "        \n",
    "        print(\"hello\")\n",
    "o=t()\n",
    "o.msg()"
   ]
  },
  {
   "cell_type": "code",
   "execution_count": 20,
   "id": "dafa10c7",
   "metadata": {},
   "outputs": [
    {
     "name": "stdout",
     "output_type": "stream",
     "text": [
      "i am creating\n"
     ]
    }
   ],
   "source": [
    "print(t.__doc__)"
   ]
  },
  {
   "cell_type": "code",
   "execution_count": 9,
   "id": "f83b63c5",
   "metadata": {},
   "outputs": [],
   "source": [
    "class employee:\n",
    "    name=\"divya\"\n",
    "    dept=\"sales\"\n",
    "    salary=\"8900\"\n",
    "e=employee()    "
   ]
  },
  {
   "cell_type": "code",
   "execution_count": 10,
   "id": "eb72802a",
   "metadata": {},
   "outputs": [
    {
     "name": "stdout",
     "output_type": "stream",
     "text": [
      "divya\n"
     ]
    }
   ],
   "source": [
    "res_n=getattr(e,'name')\n",
    "print(res_n)"
   ]
  },
  {
   "cell_type": "code",
   "execution_count": 11,
   "id": "9d5128e4",
   "metadata": {},
   "outputs": [
    {
     "ename": "NameError",
     "evalue": "name 'name' is not defined",
     "output_type": "error",
     "traceback": [
      "\u001b[1;31m---------------------------------------------------------------------------\u001b[0m",
      "\u001b[1;31mNameError\u001b[0m                                 Traceback (most recent call last)",
      "Cell \u001b[1;32mIn[11], line 1\u001b[0m\n\u001b[1;32m----> 1\u001b[0m res_n\u001b[38;5;241m=\u001b[39m\u001b[38;5;28mgetattr\u001b[39m(e,\u001b[43mname\u001b[49m)\n\u001b[0;32m      2\u001b[0m \u001b[38;5;28mprint\u001b[39m(res_n)\n",
      "\u001b[1;31mNameError\u001b[0m: name 'name' is not defined"
     ]
    }
   ],
   "source": [
    "res_n=getattr(e,name) #should be in string\n",
    "print(res_n)         "
   ]
  },
  {
   "cell_type": "code",
   "execution_count": 12,
   "id": "a3440034",
   "metadata": {},
   "outputs": [
    {
     "ename": "AttributeError",
     "evalue": "'employee' object has no attribute 'location'",
     "output_type": "error",
     "traceback": [
      "\u001b[1;31m---------------------------------------------------------------------------\u001b[0m",
      "\u001b[1;31mAttributeError\u001b[0m                            Traceback (most recent call last)",
      "Cell \u001b[1;32mIn[12], line 1\u001b[0m\n\u001b[1;32m----> 1\u001b[0m res_n\u001b[38;5;241m=\u001b[39m\u001b[38;5;28;43mgetattr\u001b[39;49m\u001b[43m(\u001b[49m\u001b[43me\u001b[49m\u001b[43m,\u001b[49m\u001b[38;5;124;43m'\u001b[39;49m\u001b[38;5;124;43mlocation\u001b[39;49m\u001b[38;5;124;43m'\u001b[39;49m\u001b[43m)\u001b[49m\n\u001b[0;32m      2\u001b[0m \u001b[38;5;28mprint\u001b[39m(res_n)\n",
      "\u001b[1;31mAttributeError\u001b[0m: 'employee' object has no attribute 'location'"
     ]
    }
   ],
   "source": [
    "res_n=getattr(e,'location')\n",
    "print(res_n)"
   ]
  },
  {
   "cell_type": "code",
   "execution_count": 13,
   "id": "e4d74829",
   "metadata": {},
   "outputs": [
    {
     "name": "stdout",
     "output_type": "stream",
     "text": [
      "it will only access class variable\n"
     ]
    }
   ],
   "source": [
    "res_n=getattr(e,'location','it will only access class variable')\n",
    "print(res_n)"
   ]
  },
  {
   "cell_type": "code",
   "execution_count": 14,
   "id": "0569ca65",
   "metadata": {},
   "outputs": [
    {
     "data": {
      "text/plain": [
       "True"
      ]
     },
     "execution_count": 14,
     "metadata": {},
     "output_type": "execute_result"
    }
   ],
   "source": [
    "hasattr(e,'name')"
   ]
  },
  {
   "cell_type": "code",
   "execution_count": 15,
   "id": "7e46cf03",
   "metadata": {},
   "outputs": [
    {
     "data": {
      "text/plain": [
       "False"
      ]
     },
     "execution_count": 15,
     "metadata": {},
     "output_type": "execute_result"
    }
   ],
   "source": [
    "hasattr(e,'location')"
   ]
  },
  {
   "cell_type": "code",
   "execution_count": 16,
   "id": "327a1293",
   "metadata": {},
   "outputs": [],
   "source": [
    "setattr(e,'name','kishore')"
   ]
  },
  {
   "cell_type": "code",
   "execution_count": 17,
   "id": "c49720ba",
   "metadata": {},
   "outputs": [
    {
     "data": {
      "text/plain": [
       "'kishore'"
      ]
     },
     "execution_count": 17,
     "metadata": {},
     "output_type": "execute_result"
    }
   ],
   "source": [
    "getattr(e,'name')"
   ]
  },
  {
   "cell_type": "code",
   "execution_count": 18,
   "id": "1c223378",
   "metadata": {},
   "outputs": [],
   "source": [
    "setattr(e,'location','mumbai')"
   ]
  },
  {
   "cell_type": "code",
   "execution_count": 19,
   "id": "496fe436",
   "metadata": {},
   "outputs": [
    {
     "name": "stdout",
     "output_type": "stream",
     "text": [
      "mumbai\n"
     ]
    }
   ],
   "source": [
    "print(e.location)"
   ]
  },
  {
   "cell_type": "code",
   "execution_count": 24,
   "id": "a89e25f2",
   "metadata": {},
   "outputs": [
    {
     "ename": "AttributeError",
     "evalue": "name",
     "output_type": "error",
     "traceback": [
      "\u001b[1;31m---------------------------------------------------------------------------\u001b[0m",
      "\u001b[1;31mAttributeError\u001b[0m                            Traceback (most recent call last)",
      "Cell \u001b[1;32mIn[24], line 1\u001b[0m\n\u001b[1;32m----> 1\u001b[0m \u001b[38;5;28;43mdelattr\u001b[39;49m\u001b[43m(\u001b[49m\u001b[43me\u001b[49m\u001b[43m,\u001b[49m\u001b[38;5;124;43m'\u001b[39;49m\u001b[38;5;124;43mname\u001b[39;49m\u001b[38;5;124;43m'\u001b[39;49m\u001b[43m)\u001b[49m\n\u001b[0;32m      2\u001b[0m \u001b[38;5;28mprint\u001b[39m(e\u001b[38;5;241m.\u001b[39mname)\n",
      "\u001b[1;31mAttributeError\u001b[0m: name"
     ]
    }
   ],
   "source": [
    "delattr(e,'name')\n",
    "print(e.name)\n"
   ]
  },
  {
   "cell_type": "code",
   "execution_count": 25,
   "id": "f09db1cc",
   "metadata": {},
   "outputs": [
    {
     "ename": "AttributeError",
     "evalue": "salary",
     "output_type": "error",
     "traceback": [
      "\u001b[1;31m---------------------------------------------------------------------------\u001b[0m",
      "\u001b[1;31mAttributeError\u001b[0m                            Traceback (most recent call last)",
      "Cell \u001b[1;32mIn[25], line 1\u001b[0m\n\u001b[1;32m----> 1\u001b[0m \u001b[38;5;28;43mdelattr\u001b[39;49m\u001b[43m(\u001b[49m\u001b[43me\u001b[49m\u001b[43m,\u001b[49m\u001b[38;5;124;43m'\u001b[39;49m\u001b[38;5;124;43msalary\u001b[39;49m\u001b[38;5;124;43m'\u001b[39;49m\u001b[43m)\u001b[49m\n\u001b[0;32m      2\u001b[0m \u001b[38;5;28mprint\u001b[39m(e\u001b[38;5;241m.\u001b[39msalary)\n",
      "\u001b[1;31mAttributeError\u001b[0m: salary"
     ]
    }
   ],
   "source": [
    "delattr(e,'salary')\n",
    "print(e.salary)"
   ]
  },
  {
   "cell_type": "code",
   "execution_count": 26,
   "id": "d1f907c3",
   "metadata": {},
   "outputs": [
    {
     "data": {
      "text/plain": [
       "'8900'"
      ]
     },
     "execution_count": 26,
     "metadata": {},
     "output_type": "execute_result"
    }
   ],
   "source": [
    "getattr(e,'salary')"
   ]
  },
  {
   "cell_type": "code",
   "execution_count": null,
   "id": "9717f372",
   "metadata": {},
   "outputs": [],
   "source": []
  },
  {
   "cell_type": "code",
   "execution_count": null,
   "id": "1c6bcc56",
   "metadata": {},
   "outputs": [],
   "source": []
  },
  {
   "cell_type": "code",
   "execution_count": null,
   "id": "b859187a",
   "metadata": {},
   "outputs": [],
   "source": []
  },
  {
   "cell_type": "code",
   "execution_count": null,
   "id": "ae3a4ffa",
   "metadata": {},
   "outputs": [],
   "source": []
  },
  {
   "cell_type": "code",
   "execution_count": null,
   "id": "4acbad77",
   "metadata": {},
   "outputs": [],
   "source": []
  },
  {
   "cell_type": "code",
   "execution_count": null,
   "id": "c189d096",
   "metadata": {},
   "outputs": [],
   "source": []
  },
  {
   "cell_type": "code",
   "execution_count": null,
   "id": "e8da0ae0",
   "metadata": {},
   "outputs": [],
   "source": []
  },
  {
   "cell_type": "code",
   "execution_count": null,
   "id": "1609bec6",
   "metadata": {},
   "outputs": [],
   "source": []
  },
  {
   "cell_type": "code",
   "execution_count": null,
   "id": "6fe11ca0",
   "metadata": {},
   "outputs": [],
   "source": []
  },
  {
   "cell_type": "code",
   "execution_count": null,
   "id": "004d9f25",
   "metadata": {},
   "outputs": [],
   "source": []
  },
  {
   "cell_type": "code",
   "execution_count": null,
   "id": "bbda53a1",
   "metadata": {},
   "outputs": [],
   "source": []
  },
  {
   "cell_type": "code",
   "execution_count": null,
   "id": "a463ed1b",
   "metadata": {},
   "outputs": [],
   "source": []
  },
  {
   "cell_type": "code",
   "execution_count": null,
   "id": "3ef32993",
   "metadata": {},
   "outputs": [],
   "source": []
  },
  {
   "cell_type": "code",
   "execution_count": null,
   "id": "2bcd4d29",
   "metadata": {},
   "outputs": [],
   "source": []
  },
  {
   "cell_type": "code",
   "execution_count": null,
   "id": "e078cd59",
   "metadata": {},
   "outputs": [],
   "source": []
  },
  {
   "cell_type": "code",
   "execution_count": null,
   "id": "0e0ff540",
   "metadata": {},
   "outputs": [],
   "source": []
  },
  {
   "cell_type": "code",
   "execution_count": null,
   "id": "0bd806b4",
   "metadata": {},
   "outputs": [],
   "source": []
  },
  {
   "cell_type": "code",
   "execution_count": null,
   "id": "af06feb7",
   "metadata": {},
   "outputs": [],
   "source": []
  }
 ],
 "metadata": {
  "kernelspec": {
   "display_name": "Python 3 (ipykernel)",
   "language": "python",
   "name": "python3"
  },
  "language_info": {
   "codemirror_mode": {
    "name": "ipython",
    "version": 3
   },
   "file_extension": ".py",
   "mimetype": "text/x-python",
   "name": "python",
   "nbconvert_exporter": "python",
   "pygments_lexer": "ipython3",
   "version": "3.10.9"
  }
 },
 "nbformat": 4,
 "nbformat_minor": 5
}
