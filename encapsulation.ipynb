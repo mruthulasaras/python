{
 "cells": [
  {
   "cell_type": "markdown",
   "id": "785f5e41",
   "metadata": {},
   "source": [
    "## public access specifier"
   ]
  },
  {
   "cell_type": "markdown",
   "id": "18044bae",
   "metadata": {},
   "source": [
    "### class"
   ]
  },
  {
   "cell_type": "code",
   "execution_count": 17,
   "id": "1994203a",
   "metadata": {},
   "outputs": [],
   "source": [
    "class A:\n",
    "    def __init__(self,name,age):\n",
    "        self.name=name\n",
    "        self.age=age\n",
    "    def show(self):\n",
    "        print(\"name=\" ,self.name)\n",
    "        print(\"age =\",self.age )"
   ]
  },
  {
   "cell_type": "code",
   "execution_count": 18,
   "id": "8d3d960a",
   "metadata": {},
   "outputs": [],
   "source": [
    "obj=A(\"mru\",24)"
   ]
  },
  {
   "cell_type": "code",
   "execution_count": 19,
   "id": "046ffbdc",
   "metadata": {},
   "outputs": [
    {
     "name": "stdout",
     "output_type": "stream",
     "text": [
      "name= mru\n",
      "age = 24\n"
     ]
    }
   ],
   "source": [
    "obj.show()"
   ]
  },
  {
   "cell_type": "code",
   "execution_count": 20,
   "id": "cebc6810",
   "metadata": {},
   "outputs": [
    {
     "name": "stdout",
     "output_type": "stream",
     "text": [
      "mru\n"
     ]
    }
   ],
   "source": [
    "print(obj.name)"
   ]
  },
  {
   "cell_type": "code",
   "execution_count": 21,
   "id": "d48c6abd",
   "metadata": {},
   "outputs": [
    {
     "name": "stdout",
     "output_type": "stream",
     "text": [
      "24\n"
     ]
    }
   ],
   "source": [
    "print(obj.age)"
   ]
  },
  {
   "cell_type": "markdown",
   "id": "048ae4be",
   "metadata": {},
   "source": [
    "### derived class"
   ]
  },
  {
   "cell_type": "code",
   "execution_count": 2,
   "id": "b719c2b9",
   "metadata": {},
   "outputs": [],
   "source": [
    "class A:\n",
    "    def __init__(self,name,age):\n",
    "        self.name=name\n",
    "        self.age=age\n",
    "    def show(self):\n",
    "        print(\"name=\" ,self.name)\n",
    "        print(\"age =\",self.age )\n",
    "        \n",
    "class B(A):\n",
    "    def __init__(self,name,age,location):\n",
    "        A.__init__(self,name,age)\n",
    "        self.l=location\n",
    "        \n",
    "    def display(self):\n",
    "        print(\"loc=\",self.l )"
   ]
  },
  {
   "cell_type": "code",
   "execution_count": 3,
   "id": "21ea2eeb",
   "metadata": {},
   "outputs": [],
   "source": [
    "c=B(\"mru\",26,'chennai')"
   ]
  },
  {
   "cell_type": "code",
   "execution_count": 4,
   "id": "55e40a0b",
   "metadata": {},
   "outputs": [
    {
     "name": "stdout",
     "output_type": "stream",
     "text": [
      "name= mru\n",
      "age = 26\n",
      "loc= chennai\n"
     ]
    }
   ],
   "source": [
    "c.show()\n",
    "c.display()"
   ]
  },
  {
   "cell_type": "code",
   "execution_count": 5,
   "id": "3a035a69",
   "metadata": {},
   "outputs": [
    {
     "name": "stdout",
     "output_type": "stream",
     "text": [
      "mru\n"
     ]
    }
   ],
   "source": [
    "print(c.name)"
   ]
  },
  {
   "cell_type": "code",
   "execution_count": 6,
   "id": "b9a6f606",
   "metadata": {},
   "outputs": [
    {
     "name": "stdout",
     "output_type": "stream",
     "text": [
      "26\n"
     ]
    }
   ],
   "source": [
    "print(c.age)"
   ]
  },
  {
   "cell_type": "code",
   "execution_count": 8,
   "id": "fb9c143e",
   "metadata": {},
   "outputs": [
    {
     "name": "stdout",
     "output_type": "stream",
     "text": [
      "chennai\n"
     ]
    }
   ],
   "source": [
    "print(c.l)"
   ]
  },
  {
   "cell_type": "markdown",
   "id": "38971a84",
   "metadata": {},
   "source": [
    "### private access specifier"
   ]
  },
  {
   "cell_type": "code",
   "execution_count": 23,
   "id": "6851bec2",
   "metadata": {},
   "outputs": [],
   "source": [
    "class A:\n",
    "    def __init__(self,name,age=0):\n",
    "        self.name=name\n",
    "        self.__age=age\n",
    "    def show(self):\n",
    "        print(\"name=\" ,self.name)\n",
    "        print(\"age =\",self.__age )"
   ]
  },
  {
   "cell_type": "code",
   "execution_count": 24,
   "id": "bc71ccb7",
   "metadata": {},
   "outputs": [],
   "source": [
    "c=A(\"mru\",\"23\")"
   ]
  },
  {
   "cell_type": "code",
   "execution_count": 25,
   "id": "b6862a31",
   "metadata": {},
   "outputs": [
    {
     "name": "stdout",
     "output_type": "stream",
     "text": [
      "name= mru\n",
      "age = 23\n"
     ]
    }
   ],
   "source": [
    "c.show()"
   ]
  },
  {
   "cell_type": "code",
   "execution_count": 27,
   "id": "2386de1c",
   "metadata": {},
   "outputs": [
    {
     "name": "stdout",
     "output_type": "stream",
     "text": [
      "mru\n"
     ]
    }
   ],
   "source": [
    "print(c.name)"
   ]
  },
  {
   "cell_type": "code",
   "execution_count": 28,
   "id": "b29b48d9",
   "metadata": {},
   "outputs": [
    {
     "ename": "AttributeError",
     "evalue": "'A' object has no attribute 'age'",
     "output_type": "error",
     "traceback": [
      "\u001b[1;31m---------------------------------------------------------------------------\u001b[0m",
      "\u001b[1;31mAttributeError\u001b[0m                            Traceback (most recent call last)",
      "Cell \u001b[1;32mIn[28], line 1\u001b[0m\n\u001b[1;32m----> 1\u001b[0m \u001b[38;5;28mprint\u001b[39m(\u001b[43mc\u001b[49m\u001b[38;5;241;43m.\u001b[39;49m\u001b[43mage\u001b[49m)\n",
      "\u001b[1;31mAttributeError\u001b[0m: 'A' object has no attribute 'age'"
     ]
    }
   ],
   "source": [
    "print(c.age)"
   ]
  },
  {
   "cell_type": "code",
   "execution_count": 29,
   "id": "364e4d33",
   "metadata": {},
   "outputs": [
    {
     "ename": "AttributeError",
     "evalue": "'A' object has no attribute '__age'",
     "output_type": "error",
     "traceback": [
      "\u001b[1;31m---------------------------------------------------------------------------\u001b[0m",
      "\u001b[1;31mAttributeError\u001b[0m                            Traceback (most recent call last)",
      "Cell \u001b[1;32mIn[29], line 1\u001b[0m\n\u001b[1;32m----> 1\u001b[0m \u001b[38;5;28mprint\u001b[39m(\u001b[43mc\u001b[49m\u001b[38;5;241;43m.\u001b[39;49m\u001b[43m__age\u001b[49m)\n",
      "\u001b[1;31mAttributeError\u001b[0m: 'A' object has no attribute '__age'"
     ]
    }
   ],
   "source": [
    "print(c.__age)"
   ]
  },
  {
   "cell_type": "code",
   "execution_count": 30,
   "id": "8276529d",
   "metadata": {},
   "outputs": [],
   "source": [
    "class multi:\n",
    "    __num1=0\n",
    "    __num2=0\n",
    "    def __init__(self):\n",
    "        self.__num1=6\n",
    "        self.__num2=4\n",
    "        print(self.__num1)\n",
    "        print(self.__num2)\n",
    "        print(self.__num1*self.__num2)"
   ]
  },
  {
   "cell_type": "code",
   "execution_count": 31,
   "id": "ce5f1032",
   "metadata": {},
   "outputs": [
    {
     "name": "stdout",
     "output_type": "stream",
     "text": [
      "6\n",
      "4\n",
      "24\n"
     ]
    }
   ],
   "source": [
    "m=multi()"
   ]
  },
  {
   "cell_type": "code",
   "execution_count": 35,
   "id": "0398381e",
   "metadata": {},
   "outputs": [
    {
     "ename": "AttributeError",
     "evalue": "'multi' object has no attribute 'num1'",
     "output_type": "error",
     "traceback": [
      "\u001b[1;31m---------------------------------------------------------------------------\u001b[0m",
      "\u001b[1;31mAttributeError\u001b[0m                            Traceback (most recent call last)",
      "Cell \u001b[1;32mIn[35], line 1\u001b[0m\n\u001b[1;32m----> 1\u001b[0m \u001b[38;5;28mprint\u001b[39m(\u001b[43mm\u001b[49m\u001b[38;5;241;43m.\u001b[39;49m\u001b[43mnum1\u001b[49m)\n",
      "\u001b[1;31mAttributeError\u001b[0m: 'multi' object has no attribute 'num1'"
     ]
    }
   ],
   "source": [
    "print(m.num1)"
   ]
  },
  {
   "cell_type": "markdown",
   "id": "87353b86",
   "metadata": {},
   "source": [
    "### protected accesible object"
   ]
  },
  {
   "cell_type": "code",
   "execution_count": 36,
   "id": "cdda8faa",
   "metadata": {},
   "outputs": [],
   "source": [
    "class A:\n",
    "    def __init__(self,name,age):\n",
    "        self._name=name\n",
    "        self._age=age\n",
    "    def show(self):\n",
    "        print(\"name=\" ,self._name)\n",
    "        print(\"age =\",self._age )"
   ]
  },
  {
   "cell_type": "code",
   "execution_count": 38,
   "id": "9947864a",
   "metadata": {},
   "outputs": [],
   "source": [
    "f=A(\"karan\",43)"
   ]
  },
  {
   "cell_type": "code",
   "execution_count": 39,
   "id": "f94c1c26",
   "metadata": {},
   "outputs": [
    {
     "ename": "AttributeError",
     "evalue": "'A' object has no attribute 'name'",
     "output_type": "error",
     "traceback": [
      "\u001b[1;31m---------------------------------------------------------------------------\u001b[0m",
      "\u001b[1;31mAttributeError\u001b[0m                            Traceback (most recent call last)",
      "Cell \u001b[1;32mIn[39], line 1\u001b[0m\n\u001b[1;32m----> 1\u001b[0m \u001b[38;5;28mprint\u001b[39m(\u001b[43mf\u001b[49m\u001b[38;5;241;43m.\u001b[39;49m\u001b[43mname\u001b[49m)\n",
      "\u001b[1;31mAttributeError\u001b[0m: 'A' object has no attribute 'name'"
     ]
    }
   ],
   "source": [
    "print(f.name)"
   ]
  },
  {
   "cell_type": "code",
   "execution_count": 40,
   "id": "abc349a4",
   "metadata": {},
   "outputs": [
    {
     "ename": "AttributeError",
     "evalue": "'A' object has no attribute 'age'",
     "output_type": "error",
     "traceback": [
      "\u001b[1;31m---------------------------------------------------------------------------\u001b[0m",
      "\u001b[1;31mAttributeError\u001b[0m                            Traceback (most recent call last)",
      "Cell \u001b[1;32mIn[40], line 1\u001b[0m\n\u001b[1;32m----> 1\u001b[0m \u001b[38;5;28mprint\u001b[39m(\u001b[43mf\u001b[49m\u001b[38;5;241;43m.\u001b[39;49m\u001b[43mage\u001b[49m)\n",
      "\u001b[1;31mAttributeError\u001b[0m: 'A' object has no attribute 'age'"
     ]
    }
   ],
   "source": [
    "print(f.age)"
   ]
  },
  {
   "cell_type": "code",
   "execution_count": null,
   "id": "18d9d71f",
   "metadata": {},
   "outputs": [],
   "source": []
  }
 ],
 "metadata": {
  "kernelspec": {
   "display_name": "Python 3 (ipykernel)",
   "language": "python",
   "name": "python3"
  },
  "language_info": {
   "codemirror_mode": {
    "name": "ipython",
    "version": 3
   },
   "file_extension": ".py",
   "mimetype": "text/x-python",
   "name": "python",
   "nbconvert_exporter": "python",
   "pygments_lexer": "ipython3",
   "version": "3.10.9"
  }
 },
 "nbformat": 4,
 "nbformat_minor": 5
}
