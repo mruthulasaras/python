{
 "cells": [
  {
   "cell_type": "markdown",
   "id": "9dfa4ef3",
   "metadata": {},
   "source": [
    "# LOOPS"
   ]
  },
  {
   "cell_type": "markdown",
   "id": "396372e0",
   "metadata": {},
   "source": [
    "# Looping statement 1"
   ]
  },
  {
   "cell_type": "markdown",
   "id": "cb9a7603",
   "metadata": {},
   "source": [
    "# 1) print Hello"
   ]
  },
  {
   "cell_type": "code",
   "execution_count": 1,
   "id": "6e6a6639",
   "metadata": {},
   "outputs": [
    {
     "name": "stdout",
     "output_type": "stream",
     "text": [
      "Hello 1\n",
      "Hello 2\n",
      "Hello 3\n",
      "Hello 4\n",
      "Hello 5\n",
      "Hello 6\n",
      "Hello 7\n",
      "Hello 8\n",
      "Hello 9\n",
      "Hello 10\n"
     ]
    }
   ],
   "source": [
    "for i in range(1,11):       #using for loop\n",
    "    print(\"Hello\",i)"
   ]
  },
  {
   "cell_type": "code",
   "execution_count": 2,
   "id": "202f4f49",
   "metadata": {},
   "outputs": [
    {
     "name": "stdout",
     "output_type": "stream",
     "text": [
      "Hello 1\n",
      "Hello 2\n",
      "Hello 3\n",
      "Hello 4\n",
      "Hello 5\n",
      "Hello 6\n",
      "Hello 7\n",
      "Hello 8\n",
      "Hello 9\n",
      "Hello 10\n"
     ]
    }
   ],
   "source": [
    "i=1                      #using while loop\n",
    "while i<=10:\n",
    "    print(\"Hello\",i)\n",
    "    i+=1\n"
   ]
  },
  {
   "cell_type": "markdown",
   "id": "942d4654",
   "metadata": {},
   "source": [
    "# 2) print sum of first 10 numbers"
   ]
  },
  {
   "cell_type": "code",
   "execution_count": 3,
   "id": "97e9f40c",
   "metadata": {},
   "outputs": [
    {
     "name": "stdout",
     "output_type": "stream",
     "text": [
      "1\n",
      "3\n",
      "6\n",
      "10\n",
      "15\n",
      "21\n",
      "28\n",
      "36\n",
      "45\n",
      "55\n"
     ]
    }
   ],
   "source": [
    "i=1\n",
    "Sum=0                \n",
    "while i<=10:\n",
    "    Sum+=i\n",
    "    i+=1\n",
    "    print(Sum)\n"
   ]
  },
  {
   "cell_type": "markdown",
   "id": "292c3eaa",
   "metadata": {},
   "source": [
    "# 3) Print n number entered by the user"
   ]
  },
  {
   "cell_type": "code",
   "execution_count": 4,
   "id": "68b7053c",
   "metadata": {},
   "outputs": [
    {
     "name": "stdout",
     "output_type": "stream",
     "text": [
      "enter the number :5\n",
      "0\n",
      "1\n",
      "2\n",
      "3\n",
      "4\n"
     ]
    }
   ],
   "source": [
    "n=int(input(\"enter the number :\"))\n",
    "i=0\n",
    "while i<n:\n",
    "    print(i)\n",
    "    i+=1"
   ]
  },
  {
   "cell_type": "markdown",
   "id": "e50e0cb0",
   "metadata": {},
   "source": [
    "# 4) Print number 1 to 10"
   ]
  },
  {
   "cell_type": "code",
   "execution_count": 5,
   "id": "6bfda6e3",
   "metadata": {},
   "outputs": [
    {
     "name": "stdout",
     "output_type": "stream",
     "text": [
      "1\n",
      "2\n",
      "3\n",
      "4\n",
      "5\n",
      "6\n",
      "7\n",
      "8\n",
      "9\n",
      "10\n"
     ]
    }
   ],
   "source": [
    "for i in range(1,11):\n",
    "    print(i)"
   ]
  },
  {
   "cell_type": "markdown",
   "id": "062d768f",
   "metadata": {},
   "source": [
    "# 5) program to print sum of n numbers"
   ]
  },
  {
   "cell_type": "code",
   "execution_count": 6,
   "id": "cd8cb256",
   "metadata": {},
   "outputs": [
    {
     "name": "stdout",
     "output_type": "stream",
     "text": [
      "enter a number: 5\n",
      "Sum is 15\n"
     ]
    }
   ],
   "source": [
    "i=1\n",
    "Sum=0\n",
    "n=int(input(\"enter a number: \"))\n",
    "while i<=n:\n",
    "    Sum+=i\n",
    "    i+=1\n",
    "print(\"Sum is\",Sum)"
   ]
  },
  {
   "cell_type": "markdown",
   "id": "c8bb6409",
   "metadata": {},
   "source": [
    "# 6) print table of number"
   ]
  },
  {
   "cell_type": "code",
   "execution_count": 7,
   "id": "a4a5c417",
   "metadata": {},
   "outputs": [
    {
     "name": "stdout",
     "output_type": "stream",
     "text": [
      "enter a number: 6\n",
      "6 * 1 = 6\n",
      "6 * 2 = 12\n",
      "6 * 3 = 18\n",
      "6 * 4 = 24\n",
      "6 * 5 = 30\n",
      "6 * 6 = 36\n",
      "6 * 7 = 42\n",
      "6 * 8 = 48\n",
      "6 * 9 = 54\n",
      "6 * 10 = 60\n"
     ]
    }
   ],
   "source": [
    "n=int(input(\"enter a number: \"))\n",
    "i=1\n",
    "while i<=10:\n",
    "    print(n, \"*\" ,i,\"=\" ,n*i)\n",
    "    i+=1"
   ]
  },
  {
   "cell_type": "markdown",
   "id": "98c31637",
   "metadata": {},
   "source": [
    "# 7) calculate the factorial of number"
   ]
  },
  {
   "cell_type": "code",
   "execution_count": 8,
   "id": "6263a4ec",
   "metadata": {},
   "outputs": [
    {
     "name": "stdout",
     "output_type": "stream",
     "text": [
      "enter the number: 5\n",
      "120\n"
     ]
    }
   ],
   "source": [
    "num=int(input(\"enter the number: \"))\n",
    "fact=1\n",
    "for i in range(num,1,-1):\n",
    "    fact*=i\n",
    "print(fact)"
   ]
  },
  {
   "cell_type": "markdown",
   "id": "7270177d",
   "metadata": {},
   "source": [
    "# 8) print even number between 1 to 100"
   ]
  },
  {
   "cell_type": "code",
   "execution_count": 9,
   "id": "93d7b18f",
   "metadata": {},
   "outputs": [
    {
     "name": "stdout",
     "output_type": "stream",
     "text": [
      "2\n",
      "4\n",
      "6\n",
      "8\n",
      "10\n",
      "12\n",
      "14\n",
      "16\n",
      "18\n",
      "20\n",
      "22\n",
      "24\n",
      "26\n",
      "28\n",
      "30\n",
      "32\n",
      "34\n",
      "36\n",
      "38\n",
      "40\n",
      "42\n",
      "44\n",
      "46\n",
      "48\n",
      "50\n",
      "52\n",
      "54\n",
      "56\n",
      "58\n",
      "60\n",
      "62\n",
      "64\n",
      "66\n",
      "68\n",
      "70\n",
      "72\n",
      "74\n",
      "76\n",
      "78\n",
      "80\n",
      "82\n",
      "84\n",
      "86\n",
      "88\n",
      "90\n",
      "92\n",
      "94\n",
      "96\n",
      "98\n"
     ]
    }
   ],
   "source": [
    "for i in range(2,100,2):\n",
    "    print(i)\n"
   ]
  },
  {
   "cell_type": "markdown",
   "id": "3a2ed8fc",
   "metadata": {},
   "source": [
    "# 9) print odd number between 1 to 100"
   ]
  },
  {
   "cell_type": "code",
   "execution_count": 1,
   "id": "380e95c3",
   "metadata": {},
   "outputs": [
    {
     "name": "stdout",
     "output_type": "stream",
     "text": [
      "1\n",
      "3\n",
      "5\n",
      "7\n",
      "9\n",
      "11\n",
      "13\n",
      "15\n",
      "17\n",
      "19\n",
      "21\n",
      "23\n",
      "25\n",
      "27\n",
      "29\n",
      "31\n",
      "33\n",
      "35\n",
      "37\n",
      "39\n",
      "41\n",
      "43\n",
      "45\n",
      "47\n",
      "49\n",
      "51\n",
      "53\n",
      "55\n",
      "57\n",
      "59\n",
      "61\n",
      "63\n",
      "65\n",
      "67\n",
      "69\n",
      "71\n",
      "73\n",
      "75\n",
      "77\n",
      "79\n",
      "81\n",
      "83\n",
      "85\n",
      "87\n",
      "89\n",
      "91\n",
      "93\n",
      "95\n",
      "97\n",
      "99\n"
     ]
    }
   ],
   "source": [
    "for i in range(1,100,2):\n",
    "    print(i)\n"
   ]
  },
  {
   "cell_type": "markdown",
   "id": "e24131a5",
   "metadata": {},
   "source": [
    "# Looping Statement 2"
   ]
  },
  {
   "cell_type": "markdown",
   "id": "8dad25a1",
   "metadata": {},
   "source": [
    "# 1) check whether the number is pallindrome or not"
   ]
  },
  {
   "cell_type": "code",
   "execution_count": 10,
   "id": "ce07d73f",
   "metadata": {},
   "outputs": [
    {
     "name": "stdout",
     "output_type": "stream",
     "text": [
      "enter the number: 123\n",
      "the no is not pallindrome\n"
     ]
    }
   ],
   "source": [
    "n=int(input(\"enter the number: \"))\n",
    "rev=0\n",
    "temp=n\n",
    "while n>0:\n",
    "    dig=n%10\n",
    "    rev=rev*10+dig\n",
    "    n=n//10\n",
    "if temp==rev:\n",
    "    print(\"the no is pallindrome\")\n",
    "else:\n",
    "    print(\"the no is not pallindrome\")\n",
    "    \n",
    "    "
   ]
  },
  {
   "cell_type": "markdown",
   "id": "f974592d",
   "metadata": {},
   "source": [
    "# 2) program to find factors"
   ]
  },
  {
   "cell_type": "code",
   "execution_count": 2,
   "id": "99dfef83",
   "metadata": {},
   "outputs": [
    {
     "name": "stdout",
     "output_type": "stream",
     "text": [
      "enter a number: 5\n",
      "1\n",
      "5\n"
     ]
    }
   ],
   "source": [
    "n=int(input(\"enter a number: \"))   #for loop\n",
    "for i in range(1,n+1):\n",
    "    if n%i==0:\n",
    "        print(i)"
   ]
  },
  {
   "cell_type": "code",
   "execution_count": 3,
   "id": "172b7c9e",
   "metadata": {},
   "outputs": [
    {
     "name": "stdout",
     "output_type": "stream",
     "text": [
      "enter a number:6\n",
      "1\n",
      "2\n",
      "3\n",
      "6\n"
     ]
    }
   ],
   "source": [
    "n=int(input(\"enter a number:\"))    #while loop\n",
    "i=1\n",
    "while i<=n:\n",
    "    if n%i==0:\n",
    "        print(i)\n",
    "    i+=1"
   ]
  },
  {
   "cell_type": "markdown",
   "id": "552919f0",
   "metadata": {},
   "source": [
    "# 3) Reverse a number"
   ]
  },
  {
   "cell_type": "code",
   "execution_count": 4,
   "id": "6ac0cc42",
   "metadata": {},
   "outputs": [
    {
     "name": "stdout",
     "output_type": "stream",
     "text": [
      "enter the number:13456\n",
      "65431\n"
     ]
    }
   ],
   "source": [
    "n=int(input(\"enter the number:\"))\n",
    "rev=0\n",
    "while n>0:\n",
    "    dig=n%10\n",
    "    rev=rev*10+dig\n",
    "    n=n//10\n",
    "print(rev)"
   ]
  },
  {
   "cell_type": "markdown",
   "id": "113c0591",
   "metadata": {},
   "source": [
    "# 4) print sum of reverse a number"
   ]
  },
  {
   "cell_type": "code",
   "execution_count": 5,
   "id": "d0b7fbec",
   "metadata": {},
   "outputs": [
    {
     "name": "stdout",
     "output_type": "stream",
     "text": [
      "enter the number:12345\n",
      "15\n"
     ]
    }
   ],
   "source": [
    "n=int(input(\"enter the number:\"))\n",
    "Sum=0\n",
    "while n>0:\n",
    "    rev=n%10\n",
    "    Sum+=rev\n",
    "    n=n//10\n",
    "print(Sum)    "
   ]
  },
  {
   "cell_type": "markdown",
   "id": "4d6a711b",
   "metadata": {},
   "source": [
    "# 5) Print number in reverse order"
   ]
  },
  {
   "cell_type": "code",
   "execution_count": 6,
   "id": "38bd4576",
   "metadata": {},
   "outputs": [
    {
     "name": "stdout",
     "output_type": "stream",
     "text": [
      "enter the number: 5\n",
      "5\n",
      "4\n",
      "3\n",
      "2\n",
      "1\n"
     ]
    }
   ],
   "source": [
    "num=int(input(\"enter the number: \"))\n",
    "for i in range(num,0,-1):\n",
    "    print(i)"
   ]
  },
  {
   "cell_type": "markdown",
   "id": "af902f10",
   "metadata": {},
   "source": [
    "# 6) print the cube from 1 to a given number"
   ]
  },
  {
   "cell_type": "code",
   "execution_count": 7,
   "id": "6d8d2e05",
   "metadata": {},
   "outputs": [
    {
     "name": "stdout",
     "output_type": "stream",
     "text": [
      "enter the number: 3\n",
      "3\n",
      "9\n",
      "27\n"
     ]
    }
   ],
   "source": [
    "n=int(input(\"enter the number: \"))\n",
    "for i in range(1,n+1):\n",
    "    cube=n**i\n",
    "    print(cube)\n"
   ]
  },
  {
   "cell_type": "markdown",
   "id": "1e0da04b",
   "metadata": {},
   "source": [
    "# 7) check the prime or not"
   ]
  },
  {
   "cell_type": "code",
   "execution_count": 12,
   "id": "78d9e204",
   "metadata": {},
   "outputs": [
    {
     "name": "stdout",
     "output_type": "stream",
     "text": [
      "2\n",
      "the prime\n"
     ]
    }
   ],
   "source": [
    "num=int(input())\n",
    "flag=False\n",
    "for i in range(2,num):\n",
    "    if num%i==0:\n",
    "        flag=True\n",
    "        break\n",
    "if  flag==True:\n",
    "    print(\"the no is not prime\")\n",
    "else:\n",
    "    print(\"the prime\")\n",
    "    \n",
    "        \n",
    "\n"
   ]
  },
  {
   "cell_type": "markdown",
   "id": "b8947e24",
   "metadata": {},
   "source": [
    "# 8) print the prime numbers 1 to100"
   ]
  },
  {
   "cell_type": "code",
   "execution_count": 13,
   "id": "73923fad",
   "metadata": {},
   "outputs": [
    {
     "name": "stdout",
     "output_type": "stream",
     "text": [
      "2\n",
      "3\n",
      "5\n",
      "7\n",
      "11\n",
      "13\n",
      "17\n",
      "19\n",
      "23\n",
      "29\n",
      "31\n",
      "37\n",
      "41\n",
      "43\n",
      "47\n",
      "53\n",
      "59\n",
      "61\n",
      "67\n",
      "71\n",
      "73\n",
      "79\n",
      "83\n",
      "89\n",
      "97\n"
     ]
    }
   ],
   "source": [
    "for i in range(2,101):\n",
    "    for j in range(2,101):\n",
    "        if i%j==0:\n",
    "            break\n",
    "    if i==j:\n",
    "        print(i)"
   ]
  },
  {
   "cell_type": "markdown",
   "id": "2b98f532",
   "metadata": {},
   "source": [
    "# Looping statement 3"
   ]
  },
  {
   "cell_type": "markdown",
   "id": "f88004cd",
   "metadata": {},
   "source": [
    "# 1) count the total number of digits in a number"
   ]
  },
  {
   "cell_type": "code",
   "execution_count": 11,
   "id": "bb6c54c9",
   "metadata": {},
   "outputs": [
    {
     "name": "stdout",
     "output_type": "stream",
     "text": [
      "2345\n",
      "4\n"
     ]
    }
   ],
   "source": [
    "num=int(input())\n",
    "count=0\n",
    "while num>0:\n",
    "    num=num//10\n",
    "    count=count+1\n",
    "print(count)    \n",
    "    "
   ]
  },
  {
   "cell_type": "markdown",
   "id": "b6450c20",
   "metadata": {},
   "source": [
    "# 2) fibonacci series"
   ]
  },
  {
   "cell_type": "code",
   "execution_count": 14,
   "id": "3b8f91f5",
   "metadata": {},
   "outputs": [
    {
     "name": "stdout",
     "output_type": "stream",
     "text": [
      "enter the number6\n",
      "0\n",
      "1\n",
      "1\n",
      "2\n",
      "3\n",
      "5\n"
     ]
    }
   ],
   "source": [
    "num=int(input(\"enter the number\"))\n",
    "n1,n2=0,1\n",
    "i=0\n",
    "while i<num:\n",
    "    print(n1)\n",
    "    last=n1+n2\n",
    "    n1=n2\n",
    "    n2=last\n",
    "    i+=1"
   ]
  },
  {
   "cell_type": "markdown",
   "id": "6ca406a4",
   "metadata": {},
   "source": [
    "# 3) check wheather given number is perfect number or not"
   ]
  },
  {
   "cell_type": "code",
   "execution_count": 15,
   "id": "87798c54",
   "metadata": {},
   "outputs": [
    {
     "name": "stdout",
     "output_type": "stream",
     "text": [
      "enter the number 6\n",
      "perfect no\n"
     ]
    }
   ],
   "source": [
    "x=int(input(\"enter the number \"))\n",
    "sum=0\n",
    "for i in range(1,x):\n",
    "    if x%i==0:\n",
    "        sum=sum+i\n",
    "if x==sum:\n",
    "    print(\"perfect no\")\n",
    "else:\n",
    "    print(\"not perfect no\")\n",
    "            "
   ]
  },
  {
   "cell_type": "markdown",
   "id": "5d889e02",
   "metadata": {},
   "source": [
    "# 4) check wheather given number is armstrong number or not"
   ]
  },
  {
   "cell_type": "code",
   "execution_count": 16,
   "id": "3fdf247b",
   "metadata": {},
   "outputs": [
    {
     "name": "stdout",
     "output_type": "stream",
     "text": [
      "enter the number153\n",
      "armstrong number\n"
     ]
    }
   ],
   "source": [
    "num=int(input(\"enter the number\"))\n",
    "val=0\n",
    "x=num\n",
    "while x>0:\n",
    "    dig=x%10\n",
    "    val=val+dig**3\n",
    "    x=x//10\n",
    "if num==val:\n",
    "    print(\"armstrong number\")\n",
    "else:\n",
    "    print(\"not armstrong number\")"
   ]
  },
  {
   "cell_type": "markdown",
   "id": "56a912a3",
   "metadata": {},
   "source": [
    "# 5) check wheather given number is strongest number or not"
   ]
  },
  {
   "cell_type": "code",
   "execution_count": 17,
   "id": "de39193f",
   "metadata": {},
   "outputs": [
    {
     "name": "stdout",
     "output_type": "stream",
     "text": [
      "enter the number145\n",
      "the no is strongest\n"
     ]
    }
   ],
   "source": [
    "n=int(input(\"enter the number\"))\n",
    "temp=n\n",
    "add=0\n",
    "while n>0:\n",
    "    rem=n%10\n",
    "    fact=1\n",
    "    i=1\n",
    "    while i<=rem:\n",
    "        fact=fact*i\n",
    "        i=i+1\n",
    "    add=add+fact    \n",
    "    \n",
    "    n=n//10\n",
    "if add==temp:\n",
    "    print(\"the no is strongest\")\n",
    "else:\n",
    "    print(\"the no is not strongest\")\n"
   ]
  },
  {
   "cell_type": "markdown",
   "id": "832949f8",
   "metadata": {},
   "source": [
    "# Looping statement 4"
   ]
  },
  {
   "cell_type": "markdown",
   "id": "d40e9b62",
   "metadata": {},
   "source": [
    "# 1) find the numbers which is divisible by 7 and multiply of 5 between 1000 and 2000"
   ]
  },
  {
   "cell_type": "code",
   "execution_count": 12,
   "id": "62bffcdd",
   "metadata": {},
   "outputs": [
    {
     "name": "stdout",
     "output_type": "stream",
     "text": [
      "1015\n",
      "1050\n",
      "1085\n",
      "1120\n",
      "1155\n",
      "1190\n",
      "1225\n",
      "1260\n",
      "1295\n",
      "1330\n",
      "1365\n",
      "1400\n",
      "1435\n",
      "1470\n",
      "1505\n",
      "1540\n",
      "1575\n",
      "1610\n",
      "1645\n",
      "1680\n",
      "1715\n",
      "1750\n",
      "1785\n",
      "1820\n",
      "1855\n",
      "1890\n",
      "1925\n",
      "1960\n",
      "1995\n"
     ]
    }
   ],
   "source": [
    "for i in range(1000,2001):\n",
    "    if i%7==0 and i%5==0:\n",
    "        \n",
    "        print(i)"
   ]
  },
  {
   "cell_type": "markdown",
   "id": "f00689bb",
   "metadata": {},
   "source": [
    "# looping statement -4"
   ]
  },
  {
   "cell_type": "markdown",
   "id": "09930158",
   "metadata": {},
   "source": [
    "# star pattern"
   ]
  },
  {
   "cell_type": "code",
   "execution_count": 2,
   "id": "81e65a2c",
   "metadata": {},
   "outputs": [
    {
     "name": "stdout",
     "output_type": "stream",
     "text": [
      "*  \n",
      "*  *  \n",
      "*  *  *  \n",
      "*  *  *  *  \n",
      "*  *  *  *  *  \n"
     ]
    }
   ],
   "source": [
    "for i in range(5):\n",
    "    for j in range(i+1):\n",
    "        print(\"* \",end=\" \")\n",
    "    print()    "
   ]
  },
  {
   "cell_type": "code",
   "execution_count": 3,
   "id": "9d656276",
   "metadata": {},
   "outputs": [
    {
     "name": "stdout",
     "output_type": "stream",
     "text": [
      "******\n",
      "******\n",
      "******\n",
      "******\n",
      "******\n",
      "******\n"
     ]
    }
   ],
   "source": [
    "for i in range(6):\n",
    "    for j in range(6):\n",
    "        print(\"*\",end=\"\")\n",
    "    print()   "
   ]
  },
  {
   "cell_type": "code",
   "execution_count": 11,
   "id": "d8ca8cf0",
   "metadata": {},
   "outputs": [
    {
     "name": "stdout",
     "output_type": "stream",
     "text": [
      "*  *  *  *  *  \n",
      "*  *  *  *  \n",
      "*  *  *  \n",
      "*  *  \n",
      "*  \n"
     ]
    }
   ],
   "source": [
    "for i in range(5):\n",
    "    for j in range(i,5):\n",
    "        print(\"* \",end=\" \")\n",
    "    print()    "
   ]
  },
  {
   "cell_type": "code",
   "execution_count": 16,
   "id": "8cb78b05",
   "metadata": {},
   "outputs": [
    {
     "name": "stdout",
     "output_type": "stream",
     "text": [
      "  * * * * * \n",
      "    * * * * \n",
      "      * * * \n",
      "        * * \n",
      "          * \n"
     ]
    }
   ],
   "source": [
    "for i in range(5):\n",
    "    for j in range(i+1):\n",
    "        print(\" \",end=\" \")\n",
    "    for j in range(i,5):\n",
    "        print(\"*\",end=\" \")\n",
    "    print()    \n",
    "        "
   ]
  },
  {
   "cell_type": "code",
   "execution_count": 17,
   "id": "a036df1b",
   "metadata": {},
   "outputs": [
    {
     "name": "stdout",
     "output_type": "stream",
     "text": [
      "          * \n",
      "        * * \n",
      "      * * * \n",
      "    * * * * \n",
      "  * * * * * \n"
     ]
    }
   ],
   "source": [
    "for i in range(5):\n",
    "    for j in range(i,5):\n",
    "        print(\" \",end=\" \")\n",
    "    for j in range(i+1):\n",
    "        print(\"*\",end=\" \")\n",
    "    print()    \n",
    "    "
   ]
  },
  {
   "cell_type": "markdown",
   "id": "1bd4dd65",
   "metadata": {},
   "source": [
    "# 2) number pattern"
   ]
  },
  {
   "cell_type": "code",
   "execution_count": 2,
   "id": "09b28333",
   "metadata": {},
   "outputs": [
    {
     "name": "stdout",
     "output_type": "stream",
     "text": [
      "\n",
      "1 \n",
      "1 2 \n",
      "1 2 3 \n",
      "1 2 3 4 \n",
      "1 2 3 4 5 \n"
     ]
    }
   ],
   "source": [
    "for i in range(6):\n",
    "    for j in range(1,i+1):\n",
    "        print(j,end=\" \")\n",
    "    print()   "
   ]
  },
  {
   "cell_type": "code",
   "execution_count": 1,
   "id": "e51991c4",
   "metadata": {},
   "outputs": [
    {
     "name": "stdout",
     "output_type": "stream",
     "text": [
      "1 \n",
      "2 2 \n",
      "3 3 3 \n",
      "4 4 4 4 \n",
      "5 5 5 5 5 \n"
     ]
    }
   ],
   "source": [
    "for i in range(1,6):\n",
    "    for j in range(1,i+1):\n",
    "        \n",
    "         print(i,end=\" \")\n",
    "    print()        "
   ]
  },
  {
   "cell_type": "code",
   "execution_count": 24,
   "id": "8cfcfb69",
   "metadata": {},
   "outputs": [
    {
     "name": "stdout",
     "output_type": "stream",
     "text": [
      "5 4 3 2 1 \n",
      "4 3 2 1 \n",
      "3 2 1 \n",
      "2 1 \n",
      "1 \n"
     ]
    }
   ],
   "source": [
    "for i in range(1,6):\n",
    "    for j in range(i,6):\n",
    "        print(6-j,end=\" \")\n",
    "    print()   \n",
    "        "
   ]
  },
  {
   "cell_type": "code",
   "execution_count": 3,
   "id": "f05a6af4",
   "metadata": {},
   "outputs": [
    {
     "name": "stdout",
     "output_type": "stream",
     "text": [
      "5 4 3 2 1 \n",
      "5 4 3 2 \n",
      "5 4 3 \n",
      "5 4 \n",
      "5 \n"
     ]
    }
   ],
   "source": [
    "for i in range(5):\n",
    "    for j in range(5-i):\n",
    "        print(5-j,end=\" \")\n",
    "    print()    "
   ]
  },
  {
   "cell_type": "code",
   "execution_count": 5,
   "id": "9f0cfb06",
   "metadata": {},
   "outputs": [
    {
     "name": "stdout",
     "output_type": "stream",
     "text": [
      "1 2 3 4 5 \n",
      "1 2 3 4 \n",
      "1 2 3 \n",
      "1 2 \n",
      "1 \n"
     ]
    }
   ],
   "source": [
    "for i in range(5,0,-1):\n",
    "    for j in range(1,i+1):\n",
    "        print(j,end=\" \")\n",
    "    print()    "
   ]
  },
  {
   "cell_type": "markdown",
   "id": "fb1a2a91",
   "metadata": {},
   "source": [
    "# 3) alphabet pattern"
   ]
  },
  {
   "cell_type": "code",
   "execution_count": 7,
   "id": "f53bf76f",
   "metadata": {},
   "outputs": [
    {
     "name": "stdout",
     "output_type": "stream",
     "text": [
      "\n",
      "A \n",
      "A B \n",
      "A B C \n",
      "A B C D \n",
      "A B C D E \n"
     ]
    }
   ],
   "source": [
    "for i in range(6):\n",
    "    for j in range(1,i+1):\n",
    "        print(chr(64+j),end=\" \")\n",
    "    print() "
   ]
  },
  {
   "cell_type": "code",
   "execution_count": 8,
   "id": "81d486d3",
   "metadata": {},
   "outputs": [
    {
     "name": "stdout",
     "output_type": "stream",
     "text": [
      "\n",
      "A \n",
      "B B \n",
      "C C C \n",
      "D D D D \n",
      "E E E E E \n"
     ]
    }
   ],
   "source": [
    "for i in range(6):\n",
    "    for j in range(1,i+1):\n",
    "        print(chr(64+i),end=\" \")\n",
    "    print() "
   ]
  },
  {
   "cell_type": "code",
   "execution_count": 9,
   "id": "e3a80d3a",
   "metadata": {},
   "outputs": [
    {
     "name": "stdout",
     "output_type": "stream",
     "text": [
      "A B C D E \n",
      "A B C D \n",
      "A B C \n",
      "A B \n",
      "A \n"
     ]
    }
   ],
   "source": [
    "for i in range(5,0,-1):\n",
    "    for j in range(1,i+1):\n",
    "        print(chr(64+j),end=\" \")\n",
    "    print() "
   ]
  },
  {
   "cell_type": "code",
   "execution_count": 13,
   "id": "5d61e9b1",
   "metadata": {},
   "outputs": [
    {
     "name": "stdout",
     "output_type": "stream",
     "text": [
      "E E E E E \n",
      "D D D D \n",
      "C C C \n",
      "B B \n",
      "A \n"
     ]
    }
   ],
   "source": [
    "for i in range(5,0,-1):\n",
    "    for j in range(1,i+1):\n",
    "        print(chr(64+i),end=\" \")\n",
    "    print() "
   ]
  },
  {
   "cell_type": "code",
   "execution_count": null,
   "id": "f8054848",
   "metadata": {},
   "outputs": [],
   "source": []
  }
 ],
 "metadata": {
  "kernelspec": {
   "display_name": "Python 3 (ipykernel)",
   "language": "python",
   "name": "python3"
  },
  "language_info": {
   "codemirror_mode": {
    "name": "ipython",
    "version": 3
   },
   "file_extension": ".py",
   "mimetype": "text/x-python",
   "name": "python",
   "nbconvert_exporter": "python",
   "pygments_lexer": "ipython3",
   "version": "3.10.9"
  }
 },
 "nbformat": 4,
 "nbformat_minor": 5
}
