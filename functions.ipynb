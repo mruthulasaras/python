{
 "cells": [
  {
   "cell_type": "code",
   "execution_count": null,
   "id": "8bc39063",
   "metadata": {},
   "outputs": [],
   "source": [
    "def function_name():\n",
    "    print(\"hello\")\n",
    "    print(\"what are you doing\")"
   ]
  },
  {
   "cell_type": "code",
   "execution_count": null,
   "id": "acb39a15",
   "metadata": {},
   "outputs": [],
   "source": [
    "function_name()"
   ]
  },
  {
   "cell_type": "markdown",
   "id": "1ccbce79",
   "metadata": {},
   "source": [
    "# passing argument"
   ]
  },
  {
   "cell_type": "code",
   "execution_count": null,
   "id": "74e32c31",
   "metadata": {},
   "outputs": [],
   "source": [
    "def function_name(name):\n",
    "    print(\"hello\",name)\n",
    "    print(\"what are you doing\")\n",
    "    "
   ]
  },
  {
   "cell_type": "code",
   "execution_count": null,
   "id": "2cdad575",
   "metadata": {},
   "outputs": [],
   "source": [
    "function_name(\"mru\")"
   ]
  },
  {
   "cell_type": "markdown",
   "id": "c4c93074",
   "metadata": {},
   "source": [
    "# passing multiple arguements"
   ]
  },
  {
   "cell_type": "code",
   "execution_count": null,
   "id": "a37ad2b1",
   "metadata": {},
   "outputs": [],
   "source": [
    "def add(x,y):\n",
    "    result=x+y\n",
    "    return result\n",
    "num1=int(input())\n",
    "num2=int(input())\n",
    "result=add(num1,num2)\n",
    "\n",
    "    "
   ]
  },
  {
   "cell_type": "markdown",
   "id": "6f4c947c",
   "metadata": {},
   "source": [
    "# using return"
   ]
  },
  {
   "cell_type": "code",
   "execution_count": null,
   "id": "6f5a6c90",
   "metadata": {},
   "outputs": [],
   "source": [
    "def add(x,y):\n",
    "    result=x+y\n",
    "    return result\n",
    "num=int(input())\n",
    "num2=int(input())\n",
    "\n",
    "result=add(num,num2)\n",
    "print(\"the summm iss..\",result)"
   ]
  },
  {
   "cell_type": "markdown",
   "id": "ca89eca1",
   "metadata": {},
   "source": [
    "# minimum function\n",
    "    \n",
    "\n"
   ]
  },
  {
   "cell_type": "code",
   "execution_count": null,
   "id": "d41bfe10",
   "metadata": {},
   "outputs": [],
   "source": [
    "def minimum(*n):\n",
    "    if n:\n",
    "        mn=n[0]\n",
    "        for value in n[1:]:\n",
    "            if value<mn:\n",
    "                mn=value\n",
    "                \n",
    "        print(mn)   \n",
    "        "
   ]
  },
  {
   "cell_type": "code",
   "execution_count": null,
   "id": "fba9d712",
   "metadata": {},
   "outputs": [],
   "source": [
    "minimum(1,6,7,8,9)"
   ]
  },
  {
   "cell_type": "markdown",
   "id": "e56ccc20",
   "metadata": {},
   "source": [
    "# maximum function"
   ]
  },
  {
   "cell_type": "code",
   "execution_count": null,
   "id": "16b32527",
   "metadata": {},
   "outputs": [],
   "source": [
    "def maximum(*n):\n",
    "    if n:\n",
    "        mn=n[0]\n",
    "        for value in n[1:]:\n",
    "            if value>mn:\n",
    "                mn=value\n",
    "        print(mn)       "
   ]
  },
  {
   "cell_type": "code",
   "execution_count": null,
   "id": "2f8b8775",
   "metadata": {},
   "outputs": [],
   "source": [
    "maximum(1,6,7,8,9)"
   ]
  },
  {
   "cell_type": "markdown",
   "id": "1123f4eb",
   "metadata": {},
   "source": [
    "# table using def"
   ]
  },
  {
   "cell_type": "code",
   "execution_count": null,
   "id": "32db2515",
   "metadata": {},
   "outputs": [],
   "source": [
    "def table():\n",
    "    for i in range(1,11):\n",
    "        tab=num*i\n",
    "        print(tab)\n",
    "num=int(input())\n",
    "table()\n",
    "    \n",
    "    "
   ]
  },
  {
   "cell_type": "markdown",
   "id": "c35aa281",
   "metadata": {},
   "source": [
    "# using def"
   ]
  },
  {
   "cell_type": "code",
   "execution_count": 1,
   "id": "55114623",
   "metadata": {},
   "outputs": [
    {
     "name": "stdout",
     "output_type": "stream",
     "text": [
      "24\n"
     ]
    }
   ],
   "source": [
    "def fact():\n",
    "    factorial=1\n",
    "    for i in range(1,5):\n",
    "        factorial=factorial*i\n",
    "    print(factorial)\n",
    "fact()    "
   ]
  },
  {
   "cell_type": "markdown",
   "id": "ef904781",
   "metadata": {},
   "source": [
    "# using return"
   ]
  },
  {
   "cell_type": "code",
   "execution_count": null,
   "id": "952041b1",
   "metadata": {},
   "outputs": [],
   "source": [
    "def fact():\n",
    "    factorial=1\n",
    "    for i in range(1,5):\n",
    "        factorial=factorial*i\n",
    "    return factorial\n",
    "fact()   "
   ]
  },
  {
   "cell_type": "code",
   "execution_count": null,
   "id": "489e7e83",
   "metadata": {},
   "outputs": [],
   "source": [
    "print(\"select your choice\")\n",
    "choices=int(input())\n",
    "if choices==1:\n",
    "    print()"
   ]
  },
  {
   "cell_type": "code",
   "execution_count": null,
   "id": "c3ccdf33",
   "metadata": {},
   "outputs": [],
   "source": [
    "def add(x,y):\n",
    "    addition=x+y\n",
    "    print(addition)\n",
    "def sub(x,y):\n",
    "    sub=x+y\n",
    "    print(sub)\n",
    "def product(x,y):\n",
    "    product=x*y\n",
    "    print(product)\n",
    "def division(x,y):\n",
    "    division=x/y\n",
    "    print(division)\n",
    "def mod(x,y):\n",
    "    modules=x%y\n",
    "    print(modules) \n",
    "    \n",
    "print(\"menu\") \n",
    "\n",
    "opt=int(input(\"enter the option \"))\n",
    "num1=int(input(\"enter the value \"))\n",
    "num2=int(input(\"enter the value \"))\n",
    "\n",
    "if opt==1:\n",
    "    add(num1,num2)\n",
    "elif opt==2:\n",
    "    sub(num1,num2)\n",
    "elif opt==3:\n",
    "    product(num1,num2)\n",
    "elif opt==4:\n",
    "    division(num1,num2)\n",
    "elif opt==5:\n",
    "    mod(num1,num2)\n",
    "else:\n",
    "    print(\"incorrect option\")\n",
    "    \n",
    "    \n",
    "    \n",
    "\n",
    "\n",
    "    \n",
    "    "
   ]
  },
  {
   "cell_type": "code",
   "execution_count": null,
   "id": "e30f0046",
   "metadata": {},
   "outputs": [],
   "source": []
  }
 ],
 "metadata": {
  "kernelspec": {
   "display_name": "Python 3 (ipykernel)",
   "language": "python",
   "name": "python3"
  },
  "language_info": {
   "codemirror_mode": {
    "name": "ipython",
    "version": 3
   },
   "file_extension": ".py",
   "mimetype": "text/x-python",
   "name": "python",
   "nbconvert_exporter": "python",
   "pygments_lexer": "ipython3",
   "version": "3.10.9"
  }
 },
 "nbformat": 4,
 "nbformat_minor": 5
}
