{
 "cells": [
  {
   "cell_type": "markdown",
   "id": "4b052029",
   "metadata": {},
   "source": [
    "# MULTITHREADING"
   ]
  },
  {
   "cell_type": "markdown",
   "id": "b182733f",
   "metadata": {},
   "source": [
    "## using run method"
   ]
  },
  {
   "cell_type": "code",
   "execution_count": 1,
   "id": "21732c46",
   "metadata": {},
   "outputs": [],
   "source": [
    "class A:\n",
    "    def run(self):\n",
    "        for i in range(15):\n",
    "            print(\"hello\")\n",
    "class B:\n",
    "    def run(self):\n",
    "        for i in range(15):\n",
    "            print(i)"
   ]
  },
  {
   "cell_type": "code",
   "execution_count": 5,
   "id": "12995db7",
   "metadata": {},
   "outputs": [],
   "source": [
    "obj=A()\n",
    "obj1=B()"
   ]
  },
  {
   "cell_type": "code",
   "execution_count": 6,
   "id": "2ad5e93a",
   "metadata": {},
   "outputs": [
    {
     "name": "stdout",
     "output_type": "stream",
     "text": [
      "hello\n",
      "hello\n",
      "hello\n",
      "hello\n",
      "hello\n",
      "hello\n",
      "hello\n",
      "hello\n",
      "hello\n",
      "hello\n",
      "hello\n",
      "hello\n",
      "hello\n",
      "hello\n",
      "hello\n",
      "0\n",
      "1\n",
      "2\n",
      "3\n",
      "4\n",
      "5\n",
      "6\n",
      "7\n",
      "8\n",
      "9\n",
      "10\n",
      "11\n",
      "12\n",
      "13\n",
      "14\n"
     ]
    }
   ],
   "source": [
    "obj.run()\n",
    "obj1.run()\n"
   ]
  },
  {
   "cell_type": "code",
   "execution_count": 14,
   "id": "6eb63cd2",
   "metadata": {},
   "outputs": [],
   "source": [
    "from threading import *\n",
    "class A(Thread):\n",
    "    def run(self):\n",
    "        for i in range(250):\n",
    "            print(\"hello\")\n",
    "class B(Thread):\n",
    "    def run(self):\n",
    "        for i in range(150):\n",
    "            print(i)"
   ]
  },
  {
   "cell_type": "markdown",
   "id": "4f056820",
   "metadata": {},
   "source": [
    "## using start"
   ]
  },
  {
   "cell_type": "code",
   "execution_count": 21,
   "id": "5c6f6daf",
   "metadata": {},
   "outputs": [],
   "source": [
    "from threading import *\n",
    "from time import sleep\n",
    "class A(Thread):\n",
    "    def run(self):\n",
    "        for i in range(10):\n",
    "            print(\"hello\")\n",
    "            sleep(5)\n",
    "class B(Thread):\n",
    "    def run(self):\n",
    "        for i in range(15):\n",
    "            print(i)"
   ]
  },
  {
   "cell_type": "code",
   "execution_count": 22,
   "id": "6f027ba8",
   "metadata": {},
   "outputs": [],
   "source": [
    "obj=A()\n",
    "obj1=B()"
   ]
  },
  {
   "cell_type": "code",
   "execution_count": 23,
   "id": "74174b62",
   "metadata": {},
   "outputs": [
    {
     "name": "stdout",
     "output_type": "stream",
     "text": [
      "hello\n",
      "0\n",
      "1\n",
      "2\n",
      "3\n",
      "4\n",
      "5\n",
      "6\n",
      "7\n",
      "8\n",
      "9\n",
      "10\n",
      "11\n",
      "12\n",
      "13\n",
      "14\n",
      "hello\n",
      "hello\n",
      "hello\n",
      "hello\n",
      "hello\n",
      "hello\n",
      "hello\n",
      "hello\n",
      "hello\n"
     ]
    }
   ],
   "source": [
    "obj.start()\n",
    "obj1.start()"
   ]
  },
  {
   "cell_type": "markdown",
   "id": "4e527dc9",
   "metadata": {},
   "source": [
    "## using sleep"
   ]
  },
  {
   "cell_type": "code",
   "execution_count": 26,
   "id": "c59f1b77",
   "metadata": {},
   "outputs": [],
   "source": [
    "from threading import *\n",
    "from time import sleep\n",
    "class A(Thread):\n",
    "    def run(self):\n",
    "        for i in range(10):\n",
    "            print(\"hello\")\n",
    "            sleep(5)\n",
    "class B(Thread):\n",
    "    def run(self):\n",
    "        for i in range(15):\n",
    "            print(i)\n",
    "            sleep(2)"
   ]
  },
  {
   "cell_type": "code",
   "execution_count": 27,
   "id": "ceca8875",
   "metadata": {},
   "outputs": [
    {
     "name": "stdout",
     "output_type": "stream",
     "text": [
      "hello\n",
      "0\n",
      "1\n",
      "2\n",
      "hello\n",
      "3\n",
      "4\n",
      "hello\n",
      "5\n",
      "6\n",
      "7\n",
      "hello\n",
      "8\n",
      "9\n",
      "hello\n",
      "10\n",
      "11\n",
      "12\n",
      "hello\n",
      "13\n",
      "14\n",
      "hello\n",
      "hello\n",
      "hello\n",
      "hello\n"
     ]
    }
   ],
   "source": [
    "obj=A()\n",
    "obj1=B()\n",
    "obj.start()\n",
    "obj1.start()"
   ]
  },
  {
   "cell_type": "markdown",
   "id": "7ee327c1",
   "metadata": {},
   "source": [
    "# joins"
   ]
  },
  {
   "cell_type": "code",
   "execution_count": 1,
   "id": "3e3d017e",
   "metadata": {},
   "outputs": [
    {
     "name": "stdout",
     "output_type": "stream",
     "text": [
      "hello0\n",
      "\n",
      "1\n",
      "2\n",
      "hello\n",
      "3\n",
      "4\n",
      "hello\n",
      "5\n",
      "6\n",
      "7\n",
      "hello\n",
      "8\n",
      "9\n",
      "hello\n",
      "10\n",
      "11\n",
      "12\n",
      "hello\n",
      "13\n",
      "14\n",
      "hello\n",
      "hello\n",
      "hello\n",
      "hello\n",
      "class A process completed\n",
      "class b process completed\n"
     ]
    }
   ],
   "source": [
    "from threading import *\n",
    "from time import sleep\n",
    "class A(Thread):\n",
    "    def run(self):\n",
    "        for i in range(10):\n",
    "            print(\"hello\")\n",
    "            sleep(5)\n",
    "class B(Thread):\n",
    "    def run(self):\n",
    "        for i in range(15):\n",
    "            print(i)\n",
    "            sleep(2)\n",
    "            \n",
    "obj=A()\n",
    "obj1=B()\n",
    "obj.start()\n",
    "obj1.start()\n",
    "\n",
    "obj.join()\n",
    "print('class A process completed')\n",
    "obj1.join()\n",
    "print('class b process completed')\n",
    "            "
   ]
  },
  {
   "cell_type": "code",
   "execution_count": 2,
   "id": "aecc33bb",
   "metadata": {},
   "outputs": [
    {
     "name": "stdout",
     "output_type": "stream",
     "text": [
      "hello0\n",
      "\n",
      "hello\n",
      "1hello\n",
      "\n",
      "hello\n",
      "hello\n",
      "2\n",
      "class b process completed\n",
      "3\n",
      "4\n",
      "5\n",
      "6\n",
      "7\n",
      "8\n",
      "9\n",
      "class a process completed\n"
     ]
    }
   ],
   "source": [
    "from time import sleep\n",
    "class A(Thread):\n",
    "    def run(self):\n",
    "        for i in range(5):\n",
    "            print(\"hello\")\n",
    "            sleep(1)\n",
    "class B(Thread):\n",
    "    def run(self):\n",
    "        for i in range(10):\n",
    "            print(i)\n",
    "            sleep(2)\n",
    "            \n",
    "obj=A()\n",
    "obj1=B()\n",
    "obj.start()\n",
    "obj1.start()\n",
    "\n",
    "obj.join()\n",
    "print('class b process completed')\n",
    "obj1.join()\n",
    "print('class a process completed')"
   ]
  },
  {
   "cell_type": "code",
   "execution_count": 4,
   "id": "8fd8f1bb",
   "metadata": {},
   "outputs": [
    {
     "ename": "ModuleNotFoundError",
     "evalue": "No module named 'Thread'",
     "output_type": "error",
     "traceback": [
      "\u001b[1;31m---------------------------------------------------------------------------\u001b[0m",
      "\u001b[1;31mModuleNotFoundError\u001b[0m                       Traceback (most recent call last)",
      "Cell \u001b[1;32mIn[4], line 1\u001b[0m\n\u001b[1;32m----> 1\u001b[0m \u001b[38;5;28;01mfrom\u001b[39;00m \u001b[38;5;21;01mThread\u001b[39;00m \u001b[38;5;28;01mimport\u001b[39;00m \u001b[38;5;241m*\u001b[39m\n\u001b[0;32m      2\u001b[0m \u001b[38;5;28;01mfrom\u001b[39;00m \u001b[38;5;21;01mtime\u001b[39;00m \u001b[38;5;28;01mimport\u001b[39;00m sleep\n\u001b[0;32m      3\u001b[0m \u001b[38;5;28;01mclass\u001b[39;00m \u001b[38;5;21;01mA\u001b[39;00m(Thread):\n",
      "\u001b[1;31mModuleNotFoundError\u001b[0m: No module named 'Thread'"
     ]
    }
   ],
   "source": [
    "\n",
    "from time import sleep\n",
    "class A(Thread):\n",
    "    def run(self):\n",
    "        for i in range(10):\n",
    "            print(\"hello\")\n",
    "            sleep(5)\n",
    "class B(Thread):\n",
    "    def run(self):\n",
    "        for i in range(15):\n",
    "            print(i)\n",
    "            sleep(2)\n",
    "            \n",
    "obj=A()\n",
    "obj1=B()\n",
    "obj.start()\n",
    "obj1.start()\n",
    "\n",
    "obj.join(3)\n",
    "print('class A process completed')\n",
    "obj1.join(5)\n",
    "print('class b process completed')"
   ]
  },
  {
   "cell_type": "markdown",
   "id": "c0eb9ee5",
   "metadata": {},
   "source": [
    "# current thread name"
   ]
  },
  {
   "cell_type": "code",
   "execution_count": 7,
   "id": "a6c88f1e",
   "metadata": {},
   "outputs": [
    {
     "name": "stdout",
     "output_type": "stream",
     "text": [
      "hello Thread-7\n",
      "0 Thread-8\n",
      "hello Thread-7\n",
      "hello Thread-7\n",
      "1 Thread-8\n",
      "hello Thread-7\n",
      "2 Thread-8\n",
      "hello Thread-7\n",
      "class b process completed\n",
      "3 Thread-8\n",
      "4 Thread-8\n",
      "5 Thread-8\n",
      "6 Thread-8\n",
      "7 Thread-8\n",
      "8 Thread-8\n",
      "9 Thread-8\n",
      "class a process completed\n",
      "whole process completed MainThread\n"
     ]
    }
   ],
   "source": [
    "import warnings\n",
    "warnings.filterwarnings('ignore')\n",
    "from threading import *\n",
    "from time import sleep\n",
    "class A(Thread):\n",
    "    def run(self):\n",
    "        for i in range(5):\n",
    "            print(\"hello\",current_thread().getName())\n",
    "            sleep(1)\n",
    "class B(Thread):\n",
    "    def run(self):\n",
    "        for i in range(10):\n",
    "            print(i,current_thread().getName())\n",
    "            sleep(2)\n",
    "            \n",
    "obj=A()\n",
    "obj1=B()\n",
    "obj.start()\n",
    "obj1.start()\n",
    "\n",
    "obj.join()\n",
    "print('class b process completed')\n",
    "obj1.join()\n",
    "print('class a process completed')\n",
    "\n",
    "print('whole process completed',current_thread().getName())"
   ]
  },
  {
   "cell_type": "markdown",
   "id": "f181e1b0",
   "metadata": {},
   "source": [
    "# set thread name"
   ]
  },
  {
   "cell_type": "code",
   "execution_count": 9,
   "id": "f83af146",
   "metadata": {},
   "outputs": [
    {
     "name": "stdout",
     "output_type": "stream",
     "text": [
      "hello thread_A\n",
      "0 thread_B\n",
      "hello thread_A\n",
      "1 thread_B\n",
      "hello thread_A\n",
      "hello thread_A\n",
      "2hello thread_A\n",
      " thread_B\n",
      "class b process completed\n",
      "3 thread_B\n",
      "4 thread_B\n",
      "5 thread_B\n",
      "6 thread_B\n",
      "7 thread_B\n",
      "8 thread_B\n",
      "9 thread_B\n",
      "class a process completed\n",
      "whole process completed MainThread\n"
     ]
    }
   ],
   "source": [
    "class A(Thread):\n",
    "    def run(self):\n",
    "        for i in range(5):\n",
    "            print(\"hello\",current_thread().getName())\n",
    "            sleep(1)\n",
    "class B(Thread):\n",
    "    def run(self):\n",
    "        for i in range(10):\n",
    "            print(i,current_thread().getName())\n",
    "            sleep(2)\n",
    "            \n",
    "obj=A()\n",
    "obj1=B()\n",
    "obj.setName('thread_A')\n",
    "obj1.setName('thread_B')\n",
    "obj.start()\n",
    "obj1.start()\n",
    "\n",
    "obj.join()\n",
    "print('class b process completed')\n",
    "obj1.join()\n",
    "print('class a process completed')\n",
    "\n",
    "print('whole process completed',current_thread().getName())"
   ]
  },
  {
   "cell_type": "code",
   "execution_count": 10,
   "id": "a7d50390",
   "metadata": {},
   "outputs": [
    {
     "name": "stdout",
     "output_type": "stream",
     "text": [
      "hello Thread-13\n",
      "0 Thread-14\n",
      "hello thread_A\n",
      "hello1 thread_B\n",
      " thread_A\n",
      "hello thread_A\n",
      "hello2 thread_B\n",
      " thread_A\n",
      "class b process completed\n",
      "3 thread_B\n",
      "4 thread_B\n",
      "5 thread_B\n",
      "6 thread_B\n",
      "7 thread_B\n",
      "8 thread_B\n",
      "9 thread_B\n",
      "class a process completed\n",
      "whole process completed MainThread\n"
     ]
    }
   ],
   "source": [
    "class A(Thread):\n",
    "    def run(self):\n",
    "        for i in range(5):\n",
    "            print(\"hello\",current_thread().getName())\n",
    "            sleep(1)\n",
    "class B(Thread):\n",
    "    def run(self):\n",
    "        for i in range(10):\n",
    "            print(i,current_thread().getName())\n",
    "            sleep(2)\n",
    "            \n",
    "obj=A()\n",
    "obj1=B()\n",
    "obj.start()\n",
    "obj1.start()\n",
    "obj.setName('thread_A')\n",
    "obj1.setName('thread_B')\n",
    "\n",
    "obj.join()\n",
    "print('class b process completed')\n",
    "obj1.join()\n",
    "print('class a process completed')\n",
    "\n",
    "print('whole process completed',current_thread().getName())"
   ]
  },
  {
   "cell_type": "code",
   "execution_count": null,
   "id": "a2789378",
   "metadata": {},
   "outputs": [],
   "source": [
    "# class A(Thread):\n",
    "    def run(self):\n",
    "        for i in range(5):\n",
    "            print(\"hello\",current_thread().getName())\n",
    "            sleep(1)\n",
    "class B(Thread):\n",
    "    def run(self):\n",
    "        for i in range(10):\n",
    "            print(i,current_thread().getName())\n",
    "            sleep(2)\n",
    "            \n",
    "obj=A()\n",
    "obj1=B()\n",
    "obj.start()\n",
    "obj1.start()\n",
    "obj.setName('thread_A')\n",
    "obj1.setName('thread_B')\n",
    "\n",
    "obj.join()\n",
    "print('class b process completed')\n",
    "obj1.join()\n",
    "print('class a process completed')\n",
    "\n",
    "print('whole process completed',current_thread().getName())\n",
    "current_thread().setname('New main thread')\n",
    "print('the process is completed',current_thread().getName())"
   ]
  },
  {
   "cell_type": "markdown",
   "id": "cb8cef6d",
   "metadata": {},
   "source": [
    "# with out using class"
   ]
  },
  {
   "cell_type": "code",
   "execution_count": 26,
   "id": "999c7a80",
   "metadata": {},
   "outputs": [
    {
     "name": "stdout",
     "output_type": "stream",
     "text": [
      "with out class\n",
      "with out class\n",
      "with out class\n",
      "with out class\n",
      "with out class\n",
      "MainThread\n"
     ]
    }
   ],
   "source": [
    "import warnings\n",
    "warnings.filterwarnings('ignore')\n",
    "\n",
    "def show():\n",
    "    for i in range(5):\n",
    "        print(\"with out class\")\n",
    "obj=Thread(target=show())        \n",
    "print(current_thread().getName())     \n",
    "obj.start()"
   ]
  },
  {
   "cell_type": "markdown",
   "id": "eef7151d",
   "metadata": {},
   "source": [
    "# without inheriting thread class"
   ]
  },
  {
   "cell_type": "code",
   "execution_count": 15,
   "id": "2f645456",
   "metadata": {},
   "outputs": [
    {
     "name": "stdout",
     "output_type": "stream",
     "text": [
      "hello 0\n",
      "hello 1\n",
      "hello 2\n",
      "hello 3\n",
      "hello 4\n"
     ]
    }
   ],
   "source": [
    "from threading import *\n",
    "from time import sleep\n",
    "\n",
    "class A:\n",
    "    def show(self):\n",
    "        for i in range(5):\n",
    "            print(\"hello\",i)\n",
    "            sleep(3)\n",
    "            \n",
    "obj=A() \n",
    "t=Thread(target=obj.show)\n",
    "t.start()"
   ]
  },
  {
   "cell_type": "markdown",
   "id": "b0f3b09f",
   "metadata": {},
   "source": [
    "# isalive"
   ]
  },
  {
   "cell_type": "code",
   "execution_count": 22,
   "id": "d04ecb9b",
   "metadata": {},
   "outputs": [
    {
     "name": "stdout",
     "output_type": "stream",
     "text": [
      "hello 0\n",
      "hello 1\n",
      "hello 2\n",
      "hello 3\n",
      "hello 4\n",
      "Thread is alive or not: False\n"
     ]
    }
   ],
   "source": [
    "def show():\n",
    "    for i in range(5):\n",
    "        print(\"hello\",i)\n",
    "t=Thread(target=show )\n",
    "t.start()\n",
    "print(\"Thread is alive or not:\",t.is_alive())"
   ]
  },
  {
   "cell_type": "code",
   "execution_count": 28,
   "id": "34b851fe",
   "metadata": {},
   "outputs": [
    {
     "name": "stdout",
     "output_type": "stream",
     "text": [
      "hello 0\n",
      "hello 1\n",
      "hello 2\n",
      "hello 3\n",
      "hello 4\n",
      "Thread is alive or not: False\n",
      "process is completed\n",
      "Thread is alive or not: False\n"
     ]
    }
   ],
   "source": [
    "def show():\n",
    "    for i in range(5):\n",
    "        print(\"hello\",i)\n",
    "t=Thread(target=show() )\n",
    "t.start()\n",
    "print(\"Thread is alive or not:\",t.is_alive())\n",
    "t.join()\n",
    "print(\"process is completed\")\n",
    "print(\"Thread is alive or not:\",t.is_alive())\n"
   ]
  },
  {
   "cell_type": "code",
   "execution_count": null,
   "id": "93299bf7",
   "metadata": {},
   "outputs": [],
   "source": []
  }
 ],
 "metadata": {
  "kernelspec": {
   "display_name": "Python 3 (ipykernel)",
   "language": "python",
   "name": "python3"
  },
  "language_info": {
   "codemirror_mode": {
    "name": "ipython",
    "version": 3
   },
   "file_extension": ".py",
   "mimetype": "text/x-python",
   "name": "python",
   "nbconvert_exporter": "python",
   "pygments_lexer": "ipython3",
   "version": "3.10.9"
  }
 },
 "nbformat": 4,
 "nbformat_minor": 5
}
