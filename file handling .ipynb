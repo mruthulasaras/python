{
 "cells": [
  {
   "cell_type": "markdown",
   "id": "20675b02",
   "metadata": {},
   "source": [
    "# ASSIGNMENT OF FILE HANDLING"
   ]
  },
  {
   "cell_type": "markdown",
   "id": "85ea64e5",
   "metadata": {},
   "source": [
    "## 1) To read first 5 character from the file"
   ]
  },
  {
   "cell_type": "code",
   "execution_count": 3,
   "id": "25f00634",
   "metadata": {},
   "outputs": [
    {
     "name": "stdout",
     "output_type": "stream",
     "text": [
      "The N\n"
     ]
    }
   ],
   "source": [
    "f=open(\"my_data.txt\",\"r\")\n",
    "print((f.read(5)))"
   ]
  },
  {
   "cell_type": "code",
   "execution_count": 4,
   "id": "a5d8969f",
   "metadata": {},
   "outputs": [],
   "source": [
    "f.close()"
   ]
  },
  {
   "cell_type": "markdown",
   "id": "850602d5",
   "metadata": {},
   "source": [
    "## 2) To read first line from the file"
   ]
  },
  {
   "cell_type": "code",
   "execution_count": 5,
   "id": "3090ca96",
   "metadata": {},
   "outputs": [
    {
     "name": "stdout",
     "output_type": "stream",
     "text": [
      "The National Flag is a horizontal tricolour of India saffron (kesaria) at the top, white in the middle and India green at the bottom in equal proportion.\n",
      "\n"
     ]
    }
   ],
   "source": [
    "f=open(\"my_data.txt\",\"r\")\n",
    "print(f.readline())\n",
    "f.close()"
   ]
  },
  {
   "cell_type": "markdown",
   "id": "801f0aba",
   "metadata": {},
   "source": [
    "## 3) To display number of lines"
   ]
  },
  {
   "cell_type": "code",
   "execution_count": 6,
   "id": "d9b1ab56",
   "metadata": {},
   "outputs": [
    {
     "name": "stdout",
     "output_type": "stream",
     "text": [
      "5\n"
     ]
    }
   ],
   "source": [
    "f=open(\"new\",\"r\")\n",
    "print(len(f.readlines()))\n",
    "f.close()"
   ]
  },
  {
   "cell_type": "markdown",
   "id": "84201a25",
   "metadata": {},
   "source": [
    "## 4)To display first line using readline"
   ]
  },
  {
   "cell_type": "code",
   "execution_count": 8,
   "id": "856e0c16",
   "metadata": {},
   "outputs": [
    {
     "name": "stdout",
     "output_type": "stream",
     "text": [
      "['The National Flag is a horizontal tricolour of India saffron (kesaria) at the top, white in the middle and India green at the bottom in equal proportion.\\n']\n"
     ]
    }
   ],
   "source": [
    "f=open(\"my_data.txt\",\"r\")\n",
    "print((f.readlines(1)))\n",
    "f.close()"
   ]
  },
  {
   "cell_type": "markdown",
   "id": "d91151ec",
   "metadata": {},
   "source": [
    "## 5) To accept 5 names from the user write the file"
   ]
  },
  {
   "cell_type": "code",
   "execution_count": 8,
   "id": "8108cf04",
   "metadata": {},
   "outputs": [
    {
     "name": "stdout",
     "output_type": "stream",
     "text": [
      "enter the name:mruthula\n",
      "enter the name:ram\n",
      "enter the name:sita\n",
      "enter the name:kamal\n",
      "enter the name:suri\n"
     ]
    },
    {
     "data": {
      "text/plain": [
       "4"
      ]
     },
     "execution_count": 8,
     "metadata": {},
     "output_type": "execute_result"
    }
   ],
   "source": [
    "f=open(\"username.txt\",'w')\n",
    "name1=input(\"enter the name:\")\n",
    "name2=input(\"enter the name:\")\n",
    "name3=input(\"enter the name:\")\n",
    "name4=input(\"enter the name:\")\n",
    "name5=input(\"enter the name:\")\n",
    "f.write(name1)\n",
    "f.write(name2)\n",
    "f.write(name3)\n",
    "f.write(name4)\n",
    "f.write(name5)\n"
   ]
  },
  {
   "cell_type": "code",
   "execution_count": 9,
   "id": "16438a8a",
   "metadata": {},
   "outputs": [
    {
     "data": {
      "text/plain": [
       "'mruthularamsitakamalsuri'"
      ]
     },
     "execution_count": 9,
     "metadata": {},
     "output_type": "execute_result"
    }
   ],
   "source": [
    "f=open(\"username.txt\",'r')\n",
    "f.read()"
   ]
  },
  {
   "cell_type": "code",
   "execution_count": 10,
   "id": "fa051f2f",
   "metadata": {},
   "outputs": [],
   "source": [
    "f.close()"
   ]
  },
  {
   "cell_type": "markdown",
   "id": "878c1737",
   "metadata": {},
   "source": [
    "## 6) To accept 5 language from the user write the file"
   ]
  },
  {
   "cell_type": "code",
   "execution_count": 18,
   "id": "5f608d7a",
   "metadata": {},
   "outputs": [
    {
     "name": "stdout",
     "output_type": "stream",
     "text": [
      "enter the lang1:hindi\n",
      "enter the lang2:marathi\n",
      "enter the lang3:mallu\n",
      "enter the lang4:tamil\n",
      "enter the lang4:manipuri\n"
     ]
    },
    {
     "data": {
      "text/plain": [
       "8"
      ]
     },
     "execution_count": 18,
     "metadata": {},
     "output_type": "execute_result"
    }
   ],
   "source": [
    "f=open(\"language.txt\",'w')\n",
    "lang1=input(\"enter the lang1:\")\n",
    "lang2=input(\"enter the lang2:\")\n",
    "lang3=input(\"enter the lang3:\")\n",
    "lang4=input(\"enter the lang4:\")\n",
    "lang5=input(\"enter the lang4:\")\n",
    "f.write(lang1)\n",
    "f.write(lang2)\n",
    "f.write(lang3)\n",
    "f.write(lang4)\n",
    "f.write(lang5)\n"
   ]
  },
  {
   "cell_type": "code",
   "execution_count": 19,
   "id": "3c0ef3c5",
   "metadata": {},
   "outputs": [
    {
     "data": {
      "text/plain": [
       "'hindimarathimallutamilmanipuri'"
      ]
     },
     "execution_count": 19,
     "metadata": {},
     "output_type": "execute_result"
    }
   ],
   "source": [
    "f=open(\"language.txt\",'r')\n",
    "f.read()"
   ]
  },
  {
   "cell_type": "code",
   "execution_count": 20,
   "id": "6bb7f725",
   "metadata": {},
   "outputs": [],
   "source": [
    "f.close()"
   ]
  },
  {
   "cell_type": "code",
   "execution_count": null,
   "id": "c11499eb",
   "metadata": {},
   "outputs": [],
   "source": []
  },
  {
   "cell_type": "code",
   "execution_count": 23,
   "id": "c5345202",
   "metadata": {},
   "outputs": [],
   "source": [
    "f1=open(\"article.txt\",\"x\")\n",
    "f1.close()\n"
   ]
  },
  {
   "cell_type": "code",
   "execution_count": 25,
   "id": "c169399f",
   "metadata": {},
   "outputs": [
    {
     "data": {
      "text/plain": [
       "'Writer who became the leader of the nationalist movement against the British rule of India. As such, he came to be considered the father of his country. Gandhi is internationally esteemed for his doctrine of nonviolent protest (satyagraha) to achieve political and Social progress.'"
      ]
     },
     "execution_count": 25,
     "metadata": {},
     "output_type": "execute_result"
    }
   ],
   "source": [
    "f1=open(\"article.txt\",\"r\")\n",
    "f1.read()"
   ]
  },
  {
   "cell_type": "code",
   "execution_count": 26,
   "id": "549a245b",
   "metadata": {},
   "outputs": [],
   "source": [
    "f1.close()"
   ]
  },
  {
   "cell_type": "markdown",
   "id": "165aa3fa",
   "metadata": {},
   "source": [
    "## 7) To count the no of upppercase\n"
   ]
  },
  {
   "cell_type": "code",
   "execution_count": 27,
   "id": "2647cd7f",
   "metadata": {},
   "outputs": [
    {
     "name": "stdout",
     "output_type": "stream",
     "text": [
      "6\n"
     ]
    }
   ],
   "source": [
    "f1=open(\"article.txt\",\"r\")\n",
    "line=f1.read()\n",
    "count=0\n",
    "for i in line:\n",
    "    if i.isupper()==True:\n",
    "        count+=1\n",
    "print(count)  \n",
    "f1.close()"
   ]
  },
  {
   "cell_type": "markdown",
   "id": "33a9881b",
   "metadata": {},
   "source": [
    "## 8) To count the no of lowercase\n"
   ]
  },
  {
   "cell_type": "code",
   "execution_count": 28,
   "id": "7073ceea",
   "metadata": {},
   "outputs": [
    {
     "name": "stdout",
     "output_type": "stream",
     "text": [
      "226\n"
     ]
    }
   ],
   "source": [
    "f1=open(\"article.txt\",\"r\")\n",
    "line=f1.read()\n",
    "count=0\n",
    "for i in line:\n",
    "    if i.islower()==True:\n",
    "        count+=1\n",
    "print(count)  \n",
    "f1.close()"
   ]
  },
  {
   "cell_type": "markdown",
   "id": "c7e9ddb6",
   "metadata": {},
   "source": [
    "## 9) To count the no of \"to\" and \"the\"\n"
   ]
  },
  {
   "cell_type": "code",
   "execution_count": 16,
   "id": "c53b21b8",
   "metadata": {},
   "outputs": [
    {
     "name": "stdout",
     "output_type": "stream",
     "text": [
      "the no of words to-  2\n",
      "the no of words the-  5\n"
     ]
    }
   ],
   "source": [
    "f=open(\"article.txt\",\"r\")\n",
    "article=f.read()\n",
    "word1=article.count(\"to\")\n",
    "word2=article.count(\"the\")\n",
    "print(\"the no of words to- \",word1)\n",
    "print(\"the no of words the- \",word2)\n",
    "\n",
    "\n",
    "f.close()"
   ]
  },
  {
   "cell_type": "code",
   "execution_count": 15,
   "id": "560c622a",
   "metadata": {},
   "outputs": [
    {
     "data": {
      "text/plain": [
       "'Writer who became the leader of the nationalist movement against the British rule of India. As such, he came to be considered the father of his country. Gandhi is internationally esteemed for his doctrine of nonviolent protest (satyagraha) to achieve political and Social progress.'"
      ]
     },
     "execution_count": 15,
     "metadata": {},
     "output_type": "execute_result"
    }
   ],
   "source": [
    "f=open(\"article.txt\",\"r\")\n",
    "f.read()"
   ]
  },
  {
   "cell_type": "code",
   "execution_count": null,
   "id": "84d07011",
   "metadata": {},
   "outputs": [],
   "source": []
  },
  {
   "cell_type": "markdown",
   "id": "18701736",
   "metadata": {},
   "source": [
    "### 10) To accept five hobbies from the user and write the file without using write() function"
   ]
  },
  {
   "cell_type": "code",
   "execution_count": 23,
   "id": "32d440a3",
   "metadata": {},
   "outputs": [
    {
     "name": "stdout",
     "output_type": "stream",
     "text": [
      "enter the text:cri\n",
      "enter the text:dan\n",
      "enter the text:eat\n",
      "enter the text:sing\n",
      "enter the text:draw\n"
     ]
    }
   ],
   "source": [
    "f=open(\"hobby.txt\",'w')\n",
    "hobby1=input(\"enter the text:\")\n",
    "hobby2=input(\"enter the text:\")\n",
    "hobby3=input(\"enter the text:\")\n",
    "hobby4=input(\"enter the text:\")\n",
    "hobby5=input(\"enter the text:\")\n",
    "newline=\"\\n\"\n",
    "f.writelines(hobby1)\n",
    "f.writelines(newline)\n",
    "f.writelines(hobby2)\n",
    "f.writelines(newline)\n",
    "f.writelines(hobby3)\n",
    "f.writelines(newline)\n",
    "f.writelines(hobby4)\n",
    "f.writelines(newline)\n",
    "f.writelines(hobby5)"
   ]
  },
  {
   "cell_type": "code",
   "execution_count": 26,
   "id": "340d7f9b",
   "metadata": {},
   "outputs": [
    {
     "name": "stdout",
     "output_type": "stream",
     "text": [
      "cri\n",
      "dan\n",
      "eat\n",
      "sing\n",
      "draw\n"
     ]
    }
   ],
   "source": [
    "f=open(\"hobby.txt\",'r')\n",
    "print(f.read())"
   ]
  },
  {
   "cell_type": "markdown",
   "id": "43751689",
   "metadata": {},
   "source": [
    "# practice during session"
   ]
  },
  {
   "cell_type": "code",
   "execution_count": null,
   "id": "9d282fb9",
   "metadata": {},
   "outputs": [],
   "source": [
    "#creating file\n",
    "myfile=open(\"newfile\",'x')"
   ]
  },
  {
   "cell_type": "code",
   "execution_count": 27,
   "id": "1f02e5fe",
   "metadata": {},
   "outputs": [],
   "source": [
    "#writing a file\n",
    "file=open(\"newfile\",\"w\")\n",
    "file.write(\"hey buddies\")\n",
    "file.close()"
   ]
  },
  {
   "cell_type": "code",
   "execution_count": 28,
   "id": "d5688383",
   "metadata": {},
   "outputs": [
    {
     "data": {
      "text/plain": [
       "'hey buddies'"
      ]
     },
     "execution_count": 28,
     "metadata": {},
     "output_type": "execute_result"
    }
   ],
   "source": [
    "#to read\n",
    "file=open(\"newfile\",\"r\")\n",
    "file.read()\n"
   ]
  },
  {
   "cell_type": "code",
   "execution_count": null,
   "id": "4ba329ed",
   "metadata": {},
   "outputs": [],
   "source": [
    "file.close()"
   ]
  },
  {
   "cell_type": "code",
   "execution_count": 29,
   "id": "50b390bb",
   "metadata": {},
   "outputs": [],
   "source": [
    "#creating a file in write mode\n",
    "file1=open(\"writefile\",'w')\n",
    "file1.write(\"i am new file for writing\")\n",
    "file1.close()"
   ]
  },
  {
   "cell_type": "code",
   "execution_count": 30,
   "id": "4feb8ba5",
   "metadata": {},
   "outputs": [],
   "source": [
    "file1=open(\"writefile\",'w')\n",
    "file1.write(\"i am recreated\")    #replaces the new content erase old content\n",
    "file1.close()"
   ]
  },
  {
   "cell_type": "code",
   "execution_count": 31,
   "id": "94d4b44b",
   "metadata": {},
   "outputs": [],
   "source": [
    "#write and writelines\n",
    "l1=[\" shiva\",\" shivani\",\" shalini\"]\n",
    "file2=open(\"names\",\"w\")\n",
    "file2.writelines(l1) #with write not denote list only denote string so use writelines also pass string\n",
    "file2.close()"
   ]
  },
  {
   "cell_type": "code",
   "execution_count": 32,
   "id": "a7da270f",
   "metadata": {},
   "outputs": [],
   "source": [
    "#appending the text in write mode\n",
    "file1=open(\"writefile\",'a')\n",
    "file1.write(\"i am recreated new new\")    #replaces the new content erase old content\n",
    "file1.close()"
   ]
  },
  {
   "cell_type": "code",
   "execution_count": 33,
   "id": "0ca7659c",
   "metadata": {},
   "outputs": [],
   "source": [
    "#creating file using append mode\n",
    "file1=open(\"writefile1\",\"a\")\n",
    "file1.write(\"hiiiiihellooo\")\n",
    "file1.close()"
   ]
  },
  {
   "cell_type": "code",
   "execution_count": 34,
   "id": "7e3866cf",
   "metadata": {},
   "outputs": [
    {
     "ename": "FileExistsError",
     "evalue": "[Errno 17] File exists: 'new'",
     "output_type": "error",
     "traceback": [
      "\u001b[1;31m---------------------------------------------------------------------------\u001b[0m",
      "\u001b[1;31mFileExistsError\u001b[0m                           Traceback (most recent call last)",
      "Cell \u001b[1;32mIn[34], line 2\u001b[0m\n\u001b[0;32m      1\u001b[0m \u001b[38;5;66;03m#creating a file\u001b[39;00m\n\u001b[1;32m----> 2\u001b[0m file1\u001b[38;5;241m=\u001b[39m\u001b[38;5;28;43mopen\u001b[39;49m\u001b[43m(\u001b[49m\u001b[38;5;124;43m\"\u001b[39;49m\u001b[38;5;124;43mnew\u001b[39;49m\u001b[38;5;124;43m\"\u001b[39;49m\u001b[43m,\u001b[49m\u001b[38;5;124;43m'\u001b[39;49m\u001b[38;5;124;43mx\u001b[39;49m\u001b[38;5;124;43m'\u001b[39;49m\u001b[43m)\u001b[49m\n\u001b[0;32m      3\u001b[0m file1\u001b[38;5;241m.\u001b[39mclose()\n",
      "File \u001b[1;32m~\\anaconda3\\lib\\site-packages\\IPython\\core\\interactiveshell.py:282\u001b[0m, in \u001b[0;36m_modified_open\u001b[1;34m(file, *args, **kwargs)\u001b[0m\n\u001b[0;32m    275\u001b[0m \u001b[38;5;28;01mif\u001b[39;00m file \u001b[38;5;129;01min\u001b[39;00m {\u001b[38;5;241m0\u001b[39m, \u001b[38;5;241m1\u001b[39m, \u001b[38;5;241m2\u001b[39m}:\n\u001b[0;32m    276\u001b[0m     \u001b[38;5;28;01mraise\u001b[39;00m \u001b[38;5;167;01mValueError\u001b[39;00m(\n\u001b[0;32m    277\u001b[0m         \u001b[38;5;124mf\u001b[39m\u001b[38;5;124m\"\u001b[39m\u001b[38;5;124mIPython won\u001b[39m\u001b[38;5;124m'\u001b[39m\u001b[38;5;124mt let you open fd=\u001b[39m\u001b[38;5;132;01m{\u001b[39;00mfile\u001b[38;5;132;01m}\u001b[39;00m\u001b[38;5;124m by default \u001b[39m\u001b[38;5;124m\"\u001b[39m\n\u001b[0;32m    278\u001b[0m         \u001b[38;5;124m\"\u001b[39m\u001b[38;5;124mas it is likely to crash IPython. If you know what you are doing, \u001b[39m\u001b[38;5;124m\"\u001b[39m\n\u001b[0;32m    279\u001b[0m         \u001b[38;5;124m\"\u001b[39m\u001b[38;5;124myou can use builtins\u001b[39m\u001b[38;5;124m'\u001b[39m\u001b[38;5;124m open.\u001b[39m\u001b[38;5;124m\"\u001b[39m\n\u001b[0;32m    280\u001b[0m     )\n\u001b[1;32m--> 282\u001b[0m \u001b[38;5;28;01mreturn\u001b[39;00m io_open(file, \u001b[38;5;241m*\u001b[39margs, \u001b[38;5;241m*\u001b[39m\u001b[38;5;241m*\u001b[39mkwargs)\n",
      "\u001b[1;31mFileExistsError\u001b[0m: [Errno 17] File exists: 'new'"
     ]
    }
   ],
   "source": [
    "#creating a file\n",
    "file1=open(\"new\",'x')\n",
    "file1.close()"
   ]
  },
  {
   "cell_type": "code",
   "execution_count": 35,
   "id": "1f9b614a",
   "metadata": {},
   "outputs": [],
   "source": [
    "#creating content to a file\n",
    "file1=open(\"new\",\"w\")\n",
    "file1.write(\"hey\")\n",
    "file1.write(\"how are you\")\n",
    "file1.write(\"hope you are fine\")\n",
    "file1.close()"
   ]
  },
  {
   "cell_type": "code",
   "execution_count": 36,
   "id": "d6764acb",
   "metadata": {},
   "outputs": [
    {
     "data": {
      "text/plain": [
       "'heyhow are youhope you are fine'"
      ]
     },
     "execution_count": 36,
     "metadata": {},
     "output_type": "execute_result"
    }
   ],
   "source": [
    "#reading a file\n",
    "f1=open(\"new\",\"r\")\n",
    "f1.read()\n"
   ]
  },
  {
   "cell_type": "code",
   "execution_count": 37,
   "id": "65ea98fe",
   "metadata": {},
   "outputs": [],
   "source": [
    "f1.close()"
   ]
  },
  {
   "cell_type": "code",
   "execution_count": 38,
   "id": "3bcde736",
   "metadata": {},
   "outputs": [
    {
     "name": "stdout",
     "output_type": "stream",
     "text": [
      "heyhow are youhope you are fine\n"
     ]
    }
   ],
   "source": [
    "f1=open(\"new\",\"r\")\n",
    "print(f1.read())\n",
    "f1.close()\n"
   ]
  },
  {
   "cell_type": "code",
   "execution_count": 39,
   "id": "b3bdd95e",
   "metadata": {},
   "outputs": [
    {
     "name": "stdout",
     "output_type": "stream",
     "text": [
      "['heyhow are youhope you are fine']\n"
     ]
    }
   ],
   "source": [
    "#readline\n",
    "f1=open(\"new\",\"r\")\n",
    "print(f1.readlines())  #use see everything in a list format\n",
    "f1.close()"
   ]
  },
  {
   "cell_type": "code",
   "execution_count": 40,
   "id": "629a7347",
   "metadata": {},
   "outputs": [
    {
     "name": "stdout",
     "output_type": "stream",
     "text": [
      "heyhow are youhope you are fine\n",
      "\n"
     ]
    }
   ],
   "source": [
    "#readlines\n",
    "f1=open(\"new\",\"r\")\n",
    "print(f1.readline(),end=\"\")\n",
    "print(f1.readline())\n",
    "print(f1.readline())\n"
   ]
  },
  {
   "cell_type": "code",
   "execution_count": 41,
   "id": "13e2430b",
   "metadata": {},
   "outputs": [
    {
     "name": "stdout",
     "output_type": "stream",
     "text": [
      "hey\n"
     ]
    }
   ],
   "source": [
    "#readline with numeric parameter\n",
    "f2=open(\"new\",\"r\")\n",
    "print(f2.readline(3))\n",
    "f2.close()\n"
   ]
  },
  {
   "cell_type": "code",
   "execution_count": 42,
   "id": "aead1cda",
   "metadata": {},
   "outputs": [
    {
     "name": "stdout",
     "output_type": "stream",
     "text": [
      "While most of the country has surprisingly witnessed excess rains so far this April, the northeastern sister statesâ€™ rainfall stats have been sorely lacking. However, the region is in for some intense rainfall activity over the weekend that might help bring the numbers up to scratch.\n",
      "\n",
      "According to the India Meteorological Department (IMD), an atmospheric instability has made itself comfortable across the northeastern region. And this system is expected to bring lingering rains (and even snow at higher altitudes) accompanied by localised thunderstorms in the coming days.\n",
      "\n",
      "More specifically, heavy rains (64.5 mm-115.5 mm) will lash Arunachal Pradesh between Thursday and Saturday (April 20-22) and Assam and Meghalaya on Friday and Saturday (April 21-22).weatherrr iss finee sooonnnweather is toooo sunny\n"
     ]
    }
   ],
   "source": [
    "f1=open(\"weather.txt\",\"r\")\n",
    "print(f1.read())\n",
    "f1.close()"
   ]
  },
  {
   "cell_type": "code",
   "execution_count": 43,
   "id": "6253970e",
   "metadata": {},
   "outputs": [
    {
     "name": "stdout",
     "output_type": "stream",
     "text": [
      "['While most of the country has surprisingly witnessed excess rains so far this April, the northeastern sister statesâ€™ rainfall stats have been sorely lacking. However, the region is in for some intense rainfall activity over the weekend that might help bring the numbers up to scratch.\\n', '\\n', 'According to the India Meteorological Department (IMD), an atmospheric instability has made itself comfortable across the northeastern region. And this system is expected to bring lingering rains (and even snow at higher altitudes) accompanied by localised thunderstorms in the coming days.\\n', '\\n', 'More specifically, heavy rains (64.5 mm-115.5 mm) will lash Arunachal Pradesh between Thursday and Saturday (April 20-22) and Assam and Meghalaya on Friday and Saturday (April 21-22).weatherrr iss finee sooonnnweather is toooo sunny']\n"
     ]
    }
   ],
   "source": [
    "f1=open(\"weather.txt\",'r')\n",
    "print(f1.readlines())\n",
    "f1.close()"
   ]
  },
  {
   "cell_type": "code",
   "execution_count": 44,
   "id": "657a9b1a",
   "metadata": {},
   "outputs": [
    {
     "data": {
      "text/plain": [
       "'While most of the country has surprisingly witnessed excess rains so far this April, the northeastern sister statesâ€™ rainfall stats have been sorely lacking. However, the region is in for some intense rainfall activity over the weekend that might help bring the numbers up to scratch.\\n\\nAccording to the India Meteorological Department (IMD), an atmospheric instability has made itself comfortable across the northeastern region. And this system is expected to bring lingering rains (and even snow at higher altitudes) accompanied by localised thunderstorms in the coming days.\\n\\nMore specifically, heavy rains (64.5 mm-115.5 mm) will lash Arunachal Pradesh between Thursday and Saturday (April 20-22) and Assam and Meghalaya on Friday and Saturday (April 21-22).weatherrr iss finee sooonnnweather is toooo sunny'"
      ]
     },
     "execution_count": 44,
     "metadata": {},
     "output_type": "execute_result"
    }
   ],
   "source": [
    "f1=open(\"weather.txt\",'r')\n",
    "f1.read()"
   ]
  },
  {
   "cell_type": "code",
   "execution_count": 45,
   "id": "994dbaee",
   "metadata": {},
   "outputs": [
    {
     "data": {
      "text/plain": [
       "816"
      ]
     },
     "execution_count": 45,
     "metadata": {},
     "output_type": "execute_result"
    }
   ],
   "source": [
    "f1.tell()"
   ]
  },
  {
   "cell_type": "code",
   "execution_count": 46,
   "id": "7e29605a",
   "metadata": {},
   "outputs": [
    {
     "data": {
      "text/plain": [
       "734"
      ]
     },
     "execution_count": 46,
     "metadata": {},
     "output_type": "execute_result"
    }
   ],
   "source": [
    "f1.seek(734)"
   ]
  },
  {
   "cell_type": "code",
   "execution_count": 47,
   "id": "9de585bf",
   "metadata": {},
   "outputs": [
    {
     "name": "stdout",
     "output_type": "stream",
     "text": [
      "riday and Saturday (April 21-22).weatherrr iss finee sooonnnweather is toooo sunny\n"
     ]
    }
   ],
   "source": [
    "print(f1.read())"
   ]
  },
  {
   "cell_type": "code",
   "execution_count": 48,
   "id": "b373d5ba",
   "metadata": {},
   "outputs": [
    {
     "data": {
      "text/plain": [
       "''"
      ]
     },
     "execution_count": 48,
     "metadata": {},
     "output_type": "execute_result"
    }
   ],
   "source": [
    "f1.readline(6)"
   ]
  },
  {
   "cell_type": "code",
   "execution_count": 49,
   "id": "1af02700",
   "metadata": {},
   "outputs": [],
   "source": [
    "f1.close()"
   ]
  },
  {
   "cell_type": "code",
   "execution_count": 50,
   "id": "9579ad39",
   "metadata": {},
   "outputs": [],
   "source": [
    "f1=open(\"weather.txt\",'r')"
   ]
  },
  {
   "cell_type": "code",
   "execution_count": 51,
   "id": "885588db",
   "metadata": {},
   "outputs": [
    {
     "data": {
      "text/plain": [
       "'While mo'"
      ]
     },
     "execution_count": 51,
     "metadata": {},
     "output_type": "execute_result"
    }
   ],
   "source": [
    "f1.readline(8)"
   ]
  },
  {
   "cell_type": "code",
   "execution_count": 52,
   "id": "6b769452",
   "metadata": {},
   "outputs": [],
   "source": [
    "f1.close()"
   ]
  },
  {
   "cell_type": "code",
   "execution_count": 53,
   "id": "b45fe066",
   "metadata": {},
   "outputs": [],
   "source": [
    "f1=open(\"weather.txt\",'r')"
   ]
  },
  {
   "cell_type": "code",
   "execution_count": 54,
   "id": "975530b9",
   "metadata": {},
   "outputs": [
    {
     "data": {
      "text/plain": [
       "'While most of the country has surprisingly witnessed excess rains so far this April, the northeaster'"
      ]
     },
     "execution_count": 54,
     "metadata": {},
     "output_type": "execute_result"
    }
   ],
   "source": [
    "f1.readline(100)"
   ]
  },
  {
   "cell_type": "code",
   "execution_count": 55,
   "id": "f158e0f7",
   "metadata": {},
   "outputs": [],
   "source": [
    "f1.close()"
   ]
  },
  {
   "cell_type": "code",
   "execution_count": 56,
   "id": "a87fb98e",
   "metadata": {},
   "outputs": [],
   "source": [
    "f=open('weather.txt')"
   ]
  },
  {
   "cell_type": "code",
   "execution_count": 57,
   "id": "7c41c465",
   "metadata": {},
   "outputs": [
    {
     "name": "stdout",
     "output_type": "stream",
     "text": [
      "While most of the country has surprisingly witnessed excess rains so far this April, the northeastern sister statesâ€™ rainfall stats have been sorely lacking. However, the region is in for some intense rainfall activity over the weekend that might help bring the numbers up to scratch.\n",
      "\n",
      "According to the India Meteorological Department (IMD), an atmospheric instability has made itself comfortable across the northeastern region. And this system is expected to bring lingering rains (and even snow at higher altitudes) accompanied by localised thunderstorms in the coming days.\n",
      "\n",
      "More specifically, heavy rains (64.5 mm-115.5 mm) will lash Arunachal Pradesh between Thursday and Saturday (April 20-22) and Assam and Meghalaya on Friday and Saturday (April 21-22).weatherrr iss finee sooonnnweather is toooo sunny\n"
     ]
    }
   ],
   "source": [
    "print(f.read())"
   ]
  },
  {
   "cell_type": "code",
   "execution_count": 58,
   "id": "d0a5053a",
   "metadata": {},
   "outputs": [
    {
     "data": {
      "text/plain": [
       "816"
      ]
     },
     "execution_count": 58,
     "metadata": {},
     "output_type": "execute_result"
    }
   ],
   "source": [
    "f.tell()"
   ]
  },
  {
   "cell_type": "code",
   "execution_count": 59,
   "id": "47b93941",
   "metadata": {},
   "outputs": [
    {
     "data": {
      "text/plain": [
       "40"
      ]
     },
     "execution_count": 59,
     "metadata": {},
     "output_type": "execute_result"
    }
   ],
   "source": [
    "f.seek(40)"
   ]
  },
  {
   "cell_type": "code",
   "execution_count": 60,
   "id": "1091e9ee",
   "metadata": {},
   "outputs": [
    {
     "data": {
      "text/plain": [
       "'ly witnessed excess rains so far this April, the northeastern sister statesâ€™ rainfall stats have been sorely lacking. However, the region is in for some intense rainfall activity over the weekend that might help bring the numbers up to scratch.\\n\\nAccording to the India Meteorological Department (IMD), an atmospheric instability has made itself comfortable across the northeastern region. And this system is expected to bring lingering rains (and even snow at higher altitudes) accompanied by localised thunderstorms in the coming days.\\n\\nMore specifically, heavy rains (64.5 mm-115.5 mm) will lash Arunachal Pradesh between Thursday and Saturday (April 20-22) and Assam and Meghalaya on Friday and Saturday (April 21-22).weatherrr iss finee sooonnnweather is toooo sunny'"
      ]
     },
     "execution_count": 60,
     "metadata": {},
     "output_type": "execute_result"
    }
   ],
   "source": [
    "f.read()"
   ]
  },
  {
   "cell_type": "code",
   "execution_count": 61,
   "id": "00138140",
   "metadata": {},
   "outputs": [
    {
     "data": {
      "text/plain": [
       "42"
      ]
     },
     "execution_count": 61,
     "metadata": {},
     "output_type": "execute_result"
    }
   ],
   "source": [
    "f.seek(42)"
   ]
  },
  {
   "cell_type": "code",
   "execution_count": 62,
   "id": "9e550530",
   "metadata": {},
   "outputs": [
    {
     "data": {
      "text/plain": [
       "' witnessed excess rains so far this April, the northeastern sister statesâ€™ rainfall stats have been sorely lacking. However, the region is in for some intense rainfall activity over the weekend that might help bring the numbers up to scratch.\\n\\nAccording to the India Meteorological Department (IMD), an atmospheric instability has made itself comfortable across the northeastern region. And this system is expected to bring lingering rains (and even snow at higher altitudes) accompanied by localised thunderstorms in the coming days.\\n\\nMore specifically, heavy rains (64.5 mm-115.5 mm) will lash Arunachal Pradesh between Thursday and Saturday (April 20-22) and Assam and Meghalaya on Friday and Saturday (April 21-22).weatherrr iss finee sooonnnweather is toooo sunny'"
      ]
     },
     "execution_count": 62,
     "metadata": {},
     "output_type": "execute_result"
    }
   ],
   "source": [
    "f.read()"
   ]
  },
  {
   "cell_type": "code",
   "execution_count": 63,
   "id": "f21875dc",
   "metadata": {},
   "outputs": [
    {
     "data": {
      "text/plain": [
       "816"
      ]
     },
     "execution_count": 63,
     "metadata": {},
     "output_type": "execute_result"
    }
   ],
   "source": [
    "f.tell()"
   ]
  },
  {
   "cell_type": "code",
   "execution_count": 64,
   "id": "c88049e5",
   "metadata": {},
   "outputs": [],
   "source": [
    "f=open('weather.txt','r+')"
   ]
  },
  {
   "cell_type": "code",
   "execution_count": 65,
   "id": "7ab674fa",
   "metadata": {},
   "outputs": [
    {
     "name": "stdout",
     "output_type": "stream",
     "text": [
      "While most of the country has surprisingly witnessed excess rains so far this April, the northeastern sister statesâ€™ rainfall stats have been sorely lacking. However, the region is in for some intense rainfall activity over the weekend that might help bring the numbers up to scratch.\n",
      "\n",
      "According to the India Meteorological Department (IMD), an atmospheric instability has made itself comfortable across the northeastern region. And this system is expected to bring lingering rains (and even snow at higher altitudes) accompanied by localised thunderstorms in the coming days.\n",
      "\n",
      "More specifically, heavy rains (64.5 mm-115.5 mm) will lash Arunachal Pradesh between Thursday and Saturday (April 20-22) and Assam and Meghalaya on Friday and Saturday (April 21-22).weatherrr iss finee sooonnnweather is toooo sunny\n"
     ]
    }
   ],
   "source": [
    "print(f.read())"
   ]
  },
  {
   "cell_type": "code",
   "execution_count": 66,
   "id": "45899dd3",
   "metadata": {},
   "outputs": [
    {
     "data": {
      "text/plain": [
       "27"
      ]
     },
     "execution_count": 66,
     "metadata": {},
     "output_type": "execute_result"
    }
   ],
   "source": [
    "f.write('weatherrr iss finee sooonnn')"
   ]
  },
  {
   "cell_type": "code",
   "execution_count": 67,
   "id": "cefb6597",
   "metadata": {},
   "outputs": [
    {
     "name": "stdout",
     "output_type": "stream",
     "text": [
      "\n"
     ]
    }
   ],
   "source": [
    "print(f.read())"
   ]
  },
  {
   "cell_type": "code",
   "execution_count": 68,
   "id": "989b2821",
   "metadata": {},
   "outputs": [
    {
     "data": {
      "text/plain": [
       "843"
      ]
     },
     "execution_count": 68,
     "metadata": {},
     "output_type": "execute_result"
    }
   ],
   "source": [
    "f.tell()"
   ]
  },
  {
   "cell_type": "code",
   "execution_count": 69,
   "id": "ad329c47",
   "metadata": {},
   "outputs": [
    {
     "data": {
      "text/plain": [
       "781"
      ]
     },
     "execution_count": 69,
     "metadata": {},
     "output_type": "execute_result"
    }
   ],
   "source": [
    "f.seek(781)"
   ]
  },
  {
   "cell_type": "code",
   "execution_count": 70,
   "id": "ac303651",
   "metadata": {},
   "outputs": [
    {
     "name": "stdout",
     "output_type": "stream",
     "text": [
      "finee sooonnnweather is toooo sunnyweatherrr iss finee sooonnn\n"
     ]
    }
   ],
   "source": [
    "print(f.read())"
   ]
  },
  {
   "cell_type": "code",
   "execution_count": 71,
   "id": "c9851a47",
   "metadata": {},
   "outputs": [
    {
     "data": {
      "text/plain": [
       "0"
      ]
     },
     "execution_count": 71,
     "metadata": {},
     "output_type": "execute_result"
    }
   ],
   "source": [
    "f.seek(0)"
   ]
  },
  {
   "cell_type": "code",
   "execution_count": 72,
   "id": "07e3c147",
   "metadata": {},
   "outputs": [
    {
     "name": "stdout",
     "output_type": "stream",
     "text": [
      "While most of the country has surprisingly witnessed excess rains so far this April, the northeastern sister statesâ€™ rainfall stats have been sorely lacking. However, the region is in for some intense rainfall activity over the weekend that might help bring the numbers up to scratch.\n",
      "\n",
      "According to the India Meteorological Department (IMD), an atmospheric instability has made itself comfortable across the northeastern region. And this system is expected to bring lingering rains (and even snow at higher altitudes) accompanied by localised thunderstorms in the coming days.\n",
      "\n",
      "More specifically, heavy rains (64.5 mm-115.5 mm) will lash Arunachal Pradesh between Thursday and Saturday (April 20-22) and Assam and Meghalaya on Friday and Saturday (April 21-22).weatherrr iss finee sooonnnweather is toooo sunnyweatherrr iss finee sooonnn\n"
     ]
    }
   ],
   "source": [
    "print(f.read())"
   ]
  },
  {
   "cell_type": "code",
   "execution_count": 73,
   "id": "bdc89475",
   "metadata": {},
   "outputs": [],
   "source": [
    "f.close()"
   ]
  },
  {
   "cell_type": "code",
   "execution_count": 74,
   "id": "52559237",
   "metadata": {},
   "outputs": [],
   "source": [
    "f=open('new_data.txt','r+')"
   ]
  },
  {
   "cell_type": "code",
   "execution_count": 75,
   "id": "538c4c67",
   "metadata": {},
   "outputs": [],
   "source": [
    "f=open('new_data.txt','w+')"
   ]
  },
  {
   "cell_type": "code",
   "execution_count": 76,
   "id": "94742b1d",
   "metadata": {},
   "outputs": [
    {
     "data": {
      "text/plain": [
       "19"
      ]
     },
     "execution_count": 76,
     "metadata": {},
     "output_type": "execute_result"
    }
   ],
   "source": [
    "f.write('learning python now')"
   ]
  },
  {
   "cell_type": "code",
   "execution_count": 77,
   "id": "c48df274",
   "metadata": {},
   "outputs": [
    {
     "data": {
      "text/plain": [
       "''"
      ]
     },
     "execution_count": 77,
     "metadata": {},
     "output_type": "execute_result"
    }
   ],
   "source": [
    "f.read()"
   ]
  },
  {
   "cell_type": "code",
   "execution_count": 78,
   "id": "3546fbf4",
   "metadata": {},
   "outputs": [
    {
     "data": {
      "text/plain": [
       "0"
      ]
     },
     "execution_count": 78,
     "metadata": {},
     "output_type": "execute_result"
    }
   ],
   "source": [
    "f.seek(0)"
   ]
  },
  {
   "cell_type": "code",
   "execution_count": 79,
   "id": "ba545498",
   "metadata": {},
   "outputs": [
    {
     "name": "stdout",
     "output_type": "stream",
     "text": [
      "learning python now\n"
     ]
    }
   ],
   "source": [
    "print(f.read())"
   ]
  },
  {
   "cell_type": "code",
   "execution_count": 80,
   "id": "d35801d2",
   "metadata": {},
   "outputs": [
    {
     "name": "stdout",
     "output_type": "stream",
     "text": [
      "While most of the country has surprisingly witnessed excess rains so far this April, the northeastern sister statesâ€™ rainfall stats have been sorely lacking. However, the region is in for some intense rainfall activity over the weekend that might help bring the numbers up to scratch.\n",
      "\n",
      "According to the India Meteorological Department (IMD), an atmospheric instability has made itself comfortable across the northeastern region. And this system is expected to bring lingering rains (and even snow at higher altitudes) accompanied by localised thunderstorms in the coming days.\n",
      "\n",
      "More specifically, heavy rains (64.5 mm-115.5 mm) will lash Arunachal Pradesh between Thursday and Saturday (April 20-22) and Assam and Meghalaya on Friday and Saturday (April 21-22).weatherrr iss finee sooonnnweather is toooo sunnyweatherrr iss finee sooonnn\n"
     ]
    }
   ],
   "source": [
    "f1=open(\"weather.txt\",'r')\n",
    "print(f1.read())"
   ]
  },
  {
   "cell_type": "code",
   "execution_count": 81,
   "id": "50a95f14",
   "metadata": {},
   "outputs": [
    {
     "name": "stdout",
     "output_type": "stream",
     "text": [
      "['While most of the country has surprisingly witnessed excess rains so far this April, the northeastern sister statesâ€™ rainfall stats have been sorely lacking. However, the region is in for some intense rainfall activity over the weekend that might help bring the numbers up to scratch.\\n']\n",
      "['\\n', 'According to the India Meteorological Department (IMD), an atmospheric instability has made itself comfortable across the northeastern region. And this system is expected to bring lingering rains (and even snow at higher altitudes) accompanied by localised thunderstorms in the coming days.\\n']\n"
     ]
    }
   ],
   "source": [
    "f1=open(\"weather.txt\",'r')\n",
    "print(f1.readlines(18))\n",
    "print(f1.readlines(10))\n"
   ]
  },
  {
   "cell_type": "code",
   "execution_count": 82,
   "id": "bce4ed22",
   "metadata": {},
   "outputs": [
    {
     "name": "stdout",
     "output_type": "stream",
     "text": [
      "While\n"
     ]
    }
   ],
   "source": [
    "f1=open(\"weather.txt\",'r')\n",
    "print(f1.readline(5))\n",
    "f1.close()"
   ]
  },
  {
   "cell_type": "code",
   "execution_count": null,
   "id": "f71866c3",
   "metadata": {},
   "outputs": [],
   "source": []
  }
 ],
 "metadata": {
  "kernelspec": {
   "display_name": "Python 3 (ipykernel)",
   "language": "python",
   "name": "python3"
  },
  "language_info": {
   "codemirror_mode": {
    "name": "ipython",
    "version": 3
   },
   "file_extension": ".py",
   "mimetype": "text/x-python",
   "name": "python",
   "nbconvert_exporter": "python",
   "pygments_lexer": "ipython3",
   "version": "3.10.9"
  }
 },
 "nbformat": 4,
 "nbformat_minor": 5
}
