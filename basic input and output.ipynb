{
 "cells": [
  {
   "cell_type": "markdown",
   "id": "295f04e0",
   "metadata": {},
   "source": [
    "# 1) intro"
   ]
  },
  {
   "cell_type": "code",
   "execution_count": 1,
   "id": "8ca94589",
   "metadata": {},
   "outputs": [
    {
     "name": "stdout",
     "output_type": "stream",
     "text": [
      "i am mruthula\n"
     ]
    }
   ],
   "source": [
    "a=\"i am mruthula\"\n",
    "print(a)"
   ]
  },
  {
   "cell_type": "code",
   "execution_count": 2,
   "id": "2e3ce5e9",
   "metadata": {},
   "outputs": [
    {
     "data": {
      "text/plain": [
       "str"
      ]
     },
     "execution_count": 2,
     "metadata": {},
     "output_type": "execute_result"
    }
   ],
   "source": [
    "type(a)"
   ]
  },
  {
   "cell_type": "code",
   "execution_count": 3,
   "id": "49003660",
   "metadata": {},
   "outputs": [
    {
     "data": {
      "text/plain": [
       "['__add__',\n",
       " '__class__',\n",
       " '__contains__',\n",
       " '__delattr__',\n",
       " '__dir__',\n",
       " '__doc__',\n",
       " '__eq__',\n",
       " '__format__',\n",
       " '__ge__',\n",
       " '__getattribute__',\n",
       " '__getitem__',\n",
       " '__getnewargs__',\n",
       " '__gt__',\n",
       " '__hash__',\n",
       " '__init__',\n",
       " '__init_subclass__',\n",
       " '__iter__',\n",
       " '__le__',\n",
       " '__len__',\n",
       " '__lt__',\n",
       " '__mod__',\n",
       " '__mul__',\n",
       " '__ne__',\n",
       " '__new__',\n",
       " '__reduce__',\n",
       " '__reduce_ex__',\n",
       " '__repr__',\n",
       " '__rmod__',\n",
       " '__rmul__',\n",
       " '__setattr__',\n",
       " '__sizeof__',\n",
       " '__str__',\n",
       " '__subclasshook__',\n",
       " 'capitalize',\n",
       " 'casefold',\n",
       " 'center',\n",
       " 'count',\n",
       " 'encode',\n",
       " 'endswith',\n",
       " 'expandtabs',\n",
       " 'find',\n",
       " 'format',\n",
       " 'format_map',\n",
       " 'index',\n",
       " 'isalnum',\n",
       " 'isalpha',\n",
       " 'isascii',\n",
       " 'isdecimal',\n",
       " 'isdigit',\n",
       " 'isidentifier',\n",
       " 'islower',\n",
       " 'isnumeric',\n",
       " 'isprintable',\n",
       " 'isspace',\n",
       " 'istitle',\n",
       " 'isupper',\n",
       " 'join',\n",
       " 'ljust',\n",
       " 'lower',\n",
       " 'lstrip',\n",
       " 'maketrans',\n",
       " 'partition',\n",
       " 'removeprefix',\n",
       " 'removesuffix',\n",
       " 'replace',\n",
       " 'rfind',\n",
       " 'rindex',\n",
       " 'rjust',\n",
       " 'rpartition',\n",
       " 'rsplit',\n",
       " 'rstrip',\n",
       " 'split',\n",
       " 'splitlines',\n",
       " 'startswith',\n",
       " 'strip',\n",
       " 'swapcase',\n",
       " 'title',\n",
       " 'translate',\n",
       " 'upper',\n",
       " 'zfill']"
      ]
     },
     "execution_count": 3,
     "metadata": {},
     "output_type": "execute_result"
    }
   ],
   "source": [
    "dir(a)"
   ]
  },
  {
   "cell_type": "markdown",
   "id": "e5881359",
   "metadata": {},
   "source": [
    "# 2) perform the operations"
   ]
  },
  {
   "cell_type": "code",
   "execution_count": 4,
   "id": "debb613e",
   "metadata": {},
   "outputs": [
    {
     "name": "stdout",
     "output_type": "stream",
     "text": [
      "15\n",
      "5\n",
      "50\n",
      "2.0\n",
      "0\n",
      "100000\n"
     ]
    }
   ],
   "source": [
    "a=10\n",
    "b=5\n",
    "sum=a+b\n",
    "print(sum)\n",
    "\n",
    "sub=a-b\n",
    "print(sub)\n",
    "\n",
    "multiply=a*b\n",
    "print(multiply)\n",
    "\n",
    "division=a/b\n",
    "print(division)\n",
    "\n",
    "modulus=a%b\n",
    "print(modulus)\n",
    "\n",
    "exponent=a**b\n",
    "print(exponent)"
   ]
  },
  {
   "cell_type": "markdown",
   "id": "9437ded7",
   "metadata": {},
   "source": [
    "# 3)  discriminant value"
   ]
  },
  {
   "cell_type": "code",
   "execution_count": null,
   "id": "552a95e2",
   "metadata": {},
   "outputs": [],
   "source": [
    "a=int(input(\"enter the value \"))\n",
    "b=int(input(\"enter the value \"))\n",
    "c=int(input(\"enter the value \"))\n",
    "dis=(b**2)-(4*a*c)\n",
    "print(dis)"
   ]
  },
  {
   "cell_type": "markdown",
   "id": "ed17d1c1",
   "metadata": {},
   "source": [
    "# 4)swap the number with three variable"
   ]
  },
  {
   "cell_type": "code",
   "execution_count": 5,
   "id": "590e1839",
   "metadata": {},
   "outputs": [
    {
     "name": "stdout",
     "output_type": "stream",
     "text": [
      "enter the number 178\n",
      "enter the number 234\n",
      "value of the number1 before swap 78\n",
      "value of the number2 before swap 34\n",
      "value of the number1 after swap 34\n",
      "value of the number2 after swap 78\n"
     ]
    }
   ],
   "source": [
    "num1=int(input(\"enter the number 1\"))\n",
    "num2=int(input(\"enter the number 2\"))\n",
    "\n",
    "print(\"value of the number1 before swap\",num1)\n",
    "print(\"value of the number2 before swap\",num2)\n",
    "\n",
    "temp=num1\n",
    "num1=num2\n",
    "num2=temp\n",
    "\n",
    "print(\"value of the number1 after swap\",num1)\n",
    "print(\"value of the number2 after swap\",num2)\n"
   ]
  },
  {
   "cell_type": "markdown",
   "id": "859bf5a8",
   "metadata": {},
   "source": [
    "# 5) swap two number without third variable"
   ]
  },
  {
   "cell_type": "code",
   "execution_count": 6,
   "id": "3e127684",
   "metadata": {},
   "outputs": [
    {
     "name": "stdout",
     "output_type": "stream",
     "text": [
      "enter the number 1 3\n",
      "enter the number 2 4\n",
      "value of the number1 before swap 3\n",
      "value of the number2 before swap 4\n",
      "value of the number1 after swap 4\n",
      "value of the number2 after swap 3\n"
     ]
    }
   ],
   "source": [
    "num1=int(input(\"enter the number 1 \"))\n",
    "num2=int(input(\"enter the number 2 \"))\n",
    "\n",
    "print(\"value of the number1 before swap\",num1)\n",
    "print(\"value of the number2 before swap\",num2)\n",
    "\n",
    "num1=num1+num2 #6+5=11 num1=11\n",
    "num2=num1-num2 #11-5=6 num2=6\n",
    "num1=num1-num2 # 11-6=5 num1=5\n",
    "\n",
    "print(\"value of the number1 after swap\",num1)\n",
    "print(\"value of the number2 after swap\",num2)\n"
   ]
  },
  {
   "cell_type": "markdown",
   "id": "c744b457",
   "metadata": {},
   "source": [
    "# 6) simple interest"
   ]
  },
  {
   "cell_type": "code",
   "execution_count": null,
   "id": "e2eea416",
   "metadata": {},
   "outputs": [],
   "source": [
    "p=int(input(\"enter the principal-\"))\n",
    "n=int(input(\"enter the no of yrs-\"))\n",
    "r=int(input(\"enter the rate of interest-\"))\n",
    "simple = (p*n*r)/100\n",
    "print(simple)\n",
    "\n"
   ]
  },
  {
   "cell_type": "markdown",
   "id": "9c4de3bc",
   "metadata": {},
   "source": [
    "# 7) avg of five numbers"
   ]
  },
  {
   "cell_type": "code",
   "execution_count": null,
   "id": "c2039d94",
   "metadata": {},
   "outputs": [],
   "source": [
    "a=int(input(\"enter the number-\"))\n",
    "b=int(input(\"enter the number-\"))\n",
    "c=int(input(\"enter the number-\"))\n",
    "d=int(input(\"enter the number-\"))\n",
    "e=int(input(\"enter the number-\"))\n",
    "avg=(a+b+c+d+e)/5\n",
    "print(avg)"
   ]
  },
  {
   "cell_type": "markdown",
   "id": "1d11d46b",
   "metadata": {},
   "source": [
    "# 8) calculate the power of the numbers"
   ]
  },
  {
   "cell_type": "code",
   "execution_count": null,
   "id": "88c25543",
   "metadata": {},
   "outputs": [],
   "source": [
    "a=int(input(\"enter the number-\"))\n",
    "b=int(input(\"enter the number-\"))\n",
    "power=a**b\n",
    "print(power)"
   ]
  },
  {
   "cell_type": "markdown",
   "id": "ccdaa867",
   "metadata": {},
   "source": [
    "# 9) calculate net salary"
   ]
  },
  {
   "cell_type": "code",
   "execution_count": null,
   "id": "2bce54e3",
   "metadata": {},
   "outputs": [],
   "source": [
    "basic=int(input(\"enter the basic salary-\"))\n",
    "DA=basic * 0.05\n",
    "HRA=basic * 0.07\n",
    "PF=basic * 0.03\n",
    "net= basic + DA + HRA- PF\n",
    "print(net)\n"
   ]
  },
  {
   "cell_type": "markdown",
   "id": "8ca6cdcb",
   "metadata": {},
   "source": [
    "# 10) calculate the areas"
   ]
  },
  {
   "cell_type": "markdown",
   "id": "1f202028",
   "metadata": {},
   "source": [
    "#rectangle"
   ]
  },
  {
   "cell_type": "code",
   "execution_count": null,
   "id": "55fd6306",
   "metadata": {},
   "outputs": [],
   "source": [
    "l=int(input(\"enter the length -\"))\n",
    "b=int(input(\"enter the breadth-\"))\n",
    "area_of_rectangle=l*b\n",
    "print(area_of_rectangle)"
   ]
  },
  {
   "cell_type": "markdown",
   "id": "6911759d",
   "metadata": {},
   "source": [
    "#square"
   ]
  },
  {
   "cell_type": "code",
   "execution_count": null,
   "id": "22c1a7d0",
   "metadata": {},
   "outputs": [],
   "source": [
    "a=int(input(\"enter the sides-\"))\n",
    "area_of_square=4*a\n",
    "print(area_of_square)"
   ]
  },
  {
   "cell_type": "markdown",
   "id": "5d895006",
   "metadata": {},
   "source": [
    "#circle"
   ]
  },
  {
   "cell_type": "code",
   "execution_count": null,
   "id": "9b133e9c",
   "metadata": {},
   "outputs": [],
   "source": [
    "r=int(input(\"enter the radius-\"))\n",
    "pi=3.14\n",
    "area_of_circle=pi*r*r\n",
    "print(area_of_circle)"
   ]
  },
  {
   "cell_type": "markdown",
   "id": "0a48beb6",
   "metadata": {},
   "source": [
    "#triangle"
   ]
  },
  {
   "cell_type": "code",
   "execution_count": null,
   "id": "feb114bc",
   "metadata": {},
   "outputs": [],
   "source": [
    "b=int(input(\"enter the base=\"))\n",
    "h=int(input(\"enter the height\"))\n",
    "triangle=(1/2)*b*h\n",
    "print(triangle)"
   ]
  },
  {
   "cell_type": "markdown",
   "id": "da2326d7",
   "metadata": {},
   "source": [
    "# python version you are using"
   ]
  },
  {
   "cell_type": "code",
   "execution_count": null,
   "id": "d8385f41",
   "metadata": {},
   "outputs": [],
   "source": [
    "from platform import python_version\n",
    "print(python_version())"
   ]
  },
  {
   "cell_type": "code",
   "execution_count": 7,
   "id": "13403139",
   "metadata": {},
   "outputs": [
    {
     "data": {
      "text/plain": [
       "0"
      ]
     },
     "execution_count": 7,
     "metadata": {},
     "output_type": "execute_result"
    }
   ],
   "source": [
    "10%5\n"
   ]
  },
  {
   "cell_type": "code",
   "execution_count": 8,
   "id": "b43689c7",
   "metadata": {},
   "outputs": [
    {
     "data": {
      "text/plain": [
       "2.0"
      ]
     },
     "execution_count": 8,
     "metadata": {},
     "output_type": "execute_result"
    }
   ],
   "source": [
    "10/5"
   ]
  },
  {
   "cell_type": "code",
   "execution_count": 9,
   "id": "215b6064",
   "metadata": {},
   "outputs": [
    {
     "data": {
      "text/plain": [
       "2"
      ]
     },
     "execution_count": 9,
     "metadata": {},
     "output_type": "execute_result"
    }
   ],
   "source": [
    "10//5"
   ]
  },
  {
   "cell_type": "code",
   "execution_count": null,
   "id": "e16ec463",
   "metadata": {},
   "outputs": [],
   "source": []
  }
 ],
 "metadata": {
  "kernelspec": {
   "display_name": "Python 3 (ipykernel)",
   "language": "python",
   "name": "python3"
  },
  "language_info": {
   "codemirror_mode": {
    "name": "ipython",
    "version": 3
   },
   "file_extension": ".py",
   "mimetype": "text/x-python",
   "name": "python",
   "nbconvert_exporter": "python",
   "pygments_lexer": "ipython3",
   "version": "3.10.9"
  }
 },
 "nbformat": 4,
 "nbformat_minor": 5
}
