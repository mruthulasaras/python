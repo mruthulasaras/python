{
 "cells": [
  {
   "cell_type": "markdown",
   "id": "bec76b8e",
   "metadata": {},
   "source": [
    "## single level inheritance"
   ]
  },
  {
   "cell_type": "code",
   "execution_count": 12,
   "id": "c1302419",
   "metadata": {},
   "outputs": [],
   "source": [
    "class A: #base class\n",
    "    def __init__(self):\n",
    "        print(\"i am learning inheritance\")\n",
    "    def show(self):\n",
    "        print(\"i am base class\")\n",
    "        \n",
    "class B(A): #derived class\n",
    "    def __init__(self):\n",
    "        A.__init__(self)\n",
    "        print(\"i am single inheritance\")\n",
    "    def display(self):\n",
    "        print(\"i am derived class\")\n",
    "        \n",
    "       \n",
    "    \n",
    "        "
   ]
  },
  {
   "cell_type": "code",
   "execution_count": 14,
   "id": "1fe2b34d",
   "metadata": {},
   "outputs": [
    {
     "name": "stdout",
     "output_type": "stream",
     "text": [
      "i am learning inheritance\n",
      "i am single inheritance\n",
      "i am base class\n",
      "i am derived class\n"
     ]
    }
   ],
   "source": [
    "obj=B()\n",
    "obj.show()\n",
    "obj.display()\n",
    "\n"
   ]
  },
  {
   "cell_type": "code",
   "execution_count": 6,
   "id": "a13bc9ac",
   "metadata": {},
   "outputs": [],
   "source": [
    "class A:\n",
    "    def __init__(self,name,age):\n",
    "        self.name=name\n",
    "        self.age=age\n",
    "    def show(self):\n",
    "        print(\"my name is:\",self.name,\"and\",\"my age is:\",self.age )\n",
    "        \n",
    "class B(A):\n",
    "    def __init__(self,name,age,location):\n",
    "        A.__init__(self,name,age)\n",
    "        self.l=location\n",
    "        \n",
    "    def display(self):\n",
    "        print(\"my loc is:\",self.l )\n",
    "        \n",
    "    "
   ]
  },
  {
   "cell_type": "code",
   "execution_count": 7,
   "id": "ae10a68b",
   "metadata": {},
   "outputs": [
    {
     "name": "stdout",
     "output_type": "stream",
     "text": [
      "my loc is: chennai\n",
      "my name is: mru and my age is: 22\n"
     ]
    }
   ],
   "source": [
    "obj=B(\"mru\",22,\"chennai\")\n",
    "obj.display()\n",
    "obj.show()"
   ]
  },
  {
   "cell_type": "markdown",
   "id": "86f06c65",
   "metadata": {},
   "source": [
    "# multilevel inheritance"
   ]
  },
  {
   "cell_type": "code",
   "execution_count": 13,
   "id": "ec4f6b8e",
   "metadata": {},
   "outputs": [],
   "source": [
    "class student: #grandfather\n",
    "    def __init__(self,name):\n",
    "        self.name=name\n",
    "    def display(self):\n",
    "        print(\"my name is-\",self.name)\n",
    "    \n",
    "class course(student): #father\n",
    "    def __init__(self,name,c):\n",
    "        student.__init__(self,name)\n",
    "        self.c=c\n",
    "    def show(self):\n",
    "            \n",
    "        print(\"my course is-\",self.c)\n",
    "             \n",
    "class specialization(course): #son\n",
    "    \n",
    "    def __init__(self,name,c,s):\n",
    "        course.__init__(self,name,c)\n",
    "        self.s=s\n",
    "    def func(self):\n",
    "            \n",
    "            print(\"my specilization is-\",self.s)\n",
    "   "
   ]
  },
  {
   "cell_type": "code",
   "execution_count": 7,
   "id": "1158c116",
   "metadata": {},
   "outputs": [
    {
     "name": "stdout",
     "output_type": "stream",
     "text": [
      "my name is- mru\n",
      "my course is- eng\n",
      "my specilization is- EEE\n"
     ]
    }
   ],
   "source": [
    "c=specialization(\"mru\",\"eng\",\"EEE\")\n",
    "c.display()\n",
    "c.show()\n",
    "c.func()"
   ]
  },
  {
   "cell_type": "markdown",
   "id": "a0460725",
   "metadata": {},
   "source": [
    "# multiple inheritance"
   ]
  },
  {
   "cell_type": "code",
   "execution_count": 14,
   "id": "32d31c67",
   "metadata": {},
   "outputs": [],
   "source": [
    "class post_graduation: #mother\n",
    "    def __init__(self,pg):\n",
    "        self.pg=pg\n",
    "    def display(self):\n",
    "        print(\"my postgraduation is-\",self.pg)\n",
    "    \n",
    "class graduation: #father\n",
    "    def __init__(self,ug):\n",
    "        \n",
    "        self.ug=ug\n",
    "    def show(self):\n",
    "            \n",
    "        print(\"my  graduation is-\",self.ug)\n",
    "             \n",
    "class student(graduation,post_graduation): #children\n",
    "    \n",
    "    def __init__(self,pg,ug,name):\n",
    "        post_graduation.__init__(self,pg)\n",
    "        graduation.__init__(self,ug)\n",
    "        self.name=name\n",
    "    def func(self):\n",
    "            \n",
    "            print(\"my name is-\",self.name)\n",
    "   "
   ]
  },
  {
   "cell_type": "code",
   "execution_count": 4,
   "id": "c35c66d5",
   "metadata": {},
   "outputs": [
    {
     "name": "stdout",
     "output_type": "stream",
     "text": [
      "my postgraduation is- Master\n",
      "my  graduation is- bachelors\n",
      "my name is- mru\n"
     ]
    }
   ],
   "source": [
    "c=student(\"Master\",\"bachelors\",\"mru\")\n",
    "c.display()\n",
    "c.show()\n",
    "c.func()"
   ]
  },
  {
   "cell_type": "markdown",
   "id": "ffed332f",
   "metadata": {},
   "source": [
    "# hierarchical inheritance"
   ]
  },
  {
   "cell_type": "code",
   "execution_count": 25,
   "id": "219b2091",
   "metadata": {},
   "outputs": [],
   "source": [
    "class student: # mother\n",
    "    def __init__(self,name):\n",
    "        self.name=name\n",
    "    def display(self):\n",
    "        print(\"my name is-\",self.name)\n",
    "    \n",
    "class graduation(student): #child1\n",
    "    def __init__(self,ug,name):\n",
    "        student.__init__(self,name)\n",
    "        \n",
    "        self.ug=ug\n",
    "    def show(self):\n",
    "            \n",
    "        print(\"my  graduation is-\",self.ug)\n",
    "             \n",
    "class post_graduation(student):#child 2\n",
    "    \n",
    "    def __init__(self,pg,name):\n",
    "        student.__init__(self,name)\n",
    "       \n",
    "        \n",
    "        self.pg=pg\n",
    "    def func(self):\n",
    "            \n",
    "            print(\"my pg is-\",self.pg)\n",
    "   "
   ]
  },
  {
   "cell_type": "code",
   "execution_count": 26,
   "id": "e5f0d6ef",
   "metadata": {},
   "outputs": [
    {
     "name": "stdout",
     "output_type": "stream",
     "text": [
      "my  graduation is- B.E\n",
      "my name is- mru\n",
      "my pg is- M.E\n",
      "my name is- div\n"
     ]
    }
   ],
   "source": [
    "c=graduation(\"B.E\",\"mru\")\n",
    "c.show()\n",
    "c.display()\n",
    "\n",
    "d=post_graduation(\"M.E\",'div')\n",
    "d.func()\n",
    "d.display()\n"
   ]
  },
  {
   "cell_type": "markdown",
   "id": "8658d57e",
   "metadata": {},
   "source": [
    "# hybrid inheritance"
   ]
  },
  {
   "cell_type": "code",
   "execution_count": 6,
   "id": "3ebe8d14",
   "metadata": {},
   "outputs": [],
   "source": [
    "class college: #mother\n",
    "    def __init__(self,col):\n",
    "        self.c=col\n",
    "    def show(self):\n",
    "        print(\"my college is-\",self.c)\n",
    "class undergraduate(college): #child1\n",
    "    def __init__(self,col,ug):\n",
    "        college.__init__(self,col)\n",
    "        self.u=ug\n",
    "    def show2(self):\n",
    "        print(\"my ug is -\",self.u)\n",
    "class postgraduate(college):#child2\n",
    "    def __init__(self,col,pg):\n",
    "        college.__init__(self,col)\n",
    "        self.p=pg\n",
    "    def show3(self):\n",
    "        print(\"my pg is-\",self.p)\n",
    "        \n",
    "class student(undergraduate,postgraduate): #combined class\n",
    "    def __init__(self,col,ug,pg,name):\n",
    "        undergraduate.__init__(self,col,ug)\n",
    "        postgraduate.__init__(self,col,pg)\n",
    "        self.n=name\n",
    "    def show4(self):\n",
    "        print(\"my name is-\",self.n)\n",
    "        \n",
    "class special(student):\n",
    "    def __init__(self,col,ug,pg,name,spe):\n",
    "        student.__init__(self,col,ug,pg,name)\n",
    "        self.s=spe\n",
    "    def show5(self):\n",
    "        print(\"my sp is-\",self.s)\n",
    "\n",
    "        \n",
    "    "
   ]
  },
  {
   "cell_type": "code",
   "execution_count": 7,
   "id": "d00dff3d",
   "metadata": {},
   "outputs": [],
   "source": [
    "obj=special(\"chennai\",\"B.E\",\"M.E\",\"mru\",\"electrical\")"
   ]
  },
  {
   "cell_type": "code",
   "execution_count": 9,
   "id": "e5398cac",
   "metadata": {},
   "outputs": [
    {
     "name": "stdout",
     "output_type": "stream",
     "text": [
      "my name is- mru\n",
      "my college is- chennai\n",
      "my ug is - B.E\n",
      "my pg is- M.E\n",
      "my sp is- electrical\n"
     ]
    }
   ],
   "source": [
    "obj.show4()\n",
    "obj.show()\n",
    "obj.show2()\n",
    "obj.show3()\n",
    "obj.show5()\n"
   ]
  },
  {
   "cell_type": "markdown",
   "id": "845153f9",
   "metadata": {},
   "source": [
    "# assignment"
   ]
  },
  {
   "cell_type": "code",
   "execution_count": 10,
   "id": "053d0ade",
   "metadata": {},
   "outputs": [],
   "source": [
    "class person:\n",
    "    def __init__(self,employee_id):\n",
    "        self.e=employee_id\n",
    "    def introduce(self):\n",
    "        print(\"id is\",self.e)\n",
    "class employee(person):\n",
    "    def __init__(self,employee_id,name,age,gender):\n",
    "        person.__init__(self,employee_id)\n",
    "        self.n=name\n",
    "        self.a=age\n",
    "        self.g=gender\n",
    "    def display_employee_info(self):\n",
    "        print(\"name\",self.n)\n",
    "        print(\"age\",self.a)\n",
    "        print(\"gender\",self.g)"
   ]
  },
  {
   "cell_type": "code",
   "execution_count": 11,
   "id": "4d2a6136",
   "metadata": {},
   "outputs": [
    {
     "name": "stdout",
     "output_type": "stream",
     "text": [
      "id is 1\n",
      "name mru\n",
      "age 21\n",
      "gender female\n"
     ]
    }
   ],
   "source": [
    "obj=employee( 1,\"mru\",21,\"female\")\n",
    "obj.introduce()\n",
    "obj.display_employee_info()"
   ]
  },
  {
   "cell_type": "code",
   "execution_count": 10,
   "id": "f35c31fd",
   "metadata": {},
   "outputs": [],
   "source": [
    "class vehicle:\n",
    "    def __init__(self,make,model,year):\n",
    "        self.make=make\n",
    "        self.model=model\n",
    "        self.year=year\n",
    "    def startengine(self):\n",
    "        print('make=',self.make)\n",
    "        print('model=',self.model)\n",
    "        print('year=',self.year)\n",
    "class car(vehicle):\n",
    "    def __init__(self,make,model,year,num_doors):\n",
    "        vehicle.__init__(self,make,model,year)\n",
    "        \n",
    "        self.n=num_doors\n",
    "    def lock_doors(self):\n",
    "        print(\"the door have been locked\",self.n)"
   ]
  },
  {
   "cell_type": "code",
   "execution_count": 13,
   "id": "b2738425",
   "metadata": {},
   "outputs": [],
   "source": [
    "obj=car(\"bmw\",'tata',1994,4)"
   ]
  },
  {
   "cell_type": "code",
   "execution_count": 15,
   "id": "93efbf00",
   "metadata": {},
   "outputs": [
    {
     "name": "stdout",
     "output_type": "stream",
     "text": [
      "make= bmw\n",
      "model= tata\n",
      "year= 1994\n",
      "the door have been locked 4\n"
     ]
    }
   ],
   "source": [
    "obj.startengine()\n",
    "obj.lock_doors()"
   ]
  },
  {
   "cell_type": "code",
   "execution_count": 20,
   "id": "a0e653fa",
   "metadata": {},
   "outputs": [],
   "source": [
    "class circle:\n",
    "    def __init__(self,radius):\n",
    "        self.r=radius\n",
    "class cyclinder(circle):\n",
    "    def __init__(self,radius,height):\n",
    "        circle.__init__(self,radius)\n",
    "        self.h=height\n",
    "    def get_volume(self):\n",
    "        pi=3.14\n",
    "        v=pi*self.r*self.r*self.h\n",
    "        print(v)\n",
    "        "
   ]
  },
  {
   "cell_type": "code",
   "execution_count": 21,
   "id": "f4a9538a",
   "metadata": {},
   "outputs": [
    {
     "name": "stdout",
     "output_type": "stream",
     "text": [
      "200.96\n"
     ]
    }
   ],
   "source": [
    "obj=cyclinder(4,4)\n",
    "obj.get_volume()"
   ]
  },
  {
   "cell_type": "code",
   "execution_count": null,
   "id": "6b74ddef",
   "metadata": {},
   "outputs": [],
   "source": []
  }
 ],
 "metadata": {
  "kernelspec": {
   "display_name": "Python 3 (ipykernel)",
   "language": "python",
   "name": "python3"
  },
  "language_info": {
   "codemirror_mode": {
    "name": "ipython",
    "version": 3
   },
   "file_extension": ".py",
   "mimetype": "text/x-python",
   "name": "python",
   "nbconvert_exporter": "python",
   "pygments_lexer": "ipython3",
   "version": "3.10.9"
  }
 },
 "nbformat": 4,
 "nbformat_minor": 5
}
