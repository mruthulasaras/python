{
 "cells": [
  {
   "cell_type": "markdown",
   "id": "9abe7640",
   "metadata": {},
   "source": [
    "# tuple"
   ]
  },
  {
   "cell_type": "code",
   "execution_count": 1,
   "id": "e78dacaf",
   "metadata": {},
   "outputs": [
    {
     "data": {
      "text/plain": [
       "(1, 'a', True, 1, 'b', False)"
      ]
     },
     "execution_count": 1,
     "metadata": {},
     "output_type": "execute_result"
    }
   ],
   "source": [
    "tup1=(1,\"a\",True,1,\"b\",False)\n",
    "tup1"
   ]
  },
  {
   "cell_type": "code",
   "execution_count": 2,
   "id": "6de700f4",
   "metadata": {},
   "outputs": [
    {
     "data": {
      "text/plain": [
       "(False, 'b', 1, True, 'a', 1)"
      ]
     },
     "execution_count": 2,
     "metadata": {},
     "output_type": "execute_result"
    }
   ],
   "source": [
    "tup1[::-1]"
   ]
  },
  {
   "cell_type": "code",
   "execution_count": 3,
   "id": "d27bfa25",
   "metadata": {},
   "outputs": [
    {
     "data": {
      "text/plain": [
       "tuple"
      ]
     },
     "execution_count": 3,
     "metadata": {},
     "output_type": "execute_result"
    }
   ],
   "source": [
    "type(tup1)"
   ]
  },
  {
   "cell_type": "code",
   "execution_count": 4,
   "id": "bd508399",
   "metadata": {},
   "outputs": [
    {
     "data": {
      "text/plain": [
       "1"
      ]
     },
     "execution_count": 4,
     "metadata": {},
     "output_type": "execute_result"
    }
   ],
   "source": [
    "tup1[0]"
   ]
  },
  {
   "cell_type": "code",
   "execution_count": 5,
   "id": "f3cbc8ee",
   "metadata": {},
   "outputs": [
    {
     "data": {
      "text/plain": [
       "True"
      ]
     },
     "execution_count": 5,
     "metadata": {},
     "output_type": "execute_result"
    }
   ],
   "source": [
    "tup1[2]"
   ]
  },
  {
   "cell_type": "code",
   "execution_count": 6,
   "id": "c1d41a24",
   "metadata": {},
   "outputs": [
    {
     "data": {
      "text/plain": [
       "False"
      ]
     },
     "execution_count": 6,
     "metadata": {},
     "output_type": "execute_result"
    }
   ],
   "source": [
    "tup1[-1]"
   ]
  },
  {
   "cell_type": "code",
   "execution_count": 7,
   "id": "80962de5",
   "metadata": {},
   "outputs": [
    {
     "data": {
      "text/plain": [
       "(True, 1, 'b', False)"
      ]
     },
     "execution_count": 7,
     "metadata": {},
     "output_type": "execute_result"
    }
   ],
   "source": [
    "tup1[2:]"
   ]
  },
  {
   "cell_type": "code",
   "execution_count": 8,
   "id": "9e9616ca",
   "metadata": {},
   "outputs": [
    {
     "data": {
      "text/plain": [
       "(1, 'a')"
      ]
     },
     "execution_count": 8,
     "metadata": {},
     "output_type": "execute_result"
    }
   ],
   "source": [
    "tup1=(1,\"a\",True,1,\"b\",False)\n",
    "tup1[0:2]"
   ]
  },
  {
   "cell_type": "code",
   "execution_count": 9,
   "id": "3d2e6d32",
   "metadata": {},
   "outputs": [
    {
     "data": {
      "text/plain": [
       "(1, 'b')"
      ]
     },
     "execution_count": 9,
     "metadata": {},
     "output_type": "execute_result"
    }
   ],
   "source": [
    "tup1[-3:-1:1]"
   ]
  },
  {
   "cell_type": "code",
   "execution_count": 10,
   "id": "3c45944f",
   "metadata": {},
   "outputs": [
    {
     "data": {
      "text/plain": [
       "(True, 1)"
      ]
     },
     "execution_count": 10,
     "metadata": {},
     "output_type": "execute_result"
    }
   ],
   "source": [
    "tup1[2:4]"
   ]
  },
  {
   "cell_type": "code",
   "execution_count": 11,
   "id": "8e0fc3fc",
   "metadata": {},
   "outputs": [
    {
     "data": {
      "text/plain": [
       "1"
      ]
     },
     "execution_count": 11,
     "metadata": {},
     "output_type": "execute_result"
    }
   ],
   "source": [
    "tup1.count(0)"
   ]
  },
  {
   "cell_type": "code",
   "execution_count": 12,
   "id": "f3728745",
   "metadata": {},
   "outputs": [
    {
     "ename": "TypeError",
     "evalue": "'tuple' object does not support item assignment",
     "output_type": "error",
     "traceback": [
      "\u001b[1;31m---------------------------------------------------------------------------\u001b[0m",
      "\u001b[1;31mTypeError\u001b[0m                                 Traceback (most recent call last)",
      "Cell \u001b[1;32mIn[12], line 2\u001b[0m\n\u001b[0;32m      1\u001b[0m \u001b[38;5;66;03m#not inserted(immutable)\u001b[39;00m\n\u001b[1;32m----> 2\u001b[0m tup1[\u001b[38;5;241m2\u001b[39m]\u001b[38;5;241m=\u001b[39m\u001b[38;5;124m\"\u001b[39m\u001b[38;5;124mhello\u001b[39m\u001b[38;5;124m\"\u001b[39m\n",
      "\u001b[1;31mTypeError\u001b[0m: 'tuple' object does not support item assignment"
     ]
    }
   ],
   "source": [
    "#not inserted(immutable)\n",
    "tup1[2]=\"hello\""
   ]
  },
  {
   "cell_type": "code",
   "execution_count": 3,
   "id": "b21612bc",
   "metadata": {},
   "outputs": [
    {
     "data": {
      "text/plain": [
       "(1, 'a', True, 1, 'b', False)"
      ]
     },
     "execution_count": 3,
     "metadata": {},
     "output_type": "execute_result"
    }
   ],
   "source": [
    "tup1"
   ]
  },
  {
   "cell_type": "code",
   "execution_count": 4,
   "id": "cbf586de",
   "metadata": {},
   "outputs": [
    {
     "data": {
      "text/plain": [
       "6"
      ]
     },
     "execution_count": 4,
     "metadata": {},
     "output_type": "execute_result"
    }
   ],
   "source": [
    "len(tup1)"
   ]
  },
  {
   "cell_type": "code",
   "execution_count": 5,
   "id": "c7220442",
   "metadata": {},
   "outputs": [
    {
     "data": {
      "text/plain": [
       "(1, 'a', True, 2, 'b', False, 2, 3, 4)"
      ]
     },
     "execution_count": 5,
     "metadata": {},
     "output_type": "execute_result"
    }
   ],
   "source": [
    "tup1=(1,\"a\",True,2,\"b\",False)\n",
    "tup2=(2,3,4)\n",
    "tup1+tup2"
   ]
  },
  {
   "cell_type": "code",
   "execution_count": 6,
   "id": "c4f570d4",
   "metadata": {},
   "outputs": [
    {
     "data": {
      "text/plain": [
       "(2, 3, 4, 1, 'a', True, 2, 'b', False)"
      ]
     },
     "execution_count": 6,
     "metadata": {},
     "output_type": "execute_result"
    }
   ],
   "source": [
    "tup2+tup1"
   ]
  },
  {
   "cell_type": "code",
   "execution_count": 7,
   "id": "77794517",
   "metadata": {},
   "outputs": [
    {
     "data": {
      "text/plain": [
       "(1,\n",
       " 'a',\n",
       " True,\n",
       " 2,\n",
       " 'b',\n",
       " False,\n",
       " 1,\n",
       " 'a',\n",
       " True,\n",
       " 2,\n",
       " 'b',\n",
       " False,\n",
       " 1,\n",
       " 'a',\n",
       " True,\n",
       " 2,\n",
       " 'b',\n",
       " False)"
      ]
     },
     "execution_count": 7,
     "metadata": {},
     "output_type": "execute_result"
    }
   ],
   "source": [
    "tup1=(1,\"a\",True,2,\"b\",False)\n",
    "tup1*3"
   ]
  },
  {
   "cell_type": "code",
   "execution_count": 8,
   "id": "92e239dd",
   "metadata": {},
   "outputs": [
    {
     "data": {
      "text/plain": [
       "(2,\n",
       " 3,\n",
       " 4,\n",
       " 1,\n",
       " 'a',\n",
       " True,\n",
       " 2,\n",
       " 'b',\n",
       " False,\n",
       " 1,\n",
       " 'a',\n",
       " True,\n",
       " 2,\n",
       " 'b',\n",
       " False,\n",
       " 1,\n",
       " 'a',\n",
       " True,\n",
       " 2,\n",
       " 'b',\n",
       " False)"
      ]
     },
     "execution_count": 8,
     "metadata": {},
     "output_type": "execute_result"
    }
   ],
   "source": [
    "tup1=(1,\"a\",True,2,\"b\",False)\n",
    "tup2=(2,3,4)\n",
    "tup2+tup1*3"
   ]
  },
  {
   "cell_type": "code",
   "execution_count": 9,
   "id": "7e75df97",
   "metadata": {},
   "outputs": [
    {
     "data": {
      "text/plain": [
       "-7"
      ]
     },
     "execution_count": 9,
     "metadata": {},
     "output_type": "execute_result"
    }
   ],
   "source": [
    "tup1=(4,-7,8)\n",
    "min(tup1)"
   ]
  },
  {
   "cell_type": "code",
   "execution_count": 10,
   "id": "651b6acd",
   "metadata": {},
   "outputs": [
    {
     "data": {
      "text/plain": [
       "8"
      ]
     },
     "execution_count": 10,
     "metadata": {},
     "output_type": "execute_result"
    }
   ],
   "source": [
    "tup1=(4,-7,8)\n",
    "max(tup1)"
   ]
  },
  {
   "cell_type": "code",
   "execution_count": 11,
   "id": "136be5db",
   "metadata": {},
   "outputs": [
    {
     "data": {
      "text/plain": [
       "13"
      ]
     },
     "execution_count": 11,
     "metadata": {},
     "output_type": "execute_result"
    }
   ],
   "source": [
    "a='i am mruthula'\n",
    "len(a)"
   ]
  },
  {
   "cell_type": "code",
   "execution_count": 12,
   "id": "5129726c",
   "metadata": {},
   "outputs": [
    {
     "data": {
      "text/plain": [
       "'I AM MRUTHULA'"
      ]
     },
     "execution_count": 12,
     "metadata": {},
     "output_type": "execute_result"
    }
   ],
   "source": [
    "a='i am mruthula'\n",
    "a.upper()"
   ]
  },
  {
   "cell_type": "code",
   "execution_count": 13,
   "id": "7a913c28",
   "metadata": {},
   "outputs": [
    {
     "data": {
      "text/plain": [
       "3"
      ]
     },
     "execution_count": 13,
     "metadata": {},
     "output_type": "execute_result"
    }
   ],
   "source": [
    "a='i am mruthula'\n",
    "a.find(\"m\")"
   ]
  },
  {
   "cell_type": "code",
   "execution_count": 14,
   "id": "5cc7b983",
   "metadata": {},
   "outputs": [
    {
     "data": {
      "text/plain": [
       "'i am karan'"
      ]
     },
     "execution_count": 14,
     "metadata": {},
     "output_type": "execute_result"
    }
   ],
   "source": [
    "a.replace('mruthula','karan')"
   ]
  },
  {
   "cell_type": "code",
   "execution_count": 15,
   "id": "3f7154ad",
   "metadata": {},
   "outputs": [
    {
     "data": {
      "text/plain": [
       "'i like apple,mango'"
      ]
     },
     "execution_count": 15,
     "metadata": {},
     "output_type": "execute_result"
    }
   ],
   "source": [
    "fruit=('i like apple,mango')\n",
    "fruit"
   ]
  },
  {
   "cell_type": "code",
   "execution_count": 16,
   "id": "aa690b1a",
   "metadata": {},
   "outputs": [
    {
     "data": {
      "text/plain": [
       "['i like apple', 'mango']"
      ]
     },
     "execution_count": 16,
     "metadata": {},
     "output_type": "execute_result"
    }
   ],
   "source": [
    "fruit.split(',')"
   ]
  },
  {
   "cell_type": "code",
   "execution_count": 15,
   "id": "27c2407a",
   "metadata": {},
   "outputs": [],
   "source": [
    "#list\n",
    "\n"
   ]
  },
  {
   "cell_type": "code",
   "execution_count": 16,
   "id": "8e4cb559",
   "metadata": {},
   "outputs": [
    {
     "data": {
      "text/plain": [
       "[1, 2, 3, 4, 5, 6, 7, 8, 2, 3]"
      ]
     },
     "execution_count": 16,
     "metadata": {},
     "output_type": "execute_result"
    }
   ],
   "source": [
    "l1=[1,2,3,4,5]\n",
    "l2=[6,7,8,2,3]\n",
    "l1+l2"
   ]
  },
  {
   "cell_type": "code",
   "execution_count": 17,
   "id": "335be657",
   "metadata": {},
   "outputs": [
    {
     "data": {
      "text/plain": [
       "[6, 7, 8, 2, 3, 1, 2, 3, 4, 5]"
      ]
     },
     "execution_count": 17,
     "metadata": {},
     "output_type": "execute_result"
    }
   ],
   "source": [
    "l1=[1,2,3,4,5]\n",
    "l2=[6,7,8,2,3]\n",
    "l2+l1"
   ]
  },
  {
   "cell_type": "code",
   "execution_count": 18,
   "id": "1b1b68cc",
   "metadata": {},
   "outputs": [
    {
     "data": {
      "text/plain": [
       "[1, 2, 3, 4, 5, 1, 2, 3, 4, 5, 1, 2, 3, 4, 5]"
      ]
     },
     "execution_count": 18,
     "metadata": {},
     "output_type": "execute_result"
    }
   ],
   "source": [
    "l1*3"
   ]
  },
  {
   "cell_type": "code",
   "execution_count": 17,
   "id": "23614673",
   "metadata": {},
   "outputs": [
    {
     "data": {
      "text/plain": [
       "list"
      ]
     },
     "execution_count": 17,
     "metadata": {},
     "output_type": "execute_result"
    }
   ],
   "source": [
    "l1=[1,\"mru\",True]\n",
    "l1\n",
    "type(l1)"
   ]
  },
  {
   "cell_type": "code",
   "execution_count": 18,
   "id": "0f1098ef",
   "metadata": {},
   "outputs": [
    {
     "data": {
      "text/plain": [
       "True"
      ]
     },
     "execution_count": 18,
     "metadata": {},
     "output_type": "execute_result"
    }
   ],
   "source": [
    "l1[2]"
   ]
  },
  {
   "cell_type": "code",
   "execution_count": 19,
   "id": "15adb979",
   "metadata": {},
   "outputs": [
    {
     "data": {
      "text/plain": [
       "[1, 'mru']"
      ]
     },
     "execution_count": 19,
     "metadata": {},
     "output_type": "execute_result"
    }
   ],
   "source": [
    "l1[0:2]"
   ]
  },
  {
   "cell_type": "code",
   "execution_count": 20,
   "id": "0fc3beeb",
   "metadata": {},
   "outputs": [
    {
     "data": {
      "text/plain": [
       "[1, 'hello', 3.14, True]"
      ]
     },
     "execution_count": 20,
     "metadata": {},
     "output_type": "execute_result"
    }
   ],
   "source": [
    "l1=[1,\"hello\",3.14,True]\n",
    "l1"
   ]
  },
  {
   "cell_type": "code",
   "execution_count": 21,
   "id": "f63ba1fb",
   "metadata": {},
   "outputs": [
    {
     "ename": "SyntaxError",
     "evalue": "invalid syntax (2406392001.py, line 1)",
     "output_type": "error",
     "traceback": [
      "\u001b[1;36m  Cell \u001b[1;32mIn[21], line 1\u001b[1;36m\u001b[0m\n\u001b[1;33m    l1[]\u001b[0m\n\u001b[1;37m       ^\u001b[0m\n\u001b[1;31mSyntaxError\u001b[0m\u001b[1;31m:\u001b[0m invalid syntax\n"
     ]
    }
   ],
   "source": [
    "l1[]"
   ]
  },
  {
   "cell_type": "code",
   "execution_count": null,
   "id": "3ef5753f",
   "metadata": {},
   "outputs": [],
   "source": [
    "l1=[1,\"hello\",3.14,True]\n",
    "l1[1]=100\n",
    "l1"
   ]
  },
  {
   "cell_type": "code",
   "execution_count": null,
   "id": "63125a80",
   "metadata": {},
   "outputs": [],
   "source": [
    "l1=[1,\"hello\",3.14,True]\n",
    "l1.extend([34,67,99])#more element\n",
    "l1"
   ]
  },
  {
   "cell_type": "code",
   "execution_count": null,
   "id": "44b77b99",
   "metadata": {},
   "outputs": [],
   "source": []
  },
  {
   "cell_type": "code",
   "execution_count": null,
   "id": "6f877ccc",
   "metadata": {},
   "outputs": [],
   "source": []
  },
  {
   "cell_type": "code",
   "execution_count": null,
   "id": "7a004957",
   "metadata": {},
   "outputs": [],
   "source": []
  },
  {
   "cell_type": "code",
   "execution_count": null,
   "id": "6780a505",
   "metadata": {},
   "outputs": [],
   "source": []
  },
  {
   "cell_type": "code",
   "execution_count": null,
   "id": "538b2e86",
   "metadata": {},
   "outputs": [],
   "source": []
  },
  {
   "cell_type": "code",
   "execution_count": 22,
   "id": "c7e970db",
   "metadata": {},
   "outputs": [
    {
     "data": {
      "text/plain": [
       "[1, 'hello', 3.14, True, 'world']"
      ]
     },
     "execution_count": 22,
     "metadata": {},
     "output_type": "execute_result"
    }
   ],
   "source": [
    "l1=[1,\"hello\",3.14,True]\n",
    "l1.append(\"world\")\n",
    "l1"
   ]
  },
  {
   "cell_type": "code",
   "execution_count": 23,
   "id": "2b631da5",
   "metadata": {},
   "outputs": [
    {
     "data": {
      "text/plain": [
       "[3.24, 'divya', 56, 'megha', 'manu']"
      ]
     },
     "execution_count": 23,
     "metadata": {},
     "output_type": "execute_result"
    }
   ],
   "source": [
    "msg=[3.24,\"divya\",56,\"megha\"]#always add in the last but insert add specified position\n",
    "msg.append(\"manu\")\n",
    "msg"
   ]
  },
  {
   "cell_type": "code",
   "execution_count": null,
   "id": "a447561c",
   "metadata": {},
   "outputs": [],
   "source": []
  },
  {
   "cell_type": "code",
   "execution_count": null,
   "id": "1742fb47",
   "metadata": {},
   "outputs": [],
   "source": []
  },
  {
   "cell_type": "code",
   "execution_count": 24,
   "id": "e4cb1b89",
   "metadata": {},
   "outputs": [
    {
     "data": {
      "text/plain": [
       "[1, 'hello', 3.14, True]"
      ]
     },
     "execution_count": 24,
     "metadata": {},
     "output_type": "execute_result"
    }
   ],
   "source": [
    "l1.pop()\n",
    "l1"
   ]
  },
  {
   "cell_type": "code",
   "execution_count": 25,
   "id": "9b517be0",
   "metadata": {},
   "outputs": [
    {
     "data": {
      "text/plain": [
       "['orange', 'papaya']"
      ]
     },
     "execution_count": 25,
     "metadata": {},
     "output_type": "execute_result"
    }
   ],
   "source": [
    "fruit=[\"orange\",\"papaya\",\"apple\"] # last element remove usually pop\n",
    "fruit.pop()\n",
    "fruit"
   ]
  },
  {
   "cell_type": "code",
   "execution_count": 26,
   "id": "54dcc41d",
   "metadata": {},
   "outputs": [
    {
     "ename": "TypeError",
     "evalue": "'str' object cannot be interpreted as an integer",
     "output_type": "error",
     "traceback": [
      "\u001b[1;31m---------------------------------------------------------------------------\u001b[0m",
      "\u001b[1;31mTypeError\u001b[0m                                 Traceback (most recent call last)",
      "Cell \u001b[1;32mIn[26], line 1\u001b[0m\n\u001b[1;32m----> 1\u001b[0m \u001b[43mfruit\u001b[49m\u001b[38;5;241;43m.\u001b[39;49m\u001b[43mpop\u001b[49m\u001b[43m(\u001b[49m\u001b[38;5;124;43m\"\u001b[39;49m\u001b[38;5;124;43mpapaya\u001b[39;49m\u001b[38;5;124;43m\"\u001b[39;49m\u001b[43m)\u001b[49m\n\u001b[0;32m      2\u001b[0m fruit\n",
      "\u001b[1;31mTypeError\u001b[0m: 'str' object cannot be interpreted as an integer"
     ]
    }
   ],
   "source": [
    "fruit.pop(\"papaya\")\n",
    "fruit"
   ]
  },
  {
   "cell_type": "code",
   "execution_count": 29,
   "id": "96ca1fb4",
   "metadata": {},
   "outputs": [
    {
     "data": {
      "text/plain": [
       "[]"
      ]
     },
     "execution_count": 29,
     "metadata": {},
     "output_type": "execute_result"
    }
   ],
   "source": [
    "fruit.pop(0) #pass the index value it can remove\n",
    "fruit"
   ]
  },
  {
   "cell_type": "code",
   "execution_count": 30,
   "id": "b9034318",
   "metadata": {},
   "outputs": [
    {
     "ename": "SyntaxError",
     "evalue": "cannot delete function call (3447113258.py, line 1)",
     "output_type": "error",
     "traceback": [
      "\u001b[1;36m  Cell \u001b[1;32mIn[30], line 1\u001b[1;36m\u001b[0m\n\u001b[1;33m    del fruit(\"papaya\")\u001b[0m\n\u001b[1;37m        ^\u001b[0m\n\u001b[1;31mSyntaxError\u001b[0m\u001b[1;31m:\u001b[0m cannot delete function call\n"
     ]
    }
   ],
   "source": [
    "del fruit(\"papaya\")\n",
    "fruit"
   ]
  },
  {
   "cell_type": "code",
   "execution_count": 31,
   "id": "88ee620e",
   "metadata": {},
   "outputs": [],
   "source": [
    "msg=[3.24,\"divya\",56,\"megha\"]\n",
    "del msg[1]"
   ]
  },
  {
   "cell_type": "code",
   "execution_count": 32,
   "id": "3d86ff5d",
   "metadata": {},
   "outputs": [
    {
     "data": {
      "text/plain": [
       "[3.24, 56, 'megha']"
      ]
     },
     "execution_count": 32,
     "metadata": {},
     "output_type": "execute_result"
    }
   ],
   "source": [
    "msg"
   ]
  },
  {
   "cell_type": "code",
   "execution_count": 33,
   "id": "0b55b8ac",
   "metadata": {},
   "outputs": [],
   "source": [
    "del msg"
   ]
  },
  {
   "cell_type": "code",
   "execution_count": 34,
   "id": "e1c23a01",
   "metadata": {},
   "outputs": [
    {
     "ename": "NameError",
     "evalue": "name 'msg' is not defined",
     "output_type": "error",
     "traceback": [
      "\u001b[1;31m---------------------------------------------------------------------------\u001b[0m",
      "\u001b[1;31mNameError\u001b[0m                                 Traceback (most recent call last)",
      "Cell \u001b[1;32mIn[34], line 1\u001b[0m\n\u001b[1;32m----> 1\u001b[0m \u001b[43mmsg\u001b[49m\n",
      "\u001b[1;31mNameError\u001b[0m: name 'msg' is not defined"
     ]
    }
   ],
   "source": [
    "msg #permantely delete so showing not defines"
   ]
  },
  {
   "cell_type": "code",
   "execution_count": 35,
   "id": "dfddaeaf",
   "metadata": {},
   "outputs": [
    {
     "data": {
      "text/plain": [
       "[]"
      ]
     },
     "execution_count": 35,
     "metadata": {},
     "output_type": "execute_result"
    }
   ],
   "source": [
    "msg1=[3.24,\"divya\",56,\"megha\"] #clear comment not permately delete so return empty list\n",
    "msg1.clear()#not pass any argument inside the bracket \n",
    "msg1\n"
   ]
  },
  {
   "cell_type": "code",
   "execution_count": null,
   "id": "51d604f8",
   "metadata": {},
   "outputs": [],
   "source": []
  },
  {
   "cell_type": "code",
   "execution_count": 36,
   "id": "4a285af2",
   "metadata": {},
   "outputs": [
    {
     "ename": "IndexError",
     "evalue": "list assignment index out of range",
     "output_type": "error",
     "traceback": [
      "\u001b[1;31m---------------------------------------------------------------------------\u001b[0m",
      "\u001b[1;31mIndexError\u001b[0m                                Traceback (most recent call last)",
      "Cell \u001b[1;32mIn[36], line 1\u001b[0m\n\u001b[1;32m----> 1\u001b[0m \u001b[38;5;28;01mdel\u001b[39;00m fruit[\u001b[38;5;241m0\u001b[39m]\n",
      "\u001b[1;31mIndexError\u001b[0m: list assignment index out of range"
     ]
    }
   ],
   "source": [
    "del fruit[0]\n"
   ]
  },
  {
   "cell_type": "code",
   "execution_count": 37,
   "id": "9161acf1",
   "metadata": {},
   "outputs": [
    {
     "ename": "NameError",
     "evalue": "name 'fruit' is not defined",
     "output_type": "error",
     "traceback": [
      "\u001b[1;31m---------------------------------------------------------------------------\u001b[0m",
      "\u001b[1;31mNameError\u001b[0m                                 Traceback (most recent call last)",
      "Cell \u001b[1;32mIn[37], line 2\u001b[0m\n\u001b[0;32m      1\u001b[0m \u001b[38;5;28;01mdel\u001b[39;00m fruit\n\u001b[1;32m----> 2\u001b[0m \u001b[43mfruit\u001b[49m\n",
      "\u001b[1;31mNameError\u001b[0m: name 'fruit' is not defined"
     ]
    }
   ],
   "source": [
    "del fruit\n",
    "fruit"
   ]
  },
  {
   "cell_type": "code",
   "execution_count": 38,
   "id": "8c67998e",
   "metadata": {},
   "outputs": [
    {
     "data": {
      "text/plain": [
       "[True, 3.14, 'hello', 1]"
      ]
     },
     "execution_count": 38,
     "metadata": {},
     "output_type": "execute_result"
    }
   ],
   "source": [
    "l1.reverse()\n",
    "l1"
   ]
  },
  {
   "cell_type": "code",
   "execution_count": 39,
   "id": "593822c2",
   "metadata": {},
   "outputs": [
    {
     "data": {
      "text/plain": [
       "['golu', 3.14, 'mru']"
      ]
     },
     "execution_count": 39,
     "metadata": {},
     "output_type": "execute_result"
    }
   ],
   "source": [
    "l2=[\"mru\",3.14,\"golu\"]\n",
    "l2.reverse()\n",
    "l2\n"
   ]
  },
  {
   "cell_type": "code",
   "execution_count": 40,
   "id": "3a91f1cf",
   "metadata": {},
   "outputs": [
    {
     "ename": "TypeError",
     "evalue": "'builtin_function_or_method' object is not subscriptable",
     "output_type": "error",
     "traceback": [
      "\u001b[1;31m---------------------------------------------------------------------------\u001b[0m",
      "\u001b[1;31mTypeError\u001b[0m                                 Traceback (most recent call last)",
      "Cell \u001b[1;32mIn[40], line 2\u001b[0m\n\u001b[0;32m      1\u001b[0m l2\u001b[38;5;241m=\u001b[39m[\u001b[38;5;124m\"\u001b[39m\u001b[38;5;124mmru\u001b[39m\u001b[38;5;124m\"\u001b[39m,\u001b[38;5;241m3.14\u001b[39m,\u001b[38;5;124m\"\u001b[39m\u001b[38;5;124mgolu\u001b[39m\u001b[38;5;124m\"\u001b[39m]\n\u001b[1;32m----> 2\u001b[0m \u001b[43ml2\u001b[49m\u001b[38;5;241;43m.\u001b[39;49m\u001b[43mindex\u001b[49m\u001b[43m[\u001b[49m\u001b[38;5;241;43m0\u001b[39;49m\u001b[43m]\u001b[49m\n",
      "\u001b[1;31mTypeError\u001b[0m: 'builtin_function_or_method' object is not subscriptable"
     ]
    }
   ],
   "source": [
    "l2=[\"mru\",3.14,\"golu\"]\n",
    "l2.index[0]\n"
   ]
  },
  {
   "cell_type": "code",
   "execution_count": null,
   "id": "2b2bb7af",
   "metadata": {},
   "outputs": [],
   "source": [
    "l1=['all','mru','kar','nithu']\n",
    "l1.sort()\n",
    "l1"
   ]
  },
  {
   "cell_type": "code",
   "execution_count": null,
   "id": "5ceb5e8d",
   "metadata": {},
   "outputs": [],
   "source": [
    "l1.insert(0,'mar')\n",
    "l1"
   ]
  },
  {
   "cell_type": "code",
   "execution_count": null,
   "id": "08635c07",
   "metadata": {},
   "outputs": [],
   "source": [
    "l2=['mruthula','monika','karan']\n",
    "l2.insert(2,'mru')\n",
    "l2"
   ]
  },
  {
   "cell_type": "code",
   "execution_count": null,
   "id": "c890b9cb",
   "metadata": {},
   "outputs": [],
   "source": [
    "l2.remove(\"karan\")\n",
    "l2"
   ]
  },
  {
   "cell_type": "code",
   "execution_count": null,
   "id": "f7add20d",
   "metadata": {},
   "outputs": [],
   "source": [
    "#dictionary"
   ]
  },
  {
   "cell_type": "code",
   "execution_count": null,
   "id": "4739bbda",
   "metadata": {},
   "outputs": [],
   "source": [
    "fruit={'apple':50,'banana':20,'orange':45}\n",
    "type(fruit)"
   ]
  },
  {
   "cell_type": "code",
   "execution_count": null,
   "id": "431100d2",
   "metadata": {},
   "outputs": [],
   "source": [
    "fruit.keys()\n"
   ]
  },
  {
   "cell_type": "code",
   "execution_count": null,
   "id": "f7bca65f",
   "metadata": {},
   "outputs": [],
   "source": [
    "fruit.values()"
   ]
  },
  {
   "cell_type": "code",
   "execution_count": null,
   "id": "45a6df49",
   "metadata": {},
   "outputs": [],
   "source": [
    "fruit.items()"
   ]
  },
  {
   "cell_type": "code",
   "execution_count": null,
   "id": "432ea340",
   "metadata": {},
   "outputs": [],
   "source": [
    "fruit['mango']=300\n",
    "fruit"
   ]
  },
  {
   "cell_type": "code",
   "execution_count": null,
   "id": "05fd286c",
   "metadata": {},
   "outputs": [],
   "source": [
    "fruit['apple']=600\n",
    "fruit"
   ]
  },
  {
   "cell_type": "code",
   "execution_count": 41,
   "id": "3b803fcd",
   "metadata": {},
   "outputs": [
    {
     "data": {
      "text/plain": [
       "{'apple': 30,\n",
       " 'mango': 40,\n",
       " 'brinjal': 78,\n",
       " 'orange': 6,\n",
       " 'rasperry': 5,\n",
       " 'strawberry': 8}"
      ]
     },
     "execution_count": 41,
     "metadata": {},
     "output_type": "execute_result"
    }
   ],
   "source": [
    "fruit1={'apple':30,'mango':40,'brinjal':78}\n",
    "fruit2={'orange':6,'rasperry':5,'strawberry':8}\n",
    "fruit1.update(fruit2)\n",
    "fruit1\n"
   ]
  },
  {
   "cell_type": "code",
   "execution_count": 42,
   "id": "2e7149f1",
   "metadata": {},
   "outputs": [
    {
     "data": {
      "text/plain": [
       "{'apple': 30, 'brinjal': 78, 'orange': 6, 'rasperry': 5, 'strawberry': 8}"
      ]
     },
     "execution_count": 42,
     "metadata": {},
     "output_type": "execute_result"
    }
   ],
   "source": [
    "fruit1.pop('mango')\n",
    "fruit1"
   ]
  },
  {
   "cell_type": "markdown",
   "id": "b5114c42",
   "metadata": {},
   "source": [
    "# set"
   ]
  },
  {
   "cell_type": "code",
   "execution_count": null,
   "id": "c02b30ff",
   "metadata": {},
   "outputs": [],
   "source": [
    "set_data={34,45,32,98,80,23,55,44,55}"
   ]
  },
  {
   "cell_type": "code",
   "execution_count": null,
   "id": "3214dc76",
   "metadata": {},
   "outputs": [],
   "source": [
    "print(34 not in set_data)"
   ]
  },
  {
   "cell_type": "code",
   "execution_count": null,
   "id": "8f69be0f",
   "metadata": {},
   "outputs": [],
   "source": [
    "print(34  in set_data)"
   ]
  },
  {
   "cell_type": "code",
   "execution_count": null,
   "id": "b6393009",
   "metadata": {},
   "outputs": [],
   "source": [
    "set_data={34,45,32,98,80,23,55,44,55}"
   ]
  },
  {
   "cell_type": "code",
   "execution_count": null,
   "id": "aac6ea5e",
   "metadata": {},
   "outputs": [],
   "source": [
    "set_data.clear()"
   ]
  },
  {
   "cell_type": "code",
   "execution_count": null,
   "id": "c0ce97f5",
   "metadata": {},
   "outputs": [],
   "source": [
    "set_data"
   ]
  },
  {
   "cell_type": "code",
   "execution_count": null,
   "id": "975b5605",
   "metadata": {},
   "outputs": [],
   "source": [
    "del set_data"
   ]
  },
  {
   "cell_type": "code",
   "execution_count": null,
   "id": "28d894d8",
   "metadata": {},
   "outputs": [],
   "source": [
    "set_data"
   ]
  },
  {
   "cell_type": "code",
   "execution_count": null,
   "id": "ec793eae",
   "metadata": {},
   "outputs": [],
   "source": []
  },
  {
   "cell_type": "code",
   "execution_count": null,
   "id": "e905feb0",
   "metadata": {},
   "outputs": [],
   "source": [
    "s1={1,\"mru\",1,\"mru\"}  #duplicate value is not return #unordered #random\n",
    "s1"
   ]
  },
  {
   "cell_type": "code",
   "execution_count": null,
   "id": "421c3ca9",
   "metadata": {},
   "outputs": [],
   "source": [
    "s1"
   ]
  },
  {
   "cell_type": "code",
   "execution_count": null,
   "id": "f4d66942",
   "metadata": {},
   "outputs": [],
   "source": [
    "s1.add('kar')\n",
    "s1"
   ]
  },
  {
   "cell_type": "code",
   "execution_count": null,
   "id": "24ea2878",
   "metadata": {},
   "outputs": [],
   "source": [
    "s1.update({\"car\",2,3})\n",
    "s1"
   ]
  },
  {
   "cell_type": "code",
   "execution_count": null,
   "id": "219281da",
   "metadata": {},
   "outputs": [],
   "source": [
    "s1.remove('car')\n",
    "s1"
   ]
  },
  {
   "cell_type": "code",
   "execution_count": null,
   "id": "d4882258",
   "metadata": {},
   "outputs": [],
   "source": [
    "s1={1,2,3,4}\n",
    "s2={3,4,5,6}\n",
    "s1.union(s2)\n"
   ]
  },
  {
   "cell_type": "code",
   "execution_count": null,
   "id": "24f1e531",
   "metadata": {},
   "outputs": [],
   "source": [
    "s1={1,2,3,4}\n",
    "s2={3,4,5,6}\n",
    "s1.intersection(s2)"
   ]
  },
  {
   "cell_type": "code",
   "execution_count": null,
   "id": "6baed314",
   "metadata": {},
   "outputs": [],
   "source": [
    "l2=[\"mru\",3.14,\"golu\"]\n",
    "l2.delete()"
   ]
  },
  {
   "cell_type": "markdown",
   "id": "0c0e4dfc",
   "metadata": {},
   "source": [
    "# practice"
   ]
  },
  {
   "cell_type": "code",
   "execution_count": null,
   "id": "e948568f",
   "metadata": {},
   "outputs": [],
   "source": [
    "set_data={34,45,32,98,80,23,55,44,55}"
   ]
  },
  {
   "cell_type": "code",
   "execution_count": null,
   "id": "0b79d97e",
   "metadata": {},
   "outputs": [],
   "source": [
    "set_data"
   ]
  },
  {
   "cell_type": "code",
   "execution_count": null,
   "id": "e163b5f4",
   "metadata": {},
   "outputs": [],
   "source": [
    "print(set_data)  #random [unordered]"
   ]
  },
  {
   "cell_type": "code",
   "execution_count": null,
   "id": "03f62b6b",
   "metadata": {},
   "outputs": [],
   "source": [
    "type(set_data)"
   ]
  },
  {
   "cell_type": "code",
   "execution_count": null,
   "id": "6da2012c",
   "metadata": {},
   "outputs": [],
   "source": [
    "set_data[3] #because it is unordered waste of tym to predict the index"
   ]
  },
  {
   "cell_type": "code",
   "execution_count": null,
   "id": "dd4a47c2",
   "metadata": {},
   "outputs": [],
   "source": [
    "s={'qwery'}"
   ]
  },
  {
   "cell_type": "code",
   "execution_count": null,
   "id": "c18273e1",
   "metadata": {},
   "outputs": [],
   "source": [
    "s"
   ]
  },
  {
   "cell_type": "code",
   "execution_count": null,
   "id": "273365f9",
   "metadata": {},
   "outputs": [],
   "source": [
    "type(s)"
   ]
  },
  {
   "cell_type": "code",
   "execution_count": null,
   "id": "5b8686ba",
   "metadata": {},
   "outputs": [],
   "source": [
    "len(s)"
   ]
  },
  {
   "cell_type": "code",
   "execution_count": null,
   "id": "f27b70d2",
   "metadata": {},
   "outputs": [],
   "source": [
    "s1=set('qwery') #s1=set() #syntax for set"
   ]
  },
  {
   "cell_type": "code",
   "execution_count": null,
   "id": "2a1d73ef",
   "metadata": {},
   "outputs": [],
   "source": [
    "type(s1)"
   ]
  },
  {
   "cell_type": "code",
   "execution_count": null,
   "id": "cc29a34b",
   "metadata": {},
   "outputs": [],
   "source": [
    "s1"
   ]
  },
  {
   "cell_type": "code",
   "execution_count": null,
   "id": "7b4b597d",
   "metadata": {},
   "outputs": [],
   "source": [
    "len(s1)"
   ]
  },
  {
   "cell_type": "code",
   "execution_count": null,
   "id": "f7f60519",
   "metadata": {},
   "outputs": [],
   "source": [
    "fruit={'apple','banana','cherry'}"
   ]
  },
  {
   "cell_type": "code",
   "execution_count": null,
   "id": "1c6521e8",
   "metadata": {},
   "outputs": [],
   "source": [
    "for x in fruit:          #for is usedcto printing one by one\n",
    "    print(x)"
   ]
  },
  {
   "cell_type": "code",
   "execution_count": null,
   "id": "59a634c6",
   "metadata": {},
   "outputs": [],
   "source": [
    "numbers={22,33,45,44,55,88}"
   ]
  },
  {
   "cell_type": "code",
   "execution_count": null,
   "id": "1d8b40dc",
   "metadata": {},
   "outputs": [],
   "source": [
    "numbers"
   ]
  },
  {
   "cell_type": "code",
   "execution_count": null,
   "id": "6d06231e",
   "metadata": {},
   "outputs": [],
   "source": [
    "for x in numbers:\n",
    "    print(x)"
   ]
  },
  {
   "cell_type": "code",
   "execution_count": null,
   "id": "d56dd33e",
   "metadata": {},
   "outputs": [],
   "source": [
    "s3={22,33,45,44,55,88}"
   ]
  },
  {
   "cell_type": "code",
   "execution_count": null,
   "id": "42d0079c",
   "metadata": {},
   "outputs": [],
   "source": [
    "s3"
   ]
  },
  {
   "cell_type": "markdown",
   "id": "9edde649",
   "metadata": {},
   "source": [
    "#add"
   ]
  },
  {
   "cell_type": "code",
   "execution_count": null,
   "id": "fa388be1",
   "metadata": {},
   "outputs": [],
   "source": [
    "s3.add(16)   #add one item to the set"
   ]
  },
  {
   "cell_type": "code",
   "execution_count": null,
   "id": "ab8370f9",
   "metadata": {},
   "outputs": [],
   "source": [
    "s3"
   ]
  },
  {
   "cell_type": "code",
   "execution_count": null,
   "id": "4bcea181",
   "metadata": {},
   "outputs": [],
   "source": [
    "s3.add(90,60)   #does not pass two argument"
   ]
  },
  {
   "cell_type": "code",
   "execution_count": null,
   "id": "f67e73ab",
   "metadata": {},
   "outputs": [],
   "source": [
    "s3.add((77,76))   #can add immutable data type that is tuple\n",
    "                  #but considered as the one element"
   ]
  },
  {
   "cell_type": "code",
   "execution_count": null,
   "id": "0815f87d",
   "metadata": {},
   "outputs": [],
   "source": [
    "s3"
   ]
  },
  {
   "cell_type": "code",
   "execution_count": null,
   "id": "c7d1c34b",
   "metadata": {},
   "outputs": [],
   "source": [
    "s3.add([54,58])   #cannot add mutable data type that is list"
   ]
  },
  {
   "cell_type": "markdown",
   "id": "c39fd86e",
   "metadata": {},
   "source": [
    "#update()"
   ]
  },
  {
   "cell_type": "code",
   "execution_count": null,
   "id": "07075fad",
   "metadata": {},
   "outputs": [],
   "source": [
    "s3  "
   ]
  },
  {
   "cell_type": "code",
   "execution_count": null,
   "id": "032426db",
   "metadata": {},
   "outputs": [],
   "source": [
    "s3.update(55)"
   ]
  },
  {
   "cell_type": "code",
   "execution_count": null,
   "id": "6a44260c",
   "metadata": {},
   "outputs": [],
   "source": [
    "s3.update(17,65)"
   ]
  },
  {
   "cell_type": "code",
   "execution_count": null,
   "id": "9cdb3ee5",
   "metadata": {},
   "outputs": [],
   "source": [
    "s3.update([17])"
   ]
  },
  {
   "cell_type": "code",
   "execution_count": null,
   "id": "b7c7bc60",
   "metadata": {},
   "outputs": [],
   "source": [
    "s3"
   ]
  },
  {
   "cell_type": "code",
   "execution_count": null,
   "id": "c1cfb4fa",
   "metadata": {},
   "outputs": [],
   "source": [
    "s3.update((34))"
   ]
  },
  {
   "cell_type": "code",
   "execution_count": null,
   "id": "5793d7cc",
   "metadata": {},
   "outputs": [],
   "source": [
    "s3.update([41,31])"
   ]
  },
  {
   "cell_type": "code",
   "execution_count": null,
   "id": "0632ea22",
   "metadata": {},
   "outputs": [],
   "source": [
    "s3"
   ]
  },
  {
   "cell_type": "code",
   "execution_count": null,
   "id": "a47fdaf1",
   "metadata": {},
   "outputs": [],
   "source": [
    "s3.update((50,49))"
   ]
  },
  {
   "cell_type": "code",
   "execution_count": null,
   "id": "4e810f0c",
   "metadata": {},
   "outputs": [],
   "source": [
    "s3"
   ]
  },
  {
   "cell_type": "code",
   "execution_count": null,
   "id": "6d4060fe",
   "metadata": {},
   "outputs": [],
   "source": [
    "s3.update('more')"
   ]
  },
  {
   "cell_type": "code",
   "execution_count": null,
   "id": "ef4c5e79",
   "metadata": {},
   "outputs": [],
   "source": [
    "s3"
   ]
  },
  {
   "cell_type": "code",
   "execution_count": null,
   "id": "4f665c5e",
   "metadata": {},
   "outputs": [],
   "source": [
    "s3.add('more')"
   ]
  },
  {
   "cell_type": "code",
   "execution_count": null,
   "id": "be906d5d",
   "metadata": {},
   "outputs": [],
   "source": [
    "s3"
   ]
  },
  {
   "cell_type": "code",
   "execution_count": null,
   "id": "31a20a23",
   "metadata": {},
   "outputs": [],
   "source": [
    "s3.update(['kathy','nattu'])"
   ]
  },
  {
   "cell_type": "code",
   "execution_count": null,
   "id": "45e51752",
   "metadata": {},
   "outputs": [],
   "source": [
    "s3"
   ]
  },
  {
   "cell_type": "code",
   "execution_count": null,
   "id": "4742ec1d",
   "metadata": {},
   "outputs": [],
   "source": []
  },
  {
   "cell_type": "markdown",
   "id": "aae19265",
   "metadata": {},
   "source": [
    "#remove()"
   ]
  },
  {
   "cell_type": "code",
   "execution_count": null,
   "id": "a1559142",
   "metadata": {},
   "outputs": [],
   "source": [
    "fruit={'apple','banana','cherry'}    #removes the specified item"
   ]
  },
  {
   "cell_type": "code",
   "execution_count": null,
   "id": "b6a3cc6e",
   "metadata": {},
   "outputs": [],
   "source": [
    "fruit.remove(\"cherry\")"
   ]
  },
  {
   "cell_type": "code",
   "execution_count": null,
   "id": "5b835ac5",
   "metadata": {},
   "outputs": [],
   "source": [
    "fruit"
   ]
  },
  {
   "cell_type": "code",
   "execution_count": null,
   "id": "44d9b9bb",
   "metadata": {},
   "outputs": [],
   "source": [
    "fruit.pop()"
   ]
  },
  {
   "cell_type": "code",
   "execution_count": null,
   "id": "dd2dedb1",
   "metadata": {},
   "outputs": [],
   "source": [
    "fruit"
   ]
  },
  {
   "cell_type": "code",
   "execution_count": null,
   "id": "5a8ee0a1",
   "metadata": {},
   "outputs": [],
   "source": [
    "set1={1,2,3,4}\n",
    "set2={2,7,8,9}\n"
   ]
  },
  {
   "cell_type": "code",
   "execution_count": null,
   "id": "8278e97e",
   "metadata": {},
   "outputs": [],
   "source": [
    "set3=set1.union(set2)"
   ]
  },
  {
   "cell_type": "code",
   "execution_count": null,
   "id": "c1857787",
   "metadata": {},
   "outputs": [],
   "source": [
    "set3"
   ]
  },
  {
   "cell_type": "code",
   "execution_count": null,
   "id": "5637b9b6",
   "metadata": {},
   "outputs": [],
   "source": [
    "set3=set2.union(set1)"
   ]
  },
  {
   "cell_type": "code",
   "execution_count": null,
   "id": "c2857933",
   "metadata": {},
   "outputs": [],
   "source": [
    "set3"
   ]
  },
  {
   "cell_type": "code",
   "execution_count": null,
   "id": "a3ec5a93",
   "metadata": {},
   "outputs": [],
   "source": [
    "set3=set1.intersection(set2)"
   ]
  },
  {
   "cell_type": "code",
   "execution_count": null,
   "id": "b402e2a1",
   "metadata": {},
   "outputs": [],
   "source": [
    "set3"
   ]
  },
  {
   "cell_type": "code",
   "execution_count": null,
   "id": "e6a849a9",
   "metadata": {},
   "outputs": [],
   "source": [
    "set1"
   ]
  },
  {
   "cell_type": "code",
   "execution_count": null,
   "id": "e1efebba",
   "metadata": {},
   "outputs": [],
   "source": [
    "set2"
   ]
  },
  {
   "cell_type": "code",
   "execution_count": null,
   "id": "508d8faf",
   "metadata": {},
   "outputs": [],
   "source": [
    "set3=set2.difference(set1)"
   ]
  },
  {
   "cell_type": "code",
   "execution_count": null,
   "id": "a94cfe73",
   "metadata": {},
   "outputs": [],
   "source": [
    "set3=set1.difference(set2)"
   ]
  },
  {
   "cell_type": "code",
   "execution_count": null,
   "id": "192966cd",
   "metadata": {},
   "outputs": [],
   "source": [
    "set3"
   ]
  },
  {
   "cell_type": "code",
   "execution_count": null,
   "id": "def0cb44",
   "metadata": {},
   "outputs": [],
   "source": [
    "set3=set2.difference(set1)"
   ]
  },
  {
   "cell_type": "code",
   "execution_count": null,
   "id": "42496dd5",
   "metadata": {},
   "outputs": [],
   "source": [
    "set3"
   ]
  },
  {
   "cell_type": "markdown",
   "id": "a685c0f6",
   "metadata": {},
   "source": [
    "# copy"
   ]
  },
  {
   "cell_type": "code",
   "execution_count": null,
   "id": "e5d89397",
   "metadata": {},
   "outputs": [],
   "source": [
    "s={78,79,90,80,45,51}"
   ]
  },
  {
   "cell_type": "code",
   "execution_count": null,
   "id": "10b59b81",
   "metadata": {},
   "outputs": [],
   "source": [
    "s11=s                 #whwn we create this id is same as both"
   ]
  },
  {
   "cell_type": "code",
   "execution_count": null,
   "id": "be9db8a2",
   "metadata": {},
   "outputs": [],
   "source": [
    "s11"
   ]
  },
  {
   "cell_type": "code",
   "execution_count": null,
   "id": "cecf183b",
   "metadata": {},
   "outputs": [],
   "source": [
    "id(s)"
   ]
  },
  {
   "cell_type": "code",
   "execution_count": null,
   "id": "efdc0db1",
   "metadata": {},
   "outputs": [],
   "source": [
    "id(s11)"
   ]
  },
  {
   "cell_type": "code",
   "execution_count": null,
   "id": "36d52cd6",
   "metadata": {},
   "outputs": [],
   "source": [
    "s.add(44)"
   ]
  },
  {
   "cell_type": "code",
   "execution_count": null,
   "id": "c5b7a73c",
   "metadata": {},
   "outputs": [],
   "source": [
    "s"
   ]
  },
  {
   "cell_type": "code",
   "execution_count": null,
   "id": "b5722976",
   "metadata": {},
   "outputs": [],
   "source": [
    "s11             #not have original list also reflect in original list"
   ]
  },
  {
   "cell_type": "code",
   "execution_count": null,
   "id": "d562e20a",
   "metadata": {},
   "outputs": [],
   "source": []
  },
  {
   "cell_type": "code",
   "execution_count": null,
   "id": "8b8492f3",
   "metadata": {},
   "outputs": [],
   "source": [
    "s={78,79,90,80,45,51}"
   ]
  },
  {
   "cell_type": "code",
   "execution_count": null,
   "id": "a970b0c1",
   "metadata": {},
   "outputs": [],
   "source": [
    "s22=s.copy()"
   ]
  },
  {
   "cell_type": "code",
   "execution_count": null,
   "id": "c317cf19",
   "metadata": {},
   "outputs": [],
   "source": [
    "s22"
   ]
  },
  {
   "cell_type": "code",
   "execution_count": null,
   "id": "43c555df",
   "metadata": {},
   "outputs": [],
   "source": [
    "s.add((99,66,1))"
   ]
  },
  {
   "cell_type": "code",
   "execution_count": null,
   "id": "d2f8caf1",
   "metadata": {},
   "outputs": [],
   "source": [
    "s"
   ]
  },
  {
   "cell_type": "code",
   "execution_count": null,
   "id": "e8d7aa7e",
   "metadata": {},
   "outputs": [],
   "source": [
    "s22          #already have one copy original"
   ]
  },
  {
   "cell_type": "markdown",
   "id": "0a131753",
   "metadata": {},
   "source": [
    "# remove"
   ]
  },
  {
   "cell_type": "code",
   "execution_count": null,
   "id": "36d97d8c",
   "metadata": {},
   "outputs": [],
   "source": [
    "s={78,79,90,80,45,51}"
   ]
  },
  {
   "cell_type": "code",
   "execution_count": null,
   "id": "a6620c51",
   "metadata": {},
   "outputs": [],
   "source": [
    "s.remove(45)"
   ]
  },
  {
   "cell_type": "code",
   "execution_count": null,
   "id": "49ec36f0",
   "metadata": {},
   "outputs": [],
   "source": [
    "s"
   ]
  },
  {
   "cell_type": "code",
   "execution_count": null,
   "id": "a6f51b62",
   "metadata": {},
   "outputs": [],
   "source": [
    "s.remove(95)    #not present so gives error"
   ]
  },
  {
   "cell_type": "markdown",
   "id": "9d99c041",
   "metadata": {},
   "source": [
    "# discard"
   ]
  },
  {
   "cell_type": "code",
   "execution_count": null,
   "id": "3c2daec4",
   "metadata": {},
   "outputs": [],
   "source": [
    "s.discard(90)"
   ]
  },
  {
   "cell_type": "code",
   "execution_count": null,
   "id": "bb92cffb",
   "metadata": {},
   "outputs": [],
   "source": [
    "s"
   ]
  },
  {
   "cell_type": "code",
   "execution_count": null,
   "id": "f6643c49",
   "metadata": {},
   "outputs": [],
   "source": [
    "s.discard(85)   #it is not present does not showing error "
   ]
  },
  {
   "cell_type": "code",
   "execution_count": null,
   "id": "c82c6416",
   "metadata": {},
   "outputs": [],
   "source": [
    "s"
   ]
  },
  {
   "cell_type": "markdown",
   "id": "a577435a",
   "metadata": {},
   "source": [
    "# update"
   ]
  },
  {
   "cell_type": "code",
   "execution_count": null,
   "id": "0617968e",
   "metadata": {},
   "outputs": [],
   "source": [
    "s11={11,22,33,44,55,66}"
   ]
  },
  {
   "cell_type": "code",
   "execution_count": null,
   "id": "0cc27787",
   "metadata": {},
   "outputs": [],
   "source": [
    "s22={10,20,30,40,50,60}"
   ]
  },
  {
   "cell_type": "code",
   "execution_count": null,
   "id": "5c6b6c79",
   "metadata": {},
   "outputs": [],
   "source": [
    "s11.update(s22)"
   ]
  },
  {
   "cell_type": "code",
   "execution_count": null,
   "id": "fe657efc",
   "metadata": {},
   "outputs": [],
   "source": [
    "s11"
   ]
  },
  {
   "cell_type": "code",
   "execution_count": null,
   "id": "322c2e48",
   "metadata": {},
   "outputs": [],
   "source": [
    "s22"
   ]
  },
  {
   "cell_type": "markdown",
   "id": "d5675504",
   "metadata": {},
   "source": [
    "# union"
   ]
  },
  {
   "cell_type": "code",
   "execution_count": null,
   "id": "79f9d77e",
   "metadata": {},
   "outputs": [],
   "source": [
    "s11"
   ]
  },
  {
   "cell_type": "code",
   "execution_count": null,
   "id": "36899a06",
   "metadata": {},
   "outputs": [],
   "source": [
    "s11={11,22,33,44,55,66}"
   ]
  },
  {
   "cell_type": "code",
   "execution_count": null,
   "id": "a246c935",
   "metadata": {},
   "outputs": [],
   "source": [
    "s22={10,20,30,40,50,60}"
   ]
  },
  {
   "cell_type": "code",
   "execution_count": null,
   "id": "d7f7fa41",
   "metadata": {},
   "outputs": [],
   "source": [
    "s11|s22"
   ]
  },
  {
   "cell_type": "code",
   "execution_count": null,
   "id": "f2dd78f3",
   "metadata": {},
   "outputs": [],
   "source": [
    "s11.union(s22)"
   ]
  },
  {
   "cell_type": "markdown",
   "id": "cff14002",
   "metadata": {},
   "source": [
    "# intersection"
   ]
  },
  {
   "cell_type": "code",
   "execution_count": null,
   "id": "6638c892",
   "metadata": {},
   "outputs": [],
   "source": [
    "s11={11,22,33,44,55,66,50,60}"
   ]
  },
  {
   "cell_type": "code",
   "execution_count": null,
   "id": "a45da528",
   "metadata": {},
   "outputs": [],
   "source": [
    "s22={10,20,30,40,50,60}"
   ]
  },
  {
   "cell_type": "code",
   "execution_count": null,
   "id": "dff6e3cf",
   "metadata": {},
   "outputs": [],
   "source": [
    "s11&s22"
   ]
  },
  {
   "cell_type": "code",
   "execution_count": null,
   "id": "f386d813",
   "metadata": {},
   "outputs": [],
   "source": [
    "s11.intersection(s22)"
   ]
  },
  {
   "cell_type": "code",
   "execution_count": null,
   "id": "c9e59c8f",
   "metadata": {},
   "outputs": [],
   "source": [
    "s11.intersection_update(s22)"
   ]
  },
  {
   "cell_type": "code",
   "execution_count": null,
   "id": "97d55d44",
   "metadata": {},
   "outputs": [],
   "source": [
    "s11"
   ]
  },
  {
   "cell_type": "code",
   "execution_count": null,
   "id": "0076b336",
   "metadata": {},
   "outputs": [],
   "source": [
    "s22"
   ]
  },
  {
   "cell_type": "code",
   "execution_count": null,
   "id": "30cc7bf5",
   "metadata": {},
   "outputs": [],
   "source": [
    "set1={\"apple\",\"banana\",\"cherry\"}"
   ]
  },
  {
   "cell_type": "code",
   "execution_count": null,
   "id": "6c1d9502",
   "metadata": {},
   "outputs": [],
   "source": [
    "set2={\"apple\",\"google\",\"microsoft\"}"
   ]
  },
  {
   "cell_type": "code",
   "execution_count": null,
   "id": "ea523ce6",
   "metadata": {},
   "outputs": [],
   "source": [
    "set1-set2"
   ]
  },
  {
   "cell_type": "code",
   "execution_count": null,
   "id": "cd29827f",
   "metadata": {},
   "outputs": [],
   "source": [
    "a={1,3,5,7,9}"
   ]
  },
  {
   "cell_type": "code",
   "execution_count": null,
   "id": "4b8fa902",
   "metadata": {},
   "outputs": [],
   "source": [
    "b={2,3,5,7,11}"
   ]
  },
  {
   "cell_type": "code",
   "execution_count": null,
   "id": "c75a5dc4",
   "metadata": {},
   "outputs": [],
   "source": [
    "a-b"
   ]
  },
  {
   "cell_type": "code",
   "execution_count": null,
   "id": "78d678d2",
   "metadata": {},
   "outputs": [],
   "source": [
    "b-a"
   ]
  },
  {
   "cell_type": "code",
   "execution_count": null,
   "id": "b7710920",
   "metadata": {},
   "outputs": [],
   "source": [
    "a.difference_update(b)"
   ]
  },
  {
   "cell_type": "code",
   "execution_count": null,
   "id": "24040e0b",
   "metadata": {},
   "outputs": [],
   "source": [
    "a"
   ]
  },
  {
   "cell_type": "code",
   "execution_count": null,
   "id": "9099ca0b",
   "metadata": {},
   "outputs": [],
   "source": [
    "b"
   ]
  },
  {
   "cell_type": "markdown",
   "id": "f203a0ae",
   "metadata": {},
   "source": [
    "# symmetric difference"
   ]
  },
  {
   "cell_type": "code",
   "execution_count": null,
   "id": "cea50f04",
   "metadata": {},
   "outputs": [],
   "source": [
    "#removing common values and print the remaining values in both sets"
   ]
  },
  {
   "cell_type": "code",
   "execution_count": null,
   "id": "ad63efd0",
   "metadata": {},
   "outputs": [],
   "source": [
    "s={34,67,21,56,89,78}\n",
    "s1={34,56,11,89,22,90,21,5}"
   ]
  },
  {
   "cell_type": "code",
   "execution_count": null,
   "id": "5a44b256",
   "metadata": {},
   "outputs": [],
   "source": [
    "s2=s^s1"
   ]
  },
  {
   "cell_type": "code",
   "execution_count": null,
   "id": "8536a4c1",
   "metadata": {},
   "outputs": [],
   "source": [
    "s2"
   ]
  },
  {
   "cell_type": "code",
   "execution_count": null,
   "id": "67a236a2",
   "metadata": {},
   "outputs": [],
   "source": [
    "s3=s.symmetric_difference(s1)"
   ]
  },
  {
   "cell_type": "code",
   "execution_count": null,
   "id": "c88701a1",
   "metadata": {},
   "outputs": [],
   "source": [
    "s3"
   ]
  },
  {
   "cell_type": "code",
   "execution_count": null,
   "id": "c06980ff",
   "metadata": {},
   "outputs": [],
   "source": [
    "s.symmetric_difference_update(s1)"
   ]
  },
  {
   "cell_type": "code",
   "execution_count": null,
   "id": "336c7b9c",
   "metadata": {},
   "outputs": [],
   "source": [
    "s"
   ]
  },
  {
   "cell_type": "code",
   "execution_count": null,
   "id": "5b26e26a",
   "metadata": {},
   "outputs": [],
   "source": []
  },
  {
   "cell_type": "code",
   "execution_count": null,
   "id": "a7fc3a8c",
   "metadata": {},
   "outputs": [],
   "source": []
  },
  {
   "cell_type": "markdown",
   "id": "7254400f",
   "metadata": {},
   "source": [
    "# frozen set"
   ]
  },
  {
   "cell_type": "code",
   "execution_count": null,
   "id": "9b485dff",
   "metadata": {},
   "outputs": [],
   "source": [
    "f=frozenset({11,12,14,14,16,77})"
   ]
  },
  {
   "cell_type": "code",
   "execution_count": null,
   "id": "1aa6e56d",
   "metadata": {},
   "outputs": [],
   "source": [
    "type(f)"
   ]
  },
  {
   "cell_type": "code",
   "execution_count": null,
   "id": "ee21a7e4",
   "metadata": {},
   "outputs": [],
   "source": [
    "f.clear()"
   ]
  },
  {
   "cell_type": "code",
   "execution_count": null,
   "id": "de406078",
   "metadata": {},
   "outputs": [],
   "source": [
    "del f"
   ]
  },
  {
   "cell_type": "code",
   "execution_count": null,
   "id": "1eb41297",
   "metadata": {},
   "outputs": [],
   "source": [
    "f"
   ]
  },
  {
   "cell_type": "code",
   "execution_count": null,
   "id": "963c65fc",
   "metadata": {},
   "outputs": [],
   "source": [
    "f12=frozenset({11,22,33,44,55,66,77,88})"
   ]
  },
  {
   "cell_type": "code",
   "execution_count": null,
   "id": "48662a9e",
   "metadata": {},
   "outputs": [],
   "source": [
    "print(f12)"
   ]
  },
  {
   "cell_type": "code",
   "execution_count": null,
   "id": "c96e1c8f",
   "metadata": {},
   "outputs": [],
   "source": [
    "type(f12)"
   ]
  },
  {
   "cell_type": "code",
   "execution_count": null,
   "id": "6dfd91ef",
   "metadata": {},
   "outputs": [],
   "source": [
    "f13=frozenset(55)"
   ]
  },
  {
   "cell_type": "code",
   "execution_count": null,
   "id": "6bad5d13",
   "metadata": {},
   "outputs": [],
   "source": [
    "f14=frozenset(\"teena\")"
   ]
  },
  {
   "cell_type": "code",
   "execution_count": null,
   "id": "eae708d2",
   "metadata": {},
   "outputs": [],
   "source": [
    "f14"
   ]
  },
  {
   "cell_type": "code",
   "execution_count": null,
   "id": "e44397ad",
   "metadata": {},
   "outputs": [],
   "source": [
    "f12=frozenset({11,22,33,44,55,66,77,88})"
   ]
  },
  {
   "cell_type": "code",
   "execution_count": null,
   "id": "0e05d1be",
   "metadata": {},
   "outputs": [],
   "source": []
  },
  {
   "cell_type": "code",
   "execution_count": null,
   "id": "db808c26",
   "metadata": {},
   "outputs": [],
   "source": []
  },
  {
   "cell_type": "code",
   "execution_count": null,
   "id": "2263d9c5",
   "metadata": {},
   "outputs": [],
   "source": []
  },
  {
   "cell_type": "code",
   "execution_count": null,
   "id": "9230cef3",
   "metadata": {},
   "outputs": [],
   "source": []
  },
  {
   "cell_type": "code",
   "execution_count": null,
   "id": "bcd48c1c",
   "metadata": {},
   "outputs": [],
   "source": []
  },
  {
   "cell_type": "code",
   "execution_count": null,
   "id": "1e3750e0",
   "metadata": {},
   "outputs": [],
   "source": []
  },
  {
   "cell_type": "code",
   "execution_count": null,
   "id": "f3183182",
   "metadata": {},
   "outputs": [],
   "source": []
  },
  {
   "cell_type": "code",
   "execution_count": null,
   "id": "b4b909bf",
   "metadata": {},
   "outputs": [],
   "source": []
  },
  {
   "cell_type": "markdown",
   "id": "de4702c8",
   "metadata": {},
   "source": [
    "# nested list"
   ]
  },
  {
   "cell_type": "code",
   "execution_count": null,
   "id": "c3568ee3",
   "metadata": {},
   "outputs": [],
   "source": []
  },
  {
   "cell_type": "code",
   "execution_count": null,
   "id": "70b9ed7e",
   "metadata": {},
   "outputs": [],
   "source": [
    "nest_1=[34,67,\"divya\",[26,78],45,12]\n",
    "len(nest_1)"
   ]
  },
  {
   "cell_type": "code",
   "execution_count": null,
   "id": "ded50f50",
   "metadata": {},
   "outputs": [],
   "source": [
    "nest_1.append(77)\n",
    "nest_1"
   ]
  },
  {
   "cell_type": "code",
   "execution_count": null,
   "id": "0ab458b5",
   "metadata": {},
   "outputs": [],
   "source": [
    "nest_1[3].append(54)\n",
    "nest_1"
   ]
  },
  {
   "cell_type": "code",
   "execution_count": null,
   "id": "5bd2119d",
   "metadata": {},
   "outputs": [],
   "source": [
    "nest_1[1].append(14)\n",
    "nest_1"
   ]
  },
  {
   "cell_type": "code",
   "execution_count": null,
   "id": "1d7aebe1",
   "metadata": {},
   "outputs": [],
   "source": [
    "nest_1.append([43,88,99])\n",
    "nest_1"
   ]
  },
  {
   "cell_type": "code",
   "execution_count": null,
   "id": "23174af0",
   "metadata": {},
   "outputs": [],
   "source": [
    "nest_1[7]"
   ]
  },
  {
   "cell_type": "code",
   "execution_count": null,
   "id": "28956a32",
   "metadata": {},
   "outputs": [],
   "source": [
    "nest_1[7][2]"
   ]
  },
  {
   "cell_type": "code",
   "execution_count": null,
   "id": "f6ce5dca",
   "metadata": {},
   "outputs": [],
   "source": [
    "nest_1.insert(2,[66,77])\n",
    "nest_1"
   ]
  },
  {
   "cell_type": "code",
   "execution_count": null,
   "id": "0f4b068e",
   "metadata": {},
   "outputs": [],
   "source": [
    "nest_1.remove('divya')\n",
    "nest_1"
   ]
  },
  {
   "cell_type": "code",
   "execution_count": null,
   "id": "5ba2ae6f",
   "metadata": {},
   "outputs": [],
   "source": [
    "nest_1.pop(2)\n",
    "nest_1"
   ]
  },
  {
   "cell_type": "code",
   "execution_count": null,
   "id": "19dd791e",
   "metadata": {},
   "outputs": [],
   "source": [
    "nest_1[2].remove(78)\n",
    "nest_1"
   ]
  },
  {
   "cell_type": "code",
   "execution_count": null,
   "id": "4c2ff53a",
   "metadata": {},
   "outputs": [],
   "source": [
    "nest_1[2].pop()\n",
    "nest_1"
   ]
  },
  {
   "cell_type": "markdown",
   "id": "ff36553f",
   "metadata": {},
   "source": [
    "# dictionery"
   ]
  },
  {
   "cell_type": "code",
   "execution_count": null,
   "id": "591d0a9a",
   "metadata": {},
   "outputs": [],
   "source": [
    "vehicle={\"brand\":\"ford\",\"model\":\"mustag\",\"year\":1991}"
   ]
  },
  {
   "cell_type": "code",
   "execution_count": null,
   "id": "9cb5af98",
   "metadata": {},
   "outputs": [],
   "source": [
    "x=vehicle"
   ]
  },
  {
   "cell_type": "code",
   "execution_count": null,
   "id": "01bfd1aa",
   "metadata": {},
   "outputs": [],
   "source": [
    "x"
   ]
  },
  {
   "cell_type": "code",
   "execution_count": null,
   "id": "a1f8d248",
   "metadata": {},
   "outputs": [],
   "source": [
    "x=vehicle[\"model\"]"
   ]
  },
  {
   "cell_type": "code",
   "execution_count": null,
   "id": "44ddf888",
   "metadata": {},
   "outputs": [],
   "source": [
    "x"
   ]
  },
  {
   "cell_type": "code",
   "execution_count": null,
   "id": "fc44c169",
   "metadata": {},
   "outputs": [],
   "source": [
    "x=vehicle.get(\"model\")"
   ]
  },
  {
   "cell_type": "code",
   "execution_count": null,
   "id": "7f47e0d8",
   "metadata": {},
   "outputs": [],
   "source": [
    "x"
   ]
  },
  {
   "cell_type": "code",
   "execution_count": null,
   "id": "4de5e0b7",
   "metadata": {},
   "outputs": [],
   "source": [
    "x=vehicle.get(\"year\")"
   ]
  },
  {
   "cell_type": "code",
   "execution_count": null,
   "id": "a03e438c",
   "metadata": {},
   "outputs": [],
   "source": [
    "x"
   ]
  },
  {
   "cell_type": "code",
   "execution_count": null,
   "id": "583ca065",
   "metadata": {},
   "outputs": [],
   "source": [
    "thisdict={\"brand\":\"ford\",\"model\":\"mustag\",\"year\":1991}"
   ]
  },
  {
   "cell_type": "code",
   "execution_count": null,
   "id": "3684d5ec",
   "metadata": {},
   "outputs": [],
   "source": [
    "print(thisdict)"
   ]
  },
  {
   "cell_type": "code",
   "execution_count": null,
   "id": "4cdcb97c",
   "metadata": {},
   "outputs": [],
   "source": [
    "thisdict.pop(\"model\")"
   ]
  },
  {
   "cell_type": "code",
   "execution_count": null,
   "id": "82872ccd",
   "metadata": {},
   "outputs": [],
   "source": [
    "thisdict"
   ]
  },
  {
   "cell_type": "code",
   "execution_count": null,
   "id": "f0ee08d5",
   "metadata": {},
   "outputs": [],
   "source": [
    "thisdict[\"color\"]=\"red\"\n",
    "print(thisdict)"
   ]
  },
  {
   "cell_type": "code",
   "execution_count": null,
   "id": "8fd04a53",
   "metadata": {},
   "outputs": [],
   "source": [
    "x=thisdict[\"color\"]"
   ]
  },
  {
   "cell_type": "code",
   "execution_count": null,
   "id": "2718ffca",
   "metadata": {},
   "outputs": [],
   "source": [
    "x"
   ]
  },
  {
   "cell_type": "markdown",
   "id": "9b104c6d",
   "metadata": {},
   "source": [
    "# practice"
   ]
  },
  {
   "cell_type": "code",
   "execution_count": null,
   "id": "232297ce",
   "metadata": {},
   "outputs": [],
   "source": [
    "d1={\"brand\":\"ford\",\"model\":\"mustag\",\"year\":1992,\"demand\":\"more\"}"
   ]
  },
  {
   "cell_type": "code",
   "execution_count": null,
   "id": "35ba854d",
   "metadata": {},
   "outputs": [],
   "source": [
    "d1"
   ]
  },
  {
   "cell_type": "code",
   "execution_count": null,
   "id": "1a529793",
   "metadata": {},
   "outputs": [],
   "source": [
    "type(d1)"
   ]
  },
  {
   "cell_type": "code",
   "execution_count": null,
   "id": "983df9b6",
   "metadata": {},
   "outputs": [],
   "source": [
    "d1={\"brand\":\"ford\",\"model\":\"mustag\",\"year\":1992,\"demand\":\"more\",\"brand\":\"maruthi\"}"
   ]
  },
  {
   "cell_type": "code",
   "execution_count": null,
   "id": "3abfd68e",
   "metadata": {},
   "outputs": [],
   "source": [
    "d1"
   ]
  },
  {
   "cell_type": "code",
   "execution_count": null,
   "id": "f215737e",
   "metadata": {},
   "outputs": [],
   "source": [
    "d1={\"brand\":\"ford\",\"model\":\"mustag\",\"year\":1992,\"demand\":\"more\"}"
   ]
  },
  {
   "cell_type": "code",
   "execution_count": null,
   "id": "2e9781d8",
   "metadata": {},
   "outputs": [],
   "source": [
    "d1.get(\"brand\")"
   ]
  },
  {
   "cell_type": "code",
   "execution_count": null,
   "id": "2da7c394",
   "metadata": {},
   "outputs": [],
   "source": [
    "d1[\"model\"]#get"
   ]
  },
  {
   "cell_type": "code",
   "execution_count": null,
   "id": "57e74afe",
   "metadata": {},
   "outputs": [],
   "source": [
    "d1[\"brand\"]=\"bmw\"#update"
   ]
  },
  {
   "cell_type": "code",
   "execution_count": null,
   "id": "b90bfff5",
   "metadata": {},
   "outputs": [],
   "source": [
    "d1"
   ]
  },
  {
   "cell_type": "code",
   "execution_count": null,
   "id": "6b6d27ed",
   "metadata": {},
   "outputs": [],
   "source": [
    "d1={\"brand\":\"ford\",\"model\":\"mustag\",\"year\":1992,\"demand\":\"more\"}"
   ]
  },
  {
   "cell_type": "code",
   "execution_count": null,
   "id": "03e566ed",
   "metadata": {},
   "outputs": [],
   "source": [
    "d1[\"rupees\"]=10,000"
   ]
  },
  {
   "cell_type": "code",
   "execution_count": null,
   "id": "e4816c1d",
   "metadata": {},
   "outputs": [],
   "source": [
    "d1"
   ]
  },
  {
   "cell_type": "code",
   "execution_count": null,
   "id": "187d5746",
   "metadata": {},
   "outputs": [],
   "source": [
    "d1.pop(\"demand\")"
   ]
  },
  {
   "cell_type": "code",
   "execution_count": null,
   "id": "c284c2fa",
   "metadata": {},
   "outputs": [],
   "source": [
    "d1"
   ]
  },
  {
   "cell_type": "code",
   "execution_count": null,
   "id": "bea4ded0",
   "metadata": {},
   "outputs": [],
   "source": [
    "d1.popitem()"
   ]
  },
  {
   "cell_type": "code",
   "execution_count": null,
   "id": "dc75785f",
   "metadata": {},
   "outputs": [],
   "source": [
    "d1"
   ]
  },
  {
   "cell_type": "code",
   "execution_count": null,
   "id": "0486bdf3",
   "metadata": {},
   "outputs": [],
   "source": [
    "d1={\"brand\":\"ford\",\"model\":\"mustag\",\"year\":1992,\"demand\":\"more\"}"
   ]
  },
  {
   "cell_type": "code",
   "execution_count": null,
   "id": "2c64d5e2",
   "metadata": {},
   "outputs": [],
   "source": [
    "d1.clear()"
   ]
  },
  {
   "cell_type": "code",
   "execution_count": null,
   "id": "62936ed3",
   "metadata": {},
   "outputs": [],
   "source": [
    "d1"
   ]
  },
  {
   "cell_type": "code",
   "execution_count": null,
   "id": "f14fc8d4",
   "metadata": {},
   "outputs": [],
   "source": [
    "del d1"
   ]
  },
  {
   "cell_type": "code",
   "execution_count": null,
   "id": "2784d3ad",
   "metadata": {},
   "outputs": [],
   "source": [
    "d1"
   ]
  },
  {
   "cell_type": "code",
   "execution_count": null,
   "id": "d78e5321",
   "metadata": {},
   "outputs": [],
   "source": [
    "d1={\"brand\":\"ford\",\"model\":\"mustag\",\"year\":1992,\"demand\":\"more\"}"
   ]
  },
  {
   "cell_type": "code",
   "execution_count": null,
   "id": "ae04e973",
   "metadata": {},
   "outputs": [],
   "source": [
    "d1.keys()"
   ]
  },
  {
   "cell_type": "code",
   "execution_count": null,
   "id": "502a8405",
   "metadata": {},
   "outputs": [],
   "source": [
    "d1.values()"
   ]
  },
  {
   "cell_type": "code",
   "execution_count": null,
   "id": "5f033266",
   "metadata": {},
   "outputs": [],
   "source": [
    "d1.items()"
   ]
  },
  {
   "cell_type": "code",
   "execution_count": null,
   "id": "6a877514",
   "metadata": {},
   "outputs": [],
   "source": [
    "dir (d1)"
   ]
  },
  {
   "cell_type": "code",
   "execution_count": null,
   "id": "5a0a8c71",
   "metadata": {},
   "outputs": [],
   "source": [
    "len(d1)"
   ]
  },
  {
   "cell_type": "code",
   "execution_count": null,
   "id": "a165930f",
   "metadata": {},
   "outputs": [],
   "source": [
    "d1"
   ]
  },
  {
   "cell_type": "code",
   "execution_count": null,
   "id": "ac86d3ba",
   "metadata": {},
   "outputs": [],
   "source": [
    "d1.clear()"
   ]
  },
  {
   "cell_type": "code",
   "execution_count": null,
   "id": "b4548fef",
   "metadata": {},
   "outputs": [],
   "source": [
    "d1"
   ]
  },
  {
   "cell_type": "code",
   "execution_count": null,
   "id": "da6e4f4f",
   "metadata": {},
   "outputs": [],
   "source": [
    "d1[\"name\"]=\"mru\""
   ]
  },
  {
   "cell_type": "code",
   "execution_count": null,
   "id": "f27e2f54",
   "metadata": {},
   "outputs": [],
   "source": [
    "d1"
   ]
  },
  {
   "cell_type": "code",
   "execution_count": null,
   "id": "f218c3b8",
   "metadata": {},
   "outputs": [],
   "source": [
    "d2={\"name\":[\"mru\",\"saras\",\"moni\",\"saani\"],\"age\":[13,18,21,22],\"course\":[\"EEE,ECE,CSE,EIE\"]}"
   ]
  },
  {
   "cell_type": "code",
   "execution_count": null,
   "id": "e57e8948",
   "metadata": {},
   "outputs": [],
   "source": [
    "d2"
   ]
  },
  {
   "cell_type": "code",
   "execution_count": null,
   "id": "5aa2e112",
   "metadata": {},
   "outputs": [],
   "source": [
    "d2.keys()"
   ]
  },
  {
   "cell_type": "code",
   "execution_count": null,
   "id": "b6e21776",
   "metadata": {},
   "outputs": [],
   "source": [
    "d2.values()"
   ]
  },
  {
   "cell_type": "code",
   "execution_count": null,
   "id": "27e2fb40",
   "metadata": {},
   "outputs": [],
   "source": [
    "d2[\"age\"]"
   ]
  },
  {
   "cell_type": "code",
   "execution_count": null,
   "id": "05cf29d8",
   "metadata": {},
   "outputs": [],
   "source": [
    "type (d2[\"age\"])"
   ]
  },
  {
   "cell_type": "code",
   "execution_count": null,
   "id": "f5f9bbb2",
   "metadata": {},
   "outputs": [],
   "source": [
    "d2[\"name\"][1]"
   ]
  },
  {
   "cell_type": "code",
   "execution_count": null,
   "id": "6da049a4",
   "metadata": {},
   "outputs": [],
   "source": [
    "d2[\"name\"]=\"tina\""
   ]
  },
  {
   "cell_type": "code",
   "execution_count": null,
   "id": "4978d61c",
   "metadata": {},
   "outputs": [],
   "source": [
    "d2"
   ]
  },
  {
   "cell_type": "code",
   "execution_count": null,
   "id": "24d64bd5",
   "metadata": {},
   "outputs": [],
   "source": [
    "d2[\"id\"]=1,2,3,4"
   ]
  },
  {
   "cell_type": "code",
   "execution_count": null,
   "id": "53190074",
   "metadata": {},
   "outputs": [],
   "source": [
    "d2"
   ]
  },
  {
   "cell_type": "code",
   "execution_count": null,
   "id": "33f11981",
   "metadata": {},
   "outputs": [],
   "source": [
    "d2['age'].append(23)"
   ]
  },
  {
   "cell_type": "code",
   "execution_count": null,
   "id": "ed49b859",
   "metadata": {},
   "outputs": [],
   "source": [
    "d2"
   ]
  },
  {
   "cell_type": "code",
   "execution_count": null,
   "id": "158e42ad",
   "metadata": {},
   "outputs": [],
   "source": [
    "copy_d2=d2.copy()"
   ]
  },
  {
   "cell_type": "code",
   "execution_count": null,
   "id": "eb553910",
   "metadata": {},
   "outputs": [],
   "source": [
    "d2"
   ]
  },
  {
   "cell_type": "code",
   "execution_count": null,
   "id": "1e8de6d4",
   "metadata": {},
   "outputs": [],
   "source": [
    "copy_d2"
   ]
  },
  {
   "cell_type": "code",
   "execution_count": null,
   "id": "3b578969",
   "metadata": {},
   "outputs": [],
   "source": [
    "d2"
   ]
  },
  {
   "cell_type": "code",
   "execution_count": null,
   "id": "c0e5a741",
   "metadata": {},
   "outputs": [],
   "source": [
    "d2={\"name\":[\"mru\",\"saras\",\"moni\",\"saani\"],\"age\":[13,18,21,22],\"course\":[\"EEE,ECE,CSE,EIE\"]}"
   ]
  },
  {
   "cell_type": "code",
   "execution_count": null,
   "id": "cdfe98ba",
   "metadata": {},
   "outputs": [],
   "source": [
    "d2"
   ]
  },
  {
   "cell_type": "code",
   "execution_count": null,
   "id": "e0244fb7",
   "metadata": {},
   "outputs": [],
   "source": [
    "copy_d2"
   ]
  },
  {
   "cell_type": "code",
   "execution_count": null,
   "id": "166a4775",
   "metadata": {},
   "outputs": [],
   "source": [
    "d2"
   ]
  },
  {
   "cell_type": "code",
   "execution_count": null,
   "id": "271e7aa0",
   "metadata": {},
   "outputs": [],
   "source": []
  }
 ],
 "metadata": {
  "kernelspec": {
   "display_name": "Python 3 (ipykernel)",
   "language": "python",
   "name": "python3"
  },
  "language_info": {
   "codemirror_mode": {
    "name": "ipython",
    "version": 3
   },
   "file_extension": ".py",
   "mimetype": "text/x-python",
   "name": "python",
   "nbconvert_exporter": "python",
   "pygments_lexer": "ipython3",
   "version": "3.10.9"
  }
 },
 "nbformat": 4,
 "nbformat_minor": 5
}
